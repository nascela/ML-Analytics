{
 "cells": [
  {
   "cell_type": "code",
   "execution_count": 3,
   "metadata": {
    "collapsed": true,
    "ExecuteTime": {
     "end_time": "2023-05-16T13:44:59.277433Z",
     "start_time": "2023-05-16T13:44:57.828033Z"
    }
   },
   "outputs": [
    {
     "name": "stderr",
     "output_type": "stream",
     "text": [
      "/Users/nascela/anaconda3/lib/python3.10/site-packages/tqdm/auto.py:22: TqdmWarning: IProgress not found. Please update jupyter and ipywidgets. See https://ipywidgets.readthedocs.io/en/stable/user_install.html\n",
      "  from .autonotebook import tqdm as notebook_tqdm\n"
     ]
    }
   ],
   "source": [
    "# импортируемые библиотеки\n",
    "\n",
    "# дефолтные мат. Библиотеки\n",
    "import pandas as pd\n",
    "import numpy as np\n",
    "import matplotlib.pyplot as plt\n",
    "\n",
    "# для разделения df на train и test выборку\n",
    "from sklearn.model_selection import train_test_split\n",
    "\n",
    "# для подготовки данных\n",
    "from sklearn.pipeline import Pipeline\n",
    "from sklearn.impute import SimpleImputer\n",
    "from sklearn.preprocessing import StandardScaler\n",
    "from sklearn.preprocessing import OneHotEncoder\n",
    "from sklearn.compose import ColumnTransformer\n",
    "\n",
    "# перекрестная проверка модели\n",
    "from sklearn.model_selection import cross_val_score\n",
    "\n",
    "# модель\n",
    "from sklearn.ensemble import RandomForestClassifier\n",
    "\n",
    "\n",
    "# для стратифицированной выборки\n",
    "from sklearn.model_selection import StratifiedKFold\n",
    "# импортируем метрики\n",
    "from sklearn.metrics import accuracy_score, f1_score, precision_score, roc_auc_score, recall_score, roc_curve\n",
    "\n",
    "\n",
    "# для нейронной сети\n",
    "import torch\n",
    "from torch.nn import Linear, Sigmoid"
   ]
  },
  {
   "cell_type": "code",
   "execution_count": 4,
   "outputs": [],
   "source": [
    "# считывем датасет\n",
    "df = pd.read_csv('audit_risk.csv')"
   ],
   "metadata": {
    "collapsed": false,
    "ExecuteTime": {
     "end_time": "2023-05-16T13:44:59.820987Z",
     "start_time": "2023-05-16T13:44:59.808974Z"
    }
   }
  },
  {
   "cell_type": "code",
   "execution_count": 5,
   "outputs": [
    {
     "name": "stderr",
     "output_type": "stream",
     "text": [
      "/var/folders/4b/wpq4f85s0lzcrjpl4chzpqpw0000gn/T/ipykernel_22388/3051988053.py:3: DeprecationWarning: `np.float` is a deprecated alias for the builtin `float`. To silence this warning, use `float` by itself. Doing this will not modify any behavior and is safe. If you specifically wanted the numpy scalar type, use `np.float64` here.\n",
      "Deprecated in NumPy 1.20; for more details and guidance: https://numpy.org/devdocs/release/1.20.0-notes.html#deprecations\n",
      "  df = df.astype({'LOCATION_ID': np.float})\n"
     ]
    }
   ],
   "source": [
    "# производим ручную подгонку данных\n",
    "df = df.dropna (subset=['Risk'])\n",
    "df = df.drop (index=[367, 355, 351])\n",
    "df = df.astype({'LOCATION_ID': np.float})"
   ],
   "metadata": {
    "collapsed": false,
    "ExecuteTime": {
     "end_time": "2023-05-16T13:45:00.480833Z",
     "start_time": "2023-05-16T13:45:00.476055Z"
    }
   }
  },
  {
   "cell_type": "code",
   "execution_count": 6,
   "outputs": [],
   "source": [
    "X = df.drop(\"Risk\", axis = 1)\n",
    "y = df[\"Risk\"].copy()"
   ],
   "metadata": {
    "collapsed": false,
    "ExecuteTime": {
     "end_time": "2023-05-16T13:45:01.172709Z",
     "start_time": "2023-05-16T13:45:01.163737Z"
    }
   }
  },
  {
   "cell_type": "code",
   "execution_count": 7,
   "outputs": [],
   "source": [
    "# разделение выборки на тестовую и учебную\n",
    "train_set, test_set = train_test_split(df, test_size=0.2, random_state=42)"
   ],
   "metadata": {
    "collapsed": false,
    "ExecuteTime": {
     "end_time": "2023-05-16T13:45:01.814526Z",
     "start_time": "2023-05-16T13:45:01.805633Z"
    }
   }
  },
  {
   "cell_type": "code",
   "execution_count": 8,
   "outputs": [],
   "source": [
    "# делим выборки на ответы и признаки\n",
    "X_train = train_set.drop(\"Risk\", axis = 1)\n",
    "y_train = train_set[\"Risk\"].copy()\n",
    "\n",
    "X_test = test_set.drop(\"Risk\", axis = 1)\n",
    "y_test = test_set[\"Risk\"].copy()\n",
    "\n",
    "X_full = df.drop(\"Risk\", axis = 1)\n",
    "y_full = df[\"Risk\"].copy()"
   ],
   "metadata": {
    "collapsed": false,
    "ExecuteTime": {
     "end_time": "2023-05-16T13:45:02.452469Z",
     "start_time": "2023-05-16T13:45:02.448540Z"
    }
   }
  },
  {
   "cell_type": "code",
   "execution_count": 9,
   "outputs": [],
   "source": [
    "# обработка данных перед обучением\n",
    "\n",
    "# вставка отсутсвующих значений и маштабирование\n",
    "\n",
    "# создаем пайплайн для удобной и быстрой предобработки данных\n",
    "num_pipeline = Pipeline([\n",
    "    (\"imputer\", SimpleImputer(strategy=\"median\")),\n",
    "    (\"scaler\", StandardScaler())\n",
    "])\n",
    "\n",
    "# Категориальный нам не требуется, т.к. у нас только числовые признаки\n",
    "\n",
    "# cat_pipeline = Pipeline([\n",
    "#     (\"imputer\", SimpleImputer(strategy=\"most_frequent\")),\n",
    "#     (\"cat_encoder\", OneHotEncoder(sparse=False)),\n",
    "# ])\n",
    "\n",
    "num_attribs = list(X)\n",
    "# cat_attribs = [\"\"]\n",
    "\n",
    "preprocess_pipeline = ColumnTransformer([\n",
    "    (\"num\", num_pipeline, num_attribs)\n",
    "    # (\"cat\", cat_pipeline, cat_attribs),\n",
    "])\n",
    "\n",
    "X_train_prepared = preprocess_pipeline.fit_transform(X_train[num_attribs])\n",
    "X_test_prepared = preprocess_pipeline.fit_transform(X_test[num_attribs])\n",
    "X_full_prepared = preprocess_pipeline.fit_transform(X_full[num_attribs])"
   ],
   "metadata": {
    "collapsed": false,
    "ExecuteTime": {
     "end_time": "2023-05-16T13:45:03.120995Z",
     "start_time": "2023-05-16T13:45:03.101056Z"
    }
   }
  },
  {
   "cell_type": "code",
   "execution_count": 10,
   "outputs": [],
   "source": [
    "#разбиваем наше множество на 5 частей и перемешиваем \"shuffle=True\"(Стратифицированная выборка)\n",
    "cv = StratifiedKFold(n_splits=5, shuffle=True, random_state=42)\n",
    "\n",
    "forest_clf = RandomForestClassifier(n_estimators = 100, random_state=42)\n",
    "forest_clf.fit(X_train_prepared, y_train)\n"
   ],
   "metadata": {
    "collapsed": false,
    "ExecuteTime": {
     "end_time": "2023-05-16T13:45:03.677402Z",
     "start_time": "2023-05-16T13:45:03.624436Z"
    }
   }
  },
  {
   "cell_type": "code",
   "execution_count": 11,
   "outputs": [
    {
     "data": {
      "text/plain": "1.0"
     },
     "execution_count": 11,
     "metadata": {},
     "output_type": "execute_result"
    }
   ],
   "source": [
    "# получаем значение метрики с помощью перекрестной проверки - roc auc целевая\n",
    "forest_scores = cross_val_score(forest_clf, X_train_prepared, y_train, cv = cv, scoring=\"roc_auc\")\n",
    "forest_scores.mean()"
   ],
   "metadata": {
    "collapsed": false,
    "ExecuteTime": {
     "end_time": "2023-05-16T13:45:04.381535Z",
     "start_time": "2023-05-16T13:45:04.079927Z"
    }
   }
  },
  {
   "cell_type": "code",
   "execution_count": 49,
   "outputs": [
    {
     "name": "stdout",
     "output_type": "stream",
     "text": [
      "precision 1.0\n",
      "recall 0.9310344827586207\n",
      "accuracy 0.9741935483870968\n",
      "f1 0.9642857142857143\n"
     ]
    }
   ],
   "source": [
    "# получаем значение метрики с помощью стандартной проверки(fit - predict) - roc auc целевая\n",
    "pred = forest_clf.predict(X_test_prepared)\n",
    "print('precision', precision_score(y_test, pred))   #рассчитаем метрики\n",
    "print('recall', recall_score(y_test, pred))\n",
    "print('accuracy', accuracy_score(y_test, pred))\n",
    "print('f1', f1_score(y_test, pred))"
   ],
   "metadata": {
    "collapsed": false,
    "ExecuteTime": {
     "end_time": "2023-05-16T15:35:59.093916Z",
     "start_time": "2023-05-16T15:35:59.058990Z"
    }
   }
  },
  {
   "cell_type": "code",
   "execution_count": 13,
   "outputs": [
    {
     "data": {
      "text/plain": "(-0.01, 1.01)"
     },
     "execution_count": 13,
     "metadata": {},
     "output_type": "execute_result"
    },
    {
     "data": {
      "text/plain": "<Figure size 500x500 with 1 Axes>",
      "image/png": "[encoded data removed]"
     },
     "metadata": {},
     "output_type": "display_data"
    }
   ],
   "source": [
    "# график roc auc score\n",
    "%matplotlib inline\n",
    "fpr, tpr, thresholds = roc_curve(y_test, pred)\n",
    "plt.figure(figsize=(5, 5))\n",
    "plt.plot(fpr, tpr)\n",
    "plt.plot([0, 1], [0, 1])\n",
    "plt.ylabel('tpr')\n",
    "plt.xlabel('fpr')\n",
    "plt.grid(True)\n",
    "plt.title('ROC curve')\n",
    "plt.xlim((-0.01, 1.01))\n",
    "plt.ylim((-0.01, 1.01))"
   ],
   "metadata": {
    "collapsed": false,
    "ExecuteTime": {
     "end_time": "2023-05-16T13:45:05.734671Z",
     "start_time": "2023-05-16T13:45:05.584975Z"
    }
   }
  },
  {
   "cell_type": "code",
   "execution_count": 14,
   "outputs": [],
   "source": [
    "# модель случайного леса умеет рассчитывать вероятность\n",
    "predict_proba = forest_clf.predict_proba(X_test_prepared)"
   ],
   "metadata": {
    "collapsed": false,
    "ExecuteTime": {
     "end_time": "2023-05-16T13:45:06.461924Z",
     "start_time": "2023-05-16T13:45:06.452472Z"
    }
   }
  },
  {
   "cell_type": "code",
   "execution_count": 15,
   "outputs": [
    {
     "data": {
      "text/plain": "(-0.01, 1.01)"
     },
     "execution_count": 15,
     "metadata": {},
     "output_type": "execute_result"
    },
    {
     "data": {
      "text/plain": "<Figure size 500x500 with 1 Axes>",
      "image/png": "[encoded data removed]"
     },
     "metadata": {},
     "output_type": "display_data"
    }
   ],
   "source": [
    "# график roc auc score для наилучшего результата\n",
    "%matplotlib inline\n",
    "fpr, tpr, thresholds = roc_curve(y_test, predict_proba[:,1])\n",
    "plt.figure(figsize=(5, 5))\n",
    "plt.plot(fpr, tpr)\n",
    "plt.plot([0, 1], [0, 1])\n",
    "plt.ylabel('tpr')\n",
    "plt.xlabel('fpr')\n",
    "plt.grid(True)\n",
    "plt.title('ROC curve')\n",
    "plt.xlim((-0.01, 1.01))\n",
    "plt.ylim((-0.01, 1.01))"
   ],
   "metadata": {
    "collapsed": false,
    "ExecuteTime": {
     "end_time": "2023-05-16T13:45:07.295766Z",
     "start_time": "2023-05-16T13:45:07.227393Z"
    }
   }
  },
  {
   "cell_type": "code",
   "execution_count": 16,
   "outputs": [
    {
     "data": {
      "text/plain": "1.0"
     },
     "execution_count": 16,
     "metadata": {},
     "output_type": "execute_result"
    }
   ],
   "source": [
    "roc_auc_score(y_test, predict_proba[:,1]) #значение метрики ROC AUC"
   ],
   "metadata": {
    "collapsed": false,
    "ExecuteTime": {
     "end_time": "2023-05-16T13:45:09.019014Z",
     "start_time": "2023-05-16T13:45:09.011906Z"
    }
   }
  },
  {
   "cell_type": "code",
   "execution_count": 17,
   "outputs": [],
   "source": [
    "# построим модель машинного обучения на основе нейронных сетей\n",
    "\n",
    "num_features = X_train_prepared.shape[1]\n",
    "\n",
    "# зададим 1 нейрон\n",
    "\n",
    "neuron = torch.nn.Sequential(\n",
    "    Linear(num_features, out_features=1),\n",
    "    Sigmoid()\n",
    ")"
   ],
   "metadata": {
    "collapsed": false,
    "ExecuteTime": {
     "end_time": "2023-05-16T13:45:09.870387Z",
     "start_time": "2023-05-16T13:45:09.860636Z"
    }
   }
  },
  {
   "cell_type": "code",
   "execution_count": 18,
   "outputs": [
    {
     "data": {
      "text/plain": "Sequential(\n  (0): Linear(in_features=26, out_features=1, bias=True)\n  (1): Sigmoid()\n)"
     },
     "execution_count": 18,
     "metadata": {},
     "output_type": "execute_result"
    }
   ],
   "source": [
    "neuron"
   ],
   "metadata": {
    "collapsed": false,
    "ExecuteTime": {
     "end_time": "2023-05-16T13:45:10.610575Z",
     "start_time": "2023-05-16T13:45:10.598515Z"
    }
   }
  },
  {
   "cell_type": "code",
   "execution_count": 23,
   "outputs": [],
   "source": [
    "# преобразуем данные в тензоры\n",
    "X_train_tensor = torch.autograd.Variable(torch.FloatTensor(X_train_prepared))\n",
    "y_train_tensor = torch.autograd.Variable(torch.FloatTensor(y_train.values.reshape((-1, 1))))\n",
    "\n",
    "X_test_tensor = torch.autograd.Variable(torch.FloatTensor(X_test_prepared))\n",
    "y_test_tensor = torch.autograd.Variable(torch.FloatTensor(y_test.values.reshape((-1, 1))))\n"
   ],
   "metadata": {
    "collapsed": false,
    "ExecuteTime": {
     "end_time": "2023-05-16T13:47:10.783141Z",
     "start_time": "2023-05-16T13:47:10.774578Z"
    }
   }
  },
  {
   "cell_type": "code",
   "execution_count": 26,
   "outputs": [
    {
     "name": "stdout",
     "output_type": "stream",
     "text": [
      "0 172.69036865234375\n",
      "1 101.72531127929688\n",
      "2 75.61978912353516\n",
      "3 62.84288787841797\n",
      "4 55.07097244262695\n",
      "5 49.77729797363281\n",
      "6 45.90683364868164\n",
      "7 42.9342041015625\n",
      "8 40.566959381103516\n",
      "9 38.62892150878906\n",
      "10 37.00734329223633\n",
      "11 35.62651062011719\n",
      "12 34.43354034423828\n",
      "13 33.39028549194336\n",
      "14 32.468482971191406\n",
      "15 31.646703720092773\n",
      "16 30.908388137817383\n",
      "17 30.24051856994629\n",
      "18 29.632701873779297\n",
      "19 29.076547622680664\n",
      "20 28.565196990966797\n",
      "21 28.092979431152344\n",
      "22 27.655162811279297\n",
      "23 27.247787475585938\n",
      "24 26.86746597290039\n",
      "25 26.51133918762207\n",
      "26 26.176931381225586\n",
      "27 25.86211395263672\n",
      "28 25.56502342224121\n",
      "29 25.284046173095703\n",
      "30 25.01775550842285\n",
      "31 24.764904022216797\n",
      "32 24.524375915527344\n",
      "33 24.29519271850586\n",
      "34 24.076461791992188\n",
      "35 23.867406845092773\n",
      "36 23.66731071472168\n",
      "37 23.475543975830078\n",
      "38 23.291526794433594\n",
      "39 23.114730834960938\n",
      "40 22.944690704345703\n",
      "41 22.78097152709961\n",
      "42 22.62317657470703\n",
      "43 22.470947265625\n",
      "44 22.323951721191406\n",
      "45 22.181888580322266\n",
      "46 22.044475555419922\n",
      "47 21.911453247070312\n",
      "48 21.78258514404297\n",
      "49 21.657651901245117\n",
      "50 21.53644561767578\n",
      "51 21.418779373168945\n",
      "52 21.304475784301758\n",
      "53 21.193370819091797\n",
      "54 21.08530616760254\n",
      "55 20.980146408081055\n",
      "56 20.877756118774414\n",
      "57 20.778003692626953\n",
      "58 20.6807804107666\n",
      "59 20.585968017578125\n",
      "60 20.493465423583984\n",
      "61 20.403181076049805\n",
      "62 20.315019607543945\n",
      "63 20.228891372680664\n",
      "64 20.144718170166016\n",
      "65 20.062421798706055\n",
      "66 19.981929779052734\n",
      "67 19.903175354003906\n",
      "68 19.826093673706055\n",
      "69 19.750621795654297\n",
      "70 19.67669677734375\n",
      "71 19.60426902770996\n",
      "72 19.53328514099121\n",
      "73 19.463693618774414\n",
      "74 19.39544677734375\n",
      "75 19.328500747680664\n",
      "76 19.26280975341797\n",
      "77 19.198335647583008\n",
      "78 19.135034561157227\n",
      "79 19.072874069213867\n",
      "80 19.011817932128906\n",
      "81 18.951828002929688\n",
      "82 18.89287567138672\n",
      "83 18.83492660522461\n",
      "84 18.777952194213867\n",
      "85 18.721925735473633\n",
      "86 18.66681671142578\n",
      "87 18.61259651184082\n",
      "88 18.559246063232422\n",
      "89 18.506736755371094\n",
      "90 18.455047607421875\n",
      "91 18.40415382385254\n",
      "92 18.35403823852539\n",
      "93 18.30467414855957\n",
      "94 18.256044387817383\n",
      "95 18.208131790161133\n",
      "96 18.16091537475586\n",
      "97 18.1143798828125\n",
      "98 18.068506240844727\n",
      "99 18.023273468017578\n",
      "100 17.978675842285156\n",
      "101 17.934688568115234\n",
      "102 17.89130210876465\n",
      "103 17.848499298095703\n",
      "104 17.806270599365234\n",
      "105 17.764598846435547\n",
      "106 17.723468780517578\n",
      "107 17.682872772216797\n",
      "108 17.642799377441406\n",
      "109 17.60323143005371\n",
      "110 17.56416130065918\n",
      "111 17.52557945251465\n",
      "112 17.487472534179688\n",
      "113 17.449827194213867\n",
      "114 17.412641525268555\n",
      "115 17.375900268554688\n",
      "116 17.3395938873291\n",
      "117 17.3037166595459\n",
      "118 17.26825523376465\n",
      "119 17.233203887939453\n",
      "120 17.198556900024414\n",
      "121 17.16429901123047\n",
      "122 17.130430221557617\n",
      "123 17.096939086914062\n",
      "124 17.063817977905273\n",
      "125 17.031057357788086\n",
      "126 16.998655319213867\n",
      "127 16.96660614013672\n",
      "128 16.934894561767578\n",
      "129 16.903520584106445\n",
      "130 16.872474670410156\n",
      "131 16.841758728027344\n",
      "132 16.811357498168945\n",
      "133 16.781267166137695\n",
      "134 16.75148582458496\n",
      "135 16.72200584411621\n",
      "136 16.692819595336914\n",
      "137 16.663925170898438\n",
      "138 16.635316848754883\n",
      "139 16.60698890686035\n",
      "140 16.578935623168945\n",
      "141 16.55115509033203\n",
      "142 16.523639678955078\n",
      "143 16.496387481689453\n",
      "144 16.469390869140625\n",
      "145 16.44264793395996\n",
      "146 16.416156768798828\n",
      "147 16.38990592956543\n",
      "148 16.363901138305664\n",
      "149 16.338130950927734\n",
      "150 16.312593460083008\n",
      "151 16.287288665771484\n",
      "152 16.262208938598633\n",
      "153 16.237350463867188\n",
      "154 16.212711334228516\n",
      "155 16.18828773498535\n",
      "156 16.16407585144043\n",
      "157 16.14007568359375\n",
      "158 16.116281509399414\n",
      "159 16.092687606811523\n",
      "160 16.069293975830078\n",
      "161 16.046098709106445\n",
      "162 16.023096084594727\n",
      "163 16.00028419494629\n",
      "164 15.9776611328125\n",
      "165 15.95522689819336\n",
      "166 15.932971954345703\n",
      "167 15.91089916229248\n",
      "168 15.889002799987793\n",
      "169 15.86728286743164\n",
      "170 15.845735549926758\n",
      "171 15.824357986450195\n",
      "172 15.803146362304688\n",
      "173 15.782105445861816\n",
      "174 15.761225700378418\n",
      "175 15.740506172180176\n",
      "176 15.71994686126709\n",
      "177 15.699544906616211\n",
      "178 15.679298400878906\n",
      "179 15.65920352935791\n",
      "180 15.639259338378906\n",
      "181 15.619463920593262\n",
      "182 15.599814414978027\n",
      "183 15.580313682556152\n",
      "184 15.560951232910156\n",
      "185 15.541733741760254\n",
      "186 15.52265453338623\n",
      "187 15.503711700439453\n",
      "188 15.484909057617188\n",
      "189 15.466236114501953\n",
      "190 15.447697639465332\n",
      "191 15.429290771484375\n",
      "192 15.411011695861816\n",
      "193 15.392861366271973\n",
      "194 15.374837875366211\n",
      "195 15.356939315795898\n",
      "196 15.33916187286377\n",
      "197 15.321508407592773\n",
      "198 15.303973197937012\n",
      "199 15.28656005859375\n",
      "200 15.269262313842773\n",
      "201 15.252077102661133\n",
      "202 15.23501205444336\n",
      "203 15.218057632446289\n",
      "204 15.201216697692871\n",
      "205 15.18448543548584\n",
      "206 15.167864799499512\n",
      "207 15.15135383605957\n",
      "208 15.1349458694458\n",
      "209 15.118646621704102\n",
      "210 15.102452278137207\n",
      "211 15.086359977722168\n",
      "212 15.0703706741333\n",
      "213 15.054482460021973\n",
      "214 15.038695335388184\n",
      "215 15.023006439208984\n",
      "216 15.007416725158691\n",
      "217 14.991921424865723\n",
      "218 14.976522445678711\n",
      "219 14.961219787597656\n",
      "220 14.946009635925293\n",
      "221 14.930893898010254\n",
      "222 14.91586971282959\n",
      "223 14.900936126708984\n",
      "224 14.886092185974121\n",
      "225 14.871337890625\n",
      "226 14.856671333312988\n",
      "227 14.84209156036377\n",
      "228 14.827596664428711\n",
      "229 14.813189506530762\n",
      "230 14.798866271972656\n",
      "231 14.784626960754395\n",
      "232 14.770469665527344\n",
      "233 14.75639533996582\n",
      "234 14.742402076721191\n",
      "235 14.728489875793457\n",
      "236 14.714655876159668\n",
      "237 14.700901985168457\n",
      "238 14.687224388122559\n",
      "239 14.673625946044922\n",
      "240 14.660102844238281\n",
      "241 14.646655082702637\n",
      "242 14.633284568786621\n",
      "243 14.619986534118652\n",
      "244 14.60676383972168\n",
      "245 14.593611717224121\n",
      "246 14.580533981323242\n",
      "247 14.567526817321777\n",
      "248 14.554591178894043\n",
      "249 14.541725158691406\n",
      "250 14.528929710388184\n",
      "251 14.516202926635742\n",
      "252 14.503543853759766\n",
      "253 14.49095344543457\n",
      "254 14.47842788696289\n",
      "255 14.465970993041992\n",
      "256 14.45357894897461\n",
      "257 14.441251754760742\n",
      "258 14.42899227142334\n",
      "259 14.416793823242188\n",
      "260 14.40466022491455\n",
      "261 14.392587661743164\n",
      "262 14.380578994750977\n",
      "263 14.368631362915039\n",
      "264 14.356744766235352\n",
      "265 14.344921112060547\n",
      "266 14.333157539367676\n",
      "267 14.321454048156738\n",
      "268 14.309807777404785\n",
      "269 14.298219680786133\n",
      "270 14.286691665649414\n",
      "271 14.275219917297363\n",
      "272 14.263805389404297\n",
      "273 14.252449035644531\n",
      "274 14.241148948669434\n",
      "275 14.229902267456055\n",
      "276 14.21871280670166\n",
      "277 14.207578659057617\n",
      "278 14.19649887084961\n",
      "279 14.185471534729004\n",
      "280 14.174498558044434\n",
      "281 14.163578033447266\n",
      "282 14.152711868286133\n",
      "283 14.141897201538086\n",
      "284 14.131133079528809\n",
      "285 14.120420455932617\n",
      "286 14.109760284423828\n",
      "287 14.099149703979492\n",
      "288 14.08858871459961\n",
      "289 14.078078269958496\n",
      "290 14.067617416381836\n",
      "291 14.057204246520996\n",
      "292 14.046841621398926\n",
      "293 14.03652572631836\n",
      "294 14.02625846862793\n",
      "295 14.016036987304688\n",
      "296 14.005863189697266\n",
      "297 13.995735168457031\n",
      "298 13.985654830932617\n",
      "299 13.975622177124023\n",
      "300 13.965631484985352\n",
      "301 13.955689430236816\n",
      "302 13.94579029083252\n",
      "303 13.935935974121094\n",
      "304 13.926125526428223\n",
      "305 13.916360855102539\n",
      "306 13.906638145446777\n",
      "307 13.89695930480957\n",
      "308 13.887323379516602\n",
      "309 13.877728462219238\n",
      "310 13.86817741394043\n",
      "311 13.858667373657227\n",
      "312 13.849200248718262\n",
      "313 13.839775085449219\n",
      "314 13.830389022827148\n",
      "315 13.821044921875\n",
      "316 13.81174087524414\n",
      "317 13.802477836608887\n",
      "318 13.793252944946289\n",
      "319 13.784069061279297\n",
      "320 13.774923324584961\n",
      "321 13.765817642211914\n",
      "322 13.75675106048584\n",
      "323 13.747720718383789\n",
      "324 13.738731384277344\n",
      "325 13.729778289794922\n",
      "326 13.72086238861084\n",
      "327 13.71198558807373\n",
      "328 13.703144073486328\n",
      "329 13.694341659545898\n",
      "330 13.68557357788086\n",
      "331 13.67684268951416\n",
      "332 13.6681489944458\n",
      "333 13.659489631652832\n",
      "334 13.650866508483887\n",
      "335 13.642279624938965\n",
      "336 13.63372802734375\n",
      "337 13.62520694732666\n",
      "338 13.616724967956543\n",
      "339 13.6082763671875\n",
      "340 13.59986400604248\n",
      "341 13.591482162475586\n",
      "342 13.583133697509766\n",
      "343 13.574821472167969\n",
      "344 13.56654167175293\n",
      "345 13.558295249938965\n",
      "346 13.550080299377441\n",
      "347 13.541900634765625\n",
      "348 13.5337495803833\n",
      "349 13.525632858276367\n",
      "350 13.517548561096191\n",
      "351 13.50949478149414\n",
      "352 13.501473426818848\n",
      "353 13.49348258972168\n",
      "354 13.48552417755127\n",
      "355 13.477594375610352\n",
      "356 13.469696998596191\n",
      "357 13.461830139160156\n",
      "358 13.453993797302246\n",
      "359 13.446187019348145\n",
      "360 13.438409805297852\n",
      "361 13.430663108825684\n",
      "362 13.42294692993164\n",
      "363 13.415258407592773\n",
      "364 13.407600402832031\n",
      "365 13.399971008300781\n",
      "366 13.39237117767334\n",
      "367 13.384797096252441\n",
      "368 13.377254486083984\n",
      "369 13.369738578796387\n",
      "370 13.362252235412598\n",
      "371 13.354792594909668\n",
      "372 13.34736156463623\n",
      "373 13.339958190917969\n",
      "374 13.332581520080566\n",
      "375 13.325233459472656\n",
      "376 13.317912101745605\n",
      "377 13.310616493225098\n",
      "378 13.303348541259766\n",
      "379 13.296106338500977\n",
      "380 13.288890838623047\n",
      "381 13.281702995300293\n",
      "382 13.274539947509766\n",
      "383 13.267402648925781\n",
      "384 13.260293006896973\n",
      "385 13.253207206726074\n",
      "386 13.246148109436035\n",
      "387 13.239114761352539\n",
      "388 13.23210334777832\n",
      "389 13.22512149810791\n",
      "390 13.218160629272461\n",
      "391 13.211226463317871\n",
      "392 13.204317092895508\n",
      "393 13.197431564331055\n",
      "394 13.190571784973145\n",
      "395 13.183732986450195\n",
      "396 13.176921844482422\n",
      "397 13.170132637023926\n",
      "398 13.163368225097656\n",
      "399 13.156625747680664\n",
      "400 13.149908065795898\n",
      "401 13.143213272094727\n",
      "402 13.136543273925781\n",
      "403 13.12989330291748\n",
      "404 13.123268127441406\n",
      "405 13.116666793823242\n",
      "406 13.110088348388672\n",
      "407 13.103530883789062\n",
      "408 13.096996307373047\n",
      "409 13.090482711791992\n",
      "410 13.083992004394531\n",
      "411 13.077524185180664\n",
      "412 13.071078300476074\n",
      "413 13.064654350280762\n",
      "414 13.058250427246094\n",
      "415 13.051871299743652\n",
      "416 13.045512199401855\n",
      "417 13.039173126220703\n",
      "418 13.032855987548828\n",
      "419 13.026559829711914\n",
      "420 13.020285606384277\n",
      "421 13.014032363891602\n",
      "422 13.007798194885254\n",
      "423 13.001585960388184\n",
      "424 12.995392799377441\n",
      "425 12.989221572875977\n",
      "426 12.983070373535156\n",
      "427 12.97693920135498\n",
      "428 12.970829010009766\n",
      "429 12.964737892150879\n",
      "430 12.95866584777832\n",
      "431 12.952615737915039\n",
      "432 12.946582794189453\n",
      "433 12.940572738647461\n",
      "434 12.934578895568848\n",
      "435 12.928605079650879\n",
      "436 12.922650337219238\n",
      "437 12.916716575622559\n",
      "438 12.910799026489258\n",
      "439 12.904903411865234\n",
      "440 12.899024963378906\n",
      "441 12.893167495727539\n",
      "442 12.887323379516602\n",
      "443 12.88150405883789\n",
      "444 12.875699043273926\n",
      "445 12.869914054870605\n",
      "446 12.864147186279297\n",
      "447 12.8583984375\n",
      "448 12.852666854858398\n",
      "449 12.846954345703125\n",
      "450 12.841259956359863\n",
      "451 12.835582733154297\n",
      "452 12.829922676086426\n",
      "453 12.824281692504883\n",
      "454 12.818656921386719\n",
      "455 12.813050270080566\n",
      "456 12.807459831237793\n",
      "457 12.801888465881348\n",
      "458 12.796332359313965\n",
      "459 12.790794372558594\n",
      "460 12.785273551940918\n",
      "461 12.779769897460938\n",
      "462 12.774282455444336\n",
      "463 12.76881217956543\n",
      "464 12.763359069824219\n",
      "465 12.75792121887207\n",
      "466 12.752500534057617\n",
      "467 12.747096061706543\n",
      "468 12.741708755493164\n",
      "469 12.736335754394531\n",
      "470 12.730981826782227\n",
      "471 12.725641250610352\n",
      "472 12.720317840576172\n",
      "473 12.715008735656738\n",
      "474 12.709717750549316\n",
      "475 12.704442024230957\n",
      "476 12.699182510375977\n",
      "477 12.693936347961426\n",
      "478 12.688708305358887\n",
      "479 12.683492660522461\n",
      "480 12.678296089172363\n",
      "481 12.673112869262695\n",
      "482 12.66794490814209\n",
      "483 12.662792205810547\n",
      "484 12.657654762268066\n",
      "485 12.652531623840332\n",
      "486 12.647424697875977\n",
      "487 12.642332077026367\n",
      "488 12.637255668640137\n",
      "489 12.63219165802002\n",
      "490 12.627143859863281\n",
      "491 12.622109413146973\n",
      "492 12.617090225219727\n",
      "493 12.61208724975586\n",
      "494 12.607093811035156\n",
      "495 12.602118492126465\n",
      "496 12.597156524658203\n",
      "497 12.592208862304688\n",
      "498 12.587274551391602\n",
      "499 12.582354545593262\n"
     ]
    },
    {
     "name": "stderr",
     "output_type": "stream",
     "text": [
      "/Users/nascela/anaconda3/lib/python3.10/site-packages/torch/nn/_reduction.py:42: UserWarning: size_average and reduce args will be deprecated, please use reduction='sum' instead.\n",
      "  warnings.warn(warning.format(ret))\n"
     ]
    }
   ],
   "source": [
    "# квадратичная функция потерь\n",
    "loss_fn = torch.nn.MSELoss(size_average=False)\n",
    "\n",
    "# шаг градиентного спуска\n",
    "learning_rate = 0.001\n",
    "# сам метод оптимизации нейросети\n",
    "optimizer = torch.optim.SGD(neuron.parameters(), lr=learning_rate)\n",
    "# итерируемся num_epochs раз, здесь 500\n",
    "for t in range(500):\n",
    "    # foward_pass() -- применение нейросети\n",
    "    y_pred = neuron(X_train_tensor)\n",
    "\n",
    "    # выведем loss\n",
    "    loss = loss_fn(y_pred, y_train_tensor)\n",
    "    print('{} {}'.format(t, loss.data))\n",
    "\n",
    "    # обнуляем градиенты перед backard_pass'ом\n",
    "    optimizer.zero_grad()\n",
    "\n",
    "    # backward_pass() -- вычисляем градиенты loss'а по параметрам (весам) нейросети\n",
    "    # этой командой мы только вычисляем градиенты, но ещё не обновляем веса\n",
    "    loss.backward()\n",
    "\n",
    "    # а тут уже обновляем веса\n",
    "    optimizer.step()"
   ],
   "metadata": {
    "collapsed": false,
    "ExecuteTime": {
     "end_time": "2023-05-16T13:47:57.739441Z",
     "start_time": "2023-05-16T13:47:57.696942Z"
    }
   }
  },
  {
   "cell_type": "code",
   "execution_count": 27,
   "outputs": [],
   "source": [
    "# проверяем нейронную сеть, предсказывем значения\n",
    "proba_pred = neuron(X_test_tensor)\n",
    "y_pred = proba_pred > 0.5"
   ],
   "metadata": {
    "collapsed": false,
    "ExecuteTime": {
     "end_time": "2023-05-16T13:48:00.226380Z",
     "start_time": "2023-05-16T13:48:00.216504Z"
    }
   }
  },
  {
   "cell_type": "code",
   "execution_count": 36,
   "outputs": [
    {
     "name": "stdout",
     "output_type": "stream",
     "text": [
      "precision 0.9661016949152542\n",
      "recall 0.9827586206896551\n",
      "accuracy 0.9806451612903225\n",
      "f1 0.9743589743589743\n",
      "roc auc 0.9810700319943121\n"
     ]
    }
   ],
   "source": [
    "# выводим метрики\n",
    "print('precision', precision_score(y_test, y_pred))\n",
    "print('recall', recall_score(y_test, y_pred))\n",
    "print('accuracy', accuracy_score(y_test, y_pred))\n",
    "print('f1', f1_score(y_test, y_pred))\n",
    "print('roc auc', roc_auc_score(y_test, y_pred)) # целевая"
   ],
   "metadata": {
    "collapsed": false,
    "ExecuteTime": {
     "end_time": "2023-05-16T13:52:23.734308Z",
     "start_time": "2023-05-16T13:52:23.724836Z"
    }
   }
  },
  {
   "cell_type": "code",
   "execution_count": 37,
   "outputs": [
    {
     "data": {
      "text/plain": "(-0.01, 1.01)"
     },
     "execution_count": 37,
     "metadata": {},
     "output_type": "execute_result"
    },
    {
     "data": {
      "text/plain": "<Figure size 500x500 with 1 Axes>",
      "image/png": "[encoded data removed]"
     },
     "metadata": {},
     "output_type": "display_data"
    }
   ],
   "source": [
    "# график roc auc score для нейронной сети\n",
    "%matplotlib inline\n",
    "fpr, tpr, thresholds = roc_curve(y_test, y_pred)\n",
    "plt.figure(figsize=(5, 5))\n",
    "plt.plot(fpr, tpr)\n",
    "plt.plot([0, 1], [0, 1])\n",
    "plt.ylabel('tpr')\n",
    "plt.xlabel('fpr')\n",
    "plt.grid(True)\n",
    "plt.title('ROC curve')\n",
    "plt.xlim((-0.01, 1.01))\n",
    "plt.ylim((-0.01, 1.01))"
   ],
   "metadata": {
    "collapsed": false,
    "ExecuteTime": {
     "end_time": "2023-05-16T13:53:28.518504Z",
     "start_time": "2023-05-16T13:53:28.448976Z"
    }
   }
  }
 ],
 "metadata": {
  "kernelspec": {
   "display_name": "Python 3",
   "language": "python",
   "name": "python3"
  },
  "language_info": {
   "codemirror_mode": {
    "name": "ipython",
    "version": 2
   },
   "file_extension": ".py",
   "mimetype": "text/x-python",
   "name": "python",
   "nbconvert_exporter": "python",
   "pygments_lexer": "ipython2",
   "version": "2.7.6"
  }
 },
 "nbformat": 4,
 "nbformat_minor": 0
}
