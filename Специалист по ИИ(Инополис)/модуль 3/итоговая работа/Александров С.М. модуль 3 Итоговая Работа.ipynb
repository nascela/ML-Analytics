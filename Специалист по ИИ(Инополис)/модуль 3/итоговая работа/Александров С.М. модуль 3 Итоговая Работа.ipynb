{
 "cells": [
  {
   "cell_type": "code",
   "execution_count": 1,
   "metadata": {
    "collapsed": true,
    "ExecuteTime": {
     "start_time": "2023-05-04T11:20:13.923863Z",
     "end_time": "2023-05-04T11:20:13.926610Z"
    }
   },
   "outputs": [],
   "source": [
    "# Задача №1.\n",
    "#\n",
    "# 1.     Создайте два вещественных тензора: a размером (3, 4) и b размером (12,)\n",
    "#\n",
    "# 2.     Создайте тензор c, являющийся тензором b, но размера (2, 2, 3)\n",
    "#\n",
    "# 3.     Выведите первый столбец матрицы a с помощью индексации.\n"
   ]
  },
  {
   "cell_type": "code",
   "execution_count": 18,
   "outputs": [],
   "source": [
    "import torch\n",
    "import numpy as np"
   ],
   "metadata": {
    "collapsed": false,
    "ExecuteTime": {
     "start_time": "2023-05-04T17:51:43.431493Z",
     "end_time": "2023-05-04T17:51:43.435838Z"
    }
   }
  },
  {
   "cell_type": "code",
   "execution_count": 3,
   "outputs": [],
   "source": [
    "# номер 1\n",
    "a = torch.FloatTensor(3, 4)"
   ],
   "metadata": {
    "collapsed": false,
    "ExecuteTime": {
     "start_time": "2023-05-04T11:28:41.924511Z",
     "end_time": "2023-05-04T11:28:41.928291Z"
    }
   }
  },
  {
   "cell_type": "code",
   "execution_count": 4,
   "outputs": [
    {
     "data": {
      "text/plain": "tensor([[0., 0., 0., 0.],\n        [0., 0., 0., 0.],\n        [0., 0., 0., 0.]])"
     },
     "execution_count": 4,
     "metadata": {},
     "output_type": "execute_result"
    }
   ],
   "source": [
    "a"
   ],
   "metadata": {
    "collapsed": false,
    "ExecuteTime": {
     "start_time": "2023-05-04T11:28:44.158324Z",
     "end_time": "2023-05-04T11:28:44.172890Z"
    }
   }
  },
  {
   "cell_type": "code",
   "execution_count": 5,
   "outputs": [],
   "source": [
    "b = torch.FloatTensor(12)"
   ],
   "metadata": {
    "collapsed": false,
    "ExecuteTime": {
     "start_time": "2023-05-04T11:29:55.957179Z",
     "end_time": "2023-05-04T11:29:55.973666Z"
    }
   }
  },
  {
   "cell_type": "code",
   "execution_count": 7,
   "outputs": [
    {
     "data": {
      "text/plain": "tensor([0., 0., 0., 0., 0., 0., 0., 0., 0., 0., 0., 0.])"
     },
     "execution_count": 7,
     "metadata": {},
     "output_type": "execute_result"
    }
   ],
   "source": [
    "b"
   ],
   "metadata": {
    "collapsed": false,
    "ExecuteTime": {
     "start_time": "2023-05-04T11:30:01.693862Z",
     "end_time": "2023-05-04T11:30:01.701853Z"
    }
   }
  },
  {
   "cell_type": "code",
   "execution_count": 8,
   "outputs": [],
   "source": [
    "# номер 2\n",
    "c = b.view(2, 2, 3)"
   ],
   "metadata": {
    "collapsed": false,
    "ExecuteTime": {
     "start_time": "2023-05-04T11:31:45.914573Z",
     "end_time": "2023-05-04T11:31:45.921017Z"
    }
   }
  },
  {
   "cell_type": "code",
   "execution_count": 10,
   "outputs": [
    {
     "data": {
      "text/plain": "tensor([[[0., 0., 0.],\n         [0., 0., 0.]],\n\n        [[0., 0., 0.],\n         [0., 0., 0.]]])"
     },
     "execution_count": 10,
     "metadata": {},
     "output_type": "execute_result"
    }
   ],
   "source": [
    "c"
   ],
   "metadata": {
    "collapsed": false,
    "ExecuteTime": {
     "start_time": "2023-05-04T11:31:55.074553Z",
     "end_time": "2023-05-04T11:31:55.094080Z"
    }
   }
  },
  {
   "cell_type": "code",
   "execution_count": 12,
   "outputs": [
    {
     "data": {
      "text/plain": "tensor([[0.],\n        [0.],\n        [0.]])"
     },
     "execution_count": 12,
     "metadata": {},
     "output_type": "execute_result"
    }
   ],
   "source": [
    "# номер 3\n",
    "a[0:3, 0:1]"
   ],
   "metadata": {
    "collapsed": false,
    "ExecuteTime": {
     "start_time": "2023-05-04T11:36:54.175757Z",
     "end_time": "2023-05-04T11:36:54.180056Z"
    }
   }
  },
  {
   "cell_type": "code",
   "execution_count": 13,
   "outputs": [],
   "source": [
    "# Задача №2.\n",
    "#\n",
    "# 1.     Создайте два вещественных тензора: a размером (5, 2) и b размером (1,10)\n",
    "#\n",
    "# 2.     Создайте тензор c, являющийся тензором b, но размера (5, 2)\n",
    "#\n",
    "# 3.     Произведите все арифметические операции с тензорами a и c."
   ],
   "metadata": {
    "collapsed": false,
    "ExecuteTime": {
     "start_time": "2023-05-04T11:37:12.887792Z",
     "end_time": "2023-05-04T11:37:12.897525Z"
    }
   }
  },
  {
   "cell_type": "code",
   "execution_count": 3,
   "outputs": [
    {
     "data": {
      "text/plain": "tensor([[ 1.,  2.],\n        [ 3.,  4.],\n        [ 5.,  6.],\n        [ 7.,  8.],\n        [ 9., 10.]])"
     },
     "execution_count": 3,
     "metadata": {},
     "output_type": "execute_result"
    }
   ],
   "source": [
    "# номер 1\n",
    "a = torch.FloatTensor([[1, 2], [3, 4], [5, 6], [7, 8], [9, 10]])\n",
    "a"
   ],
   "metadata": {
    "collapsed": false,
    "ExecuteTime": {
     "start_time": "2023-05-04T13:16:05.965531Z",
     "end_time": "2023-05-04T13:16:05.973962Z"
    }
   }
  },
  {
   "cell_type": "code",
   "execution_count": 4,
   "outputs": [
    {
     "data": {
      "text/plain": "tensor([[ 1.,  2.,  3.,  4.,  5.,  6.,  7.,  8.,  9., 10.]])"
     },
     "execution_count": 4,
     "metadata": {},
     "output_type": "execute_result"
    }
   ],
   "source": [
    "b = torch.FloatTensor([[1, 2, 3, 4, 5, 6, 7, 8, 9, 10]])\n",
    "b"
   ],
   "metadata": {
    "collapsed": false,
    "ExecuteTime": {
     "start_time": "2023-05-04T13:16:06.738532Z",
     "end_time": "2023-05-04T13:16:06.745438Z"
    }
   }
  },
  {
   "cell_type": "code",
   "execution_count": 5,
   "outputs": [
    {
     "data": {
      "text/plain": "tensor([[ 1.,  2.],\n        [ 3.,  4.],\n        [ 5.,  6.],\n        [ 7.,  8.],\n        [ 9., 10.]])"
     },
     "execution_count": 5,
     "metadata": {},
     "output_type": "execute_result"
    }
   ],
   "source": [
    "# номер 2\n",
    "с = b.view(5, 2)\n",
    "с"
   ],
   "metadata": {
    "collapsed": false,
    "ExecuteTime": {
     "start_time": "2023-05-04T13:16:07.778503Z",
     "end_time": "2023-05-04T13:16:07.784814Z"
    }
   }
  },
  {
   "cell_type": "code",
   "execution_count": 7,
   "outputs": [
    {
     "data": {
      "text/plain": "tensor([[ 2.,  4.],\n        [ 6.,  8.],\n        [10., 12.],\n        [14., 16.],\n        [18., 20.]])"
     },
     "execution_count": 7,
     "metadata": {},
     "output_type": "execute_result"
    }
   ],
   "source": [
    "# номер 3\n",
    "a.add(с)"
   ],
   "metadata": {
    "collapsed": false,
    "ExecuteTime": {
     "start_time": "2023-05-04T13:16:21.289031Z",
     "end_time": "2023-05-04T13:16:21.298551Z"
    }
   }
  },
  {
   "cell_type": "code",
   "execution_count": 11,
   "outputs": [
    {
     "data": {
      "text/plain": "tensor([[0., 0.],\n        [0., 0.],\n        [0., 0.],\n        [0., 0.],\n        [0., 0.]])"
     },
     "execution_count": 11,
     "metadata": {},
     "output_type": "execute_result"
    }
   ],
   "source": [
    "a.sub(с)"
   ],
   "metadata": {
    "collapsed": false,
    "ExecuteTime": {
     "start_time": "2023-05-04T13:17:25.180108Z",
     "end_time": "2023-05-04T13:17:25.186221Z"
    }
   }
  },
  {
   "cell_type": "code",
   "execution_count": 12,
   "outputs": [
    {
     "data": {
      "text/plain": "tensor([[  1.,   4.],\n        [  9.,  16.],\n        [ 25.,  36.],\n        [ 49.,  64.],\n        [ 81., 100.]])"
     },
     "execution_count": 12,
     "metadata": {},
     "output_type": "execute_result"
    }
   ],
   "source": [
    "a.mul(с)"
   ],
   "metadata": {
    "collapsed": false,
    "ExecuteTime": {
     "start_time": "2023-05-04T13:20:18.856996Z",
     "end_time": "2023-05-04T13:20:18.862576Z"
    }
   }
  },
  {
   "cell_type": "code",
   "execution_count": 17,
   "outputs": [
    {
     "data": {
      "text/plain": "tensor([[1., 1.],\n        [1., 1.],\n        [1., 1.],\n        [1., 1.],\n        [1., 1.]])"
     },
     "execution_count": 17,
     "metadata": {},
     "output_type": "execute_result"
    }
   ],
   "source": [
    "a.div(с)"
   ],
   "metadata": {
    "collapsed": false,
    "ExecuteTime": {
     "start_time": "2023-05-04T13:21:20.746979Z",
     "end_time": "2023-05-04T13:21:20.752198Z"
    }
   }
  },
  {
   "cell_type": "code",
   "execution_count": null,
   "outputs": [],
   "source": [
    "# Задача №3.\n",
    "#\n",
    "# 1.     Создайте тензор целых чисел images размерности (100, 200, 200, 3) (можно интерпретировать это как 100 картинок размера 200х200 с тремя цветовыми каналами, то есть 100 цветных изображений 200х200). Заполните его нулями\n",
    "#\n",
    "# 2.     Сделайте так, чтобы у 𝑖i-ой по порядку картинки была нарисована белая полоса толщиной два пикселя в строках, которые соответствуют номеру картинки. Например, у 3-ей по порядку картинки белая полоска будет занимать 6 и 7 строки, у 99 -- 198 и 199. Сделать белую строку можно, записав в ячейки тензора число 255 (по всем трём каналам). Выведите пару примеров с помощоью pylot\n",
    "#\n",
    "# 3.     Посчитайте среднее тензора images по 1-ой оси (по сути - средняя картинка), умножьте полученный тензор на 70. Нарисуйте с помощью pyplot, должна получиться серая картинка (при взятии среднего нужно привести тензор к float с помощью .float(), при отрисовке обратно к int с помощью .int())"
   ],
   "metadata": {
    "collapsed": false
   }
  },
  {
   "cell_type": "code",
   "execution_count": 22,
   "outputs": [
    {
     "data": {
      "text/plain": "<Figure size 640x480 with 4 Axes>",
      "image/png": "[encoded data removed]"
     },
     "metadata": {},
     "output_type": "display_data"
    },
    {
     "data": {
      "text/plain": "<Figure size 640x480 with 1 Axes>",
      "image/png": "[encoded data removed]"
     },
     "metadata": {},
     "output_type": "display_data"
    }
   ],
   "source": [
    "import matplotlib.pyplot as plt\n",
    "\n",
    "# Создание тензора images и заполнение его нулями\n",
    "images = torch.zeros((100, 200, 200, 3), dtype=torch.uint8)\n",
    "\n",
    "# Нарисовать белую полосу толщиной два пикселя в строках,\n",
    "# которые соответствуют номеру картинки\n",
    "for i in range(100):\n",
    "    images[i, i*2:i*2+2, :, :] = 255\n",
    "\n",
    "# Вывод нескольких примеров с помощью matplotlib\n",
    "fig, axs = plt.subplots(2, 2)\n",
    "axs[0, 0].imshow(images[0])\n",
    "axs[0, 1].imshow(images[1])\n",
    "axs[1, 0].imshow(images[2])\n",
    "axs[1, 1].imshow(images[3])\n",
    "\n",
    "\n",
    "plt.show()\n",
    "\n",
    "\n",
    "# Подсчет среднего и умножение на 70\n",
    "mean_image = images.float().mean(dim=0) * 70\n",
    "\n",
    "# Нарисовать серую картинку\n",
    "plt.imshow(mean_image.int())\n",
    "plt.show()\n"
   ],
   "metadata": {
    "collapsed": false,
    "ExecuteTime": {
     "start_time": "2023-05-04T18:00:00.791692Z",
     "end_time": "2023-05-04T18:00:01.463066Z"
    }
   }
  },
  {
   "cell_type": "code",
   "execution_count": 16,
   "outputs": [],
   "source": [
    "# Задача №4.\n",
    "#\n",
    "# 1.     Напишите функцию forward_pass(X, w) (𝑤0 входит в 𝑤) для одного нейрона (с сигмоидой)"
   ],
   "metadata": {
    "collapsed": false,
    "ExecuteTime": {
     "start_time": "2023-05-04T13:21:08.942667Z",
     "end_time": "2023-05-04T13:21:08.948341Z"
    }
   }
  },
  {
   "cell_type": "code",
   "execution_count": 19,
   "outputs": [],
   "source": [
    "def sigmoid(x):\n",
    "    return 1 / (1 + np.exp(-x))\n",
    "\n",
    "def forward_pass(X, w):\n",
    "\n",
    "    n = X.shape[0]\n",
    "    y_pred = np.zeros((n, 1))\n",
    "    y_pred = sigmoid(X @ w.reshape(X.shape[1], 1))\n",
    "    return y_pred.reshape(-1, 1)"
   ],
   "metadata": {
    "collapsed": false,
    "ExecuteTime": {
     "start_time": "2023-05-04T17:54:14.438054Z",
     "end_time": "2023-05-04T17:54:14.453345Z"
    }
   }
  },
  {
   "cell_type": "code",
   "execution_count": null,
   "outputs": [],
   "source": [
    "# Задача №5.\n",
    "#\n",
    "# 1.     Перейдите на Google Colaboratory, чтобы работать с GPU. Загрузите туда этот ноутбук (Upload notebook)\n",
    "#\n",
    "# 2.     В Colab нажмите в меню сверху: Runtime -> Change Runtime Type -> GPU, где изначально стоит None\n",
    "#\n",
    "# 3.     Объявите тензор a размера (2, 3, 4) и тензор b размера (1, 8, 3) на GPU, иницилизируйте их случайно равномерно (.uniform_())\n",
    "#\n",
    "# 4.     Затем измените форму тензора b, чтобы она совпадала с формой тензора a, получите тензор c\n",
    "#\n",
    "# 5.     Переместите c на CPU, переместите a на CPU\n",
    "#\n",
    "# 6.     Оберните их в Variable()\n",
    "#\n",
    "# 7.     Объявите тензор L = torch.mean((c - a)**2) и посчитайте градиент L по c ( то есть ∂𝐿∂𝑐)∂L∂c)\n",
    "#\n",
    "# 8.     Выведите градиент L по c"
   ],
   "metadata": {
    "collapsed": false
   }
  },
  {
   "cell_type": "code",
   "execution_count": null,
   "outputs": [],
   "source": [
    "\n",
    "# 3. Создаем тензоры а и b\n",
    "a = torch.rand(2, 3, 4)\n",
    "b = torch.rand(1, 8, 3)\n",
    "\n",
    "# 4. Изменяем форму тензора b, чтобы она совпадала с формой тензора a\n",
    "b = b.view(2, 3, 4)\n",
    "\n",
    "# 5. Переносим тензор b на CPU и тензор a на CPU\n",
    "b = b.cpu()\n",
    "a = a.cpu()\n",
    "\n",
    "# 6. Оборачиваем их в переменные\n",
    "a = torch.autograd.Variable(a, requires_grad=True)\n",
    "b = torch.autograd.Variable(b, requires_grad=True)\n",
    "\n",
    "# 7. Создаем тензор L и вычисляем его градиент по с\n",
    "c = torch.rand(2, 3, 4, requires_grad=True)\n",
    "L = torch.mean((c - a) ** 2)\n",
    "L.backward(torch.ones_like(L))\n",
    "\n",
    "# 8. Выводим градиент L по c\n",
    "print(c.grad)"
   ],
   "metadata": {
    "collapsed": false
   }
  }
 ],
 "metadata": {
  "kernelspec": {
   "display_name": "Python 3",
   "language": "python",
   "name": "python3"
  },
  "language_info": {
   "codemirror_mode": {
    "name": "ipython",
    "version": 2
   },
   "file_extension": ".py",
   "mimetype": "text/x-python",
   "name": "python",
   "nbconvert_exporter": "python",
   "pygments_lexer": "ipython2",
   "version": "2.7.6"
  }
 },
 "nbformat": 4,
 "nbformat_minor": 0
}
