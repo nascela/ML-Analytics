{
 "cells": [
  {
   "cell_type": "markdown",
   "metadata": {},
   "source": [
    "# Тема \"Ансамблевые методы\""
   ]
  },
  {
   "cell_type": "markdown",
   "metadata": {},
   "source": [
    "# Случайный лес"
   ]
  },
  {
   "cell_type": "markdown",
   "metadata": {},
   "source": [
    "Случайный лес (random forest) — это множество решающих деревьев. Каждое дерево выдает свое решение для загруженных данных. В задаче регрессии их ответы усредняются, в задаче классификации принимается решение голосованием по большинству. Все деревья строятся независимо друг от друга по следующей схеме:\n",
    "\n",
    "- Выбирается подвыборка обучающей выборки размера samplesize (м.б. с возвращением) – по ней строится дерево (для каждого дерева — своя подвыборка).\n",
    "- Для построения каждого расщепления в дереве просматриваем max_features случайных признаков (для каждого нового расщепления — свои случайные признаки).\n",
    "- Выбираем наилучшие признак и расщепление по нему (по заранее заданному критерию). Дерево строится, как правило, до исчерпания выборки (пока в листьях не останутся представители только одного класса), но в современных реализациях есть параметры, которые ограничивают высоту дерева, число объектов в листьях и число объектов в подвыборке, при котором проводится расщепление."
   ]
  },
  {
   "cell_type": "markdown",
   "metadata": {},
   "source": [
    "Подобный алгоритм построения соответствует главному принципу ансамблирования (построению алгоритма машинного обучения на базе нескольких, в данном случае решающих деревьев): базовые алгоритмы должны быть хорошими и разнообразными (поэтому каждое дерево строится на своей обучающей выборке и при выборе расщеплений есть элемент случайности)."
   ]
  },
  {
   "cell_type": "markdown",
   "metadata": {},
   "source": [
    "Число деревьев — n_estimators\n",
    "Чем больше деревьев, тем лучше качество, но время настройки и работы случайного леса также пропорционально увеличиваются."
   ]
  },
  {
   "cell_type": "code",
   "execution_count": 1,
   "metadata": {},
   "outputs": [],
   "source": [
    "import pandas as pd"
   ]
  },
  {
   "cell_type": "code",
   "execution_count": 2,
   "metadata": {},
   "outputs": [],
   "source": [
    "df = pd.read_csv('Модуль 2_Тема 5. Titanic.csv')"
   ]
  },
  {
   "cell_type": "code",
   "execution_count": 3,
   "metadata": {},
   "outputs": [
    {
     "data": {
      "text/html": [
       "<div>\n",
       "<style scoped>\n",
       "    .dataframe tbody tr th:only-of-type {\n",
       "        vertical-align: middle;\n",
       "    }\n",
       "\n",
       "    .dataframe tbody tr th {\n",
       "        vertical-align: top;\n",
       "    }\n",
       "\n",
       "    .dataframe thead th {\n",
       "        text-align: right;\n",
       "    }\n",
       "</style>\n",
       "<table border=\"1\" class=\"dataframe\">\n",
       "  <thead>\n",
       "    <tr style=\"text-align: right;\">\n",
       "      <th></th>\n",
       "      <th>PassengerId</th>\n",
       "      <th>Survived</th>\n",
       "      <th>Pclass</th>\n",
       "      <th>Name</th>\n",
       "      <th>Sex</th>\n",
       "      <th>Age</th>\n",
       "      <th>SibSp</th>\n",
       "      <th>Parch</th>\n",
       "      <th>Ticket</th>\n",
       "      <th>Fare</th>\n",
       "      <th>Cabin</th>\n",
       "      <th>Embarked</th>\n",
       "    </tr>\n",
       "  </thead>\n",
       "  <tbody>\n",
       "    <tr>\n",
       "      <th>0</th>\n",
       "      <td>1</td>\n",
       "      <td>0</td>\n",
       "      <td>3</td>\n",
       "      <td>Braund, Mr. Owen Harris</td>\n",
       "      <td>male</td>\n",
       "      <td>22.0</td>\n",
       "      <td>1</td>\n",
       "      <td>0</td>\n",
       "      <td>A/5 21171</td>\n",
       "      <td>7.2500</td>\n",
       "      <td>NaN</td>\n",
       "      <td>S</td>\n",
       "    </tr>\n",
       "    <tr>\n",
       "      <th>1</th>\n",
       "      <td>2</td>\n",
       "      <td>1</td>\n",
       "      <td>1</td>\n",
       "      <td>Cumings, Mrs. John Bradley (Florence Briggs Th...</td>\n",
       "      <td>female</td>\n",
       "      <td>38.0</td>\n",
       "      <td>1</td>\n",
       "      <td>0</td>\n",
       "      <td>PC 17599</td>\n",
       "      <td>71.2833</td>\n",
       "      <td>C85</td>\n",
       "      <td>C</td>\n",
       "    </tr>\n",
       "    <tr>\n",
       "      <th>2</th>\n",
       "      <td>3</td>\n",
       "      <td>1</td>\n",
       "      <td>3</td>\n",
       "      <td>Heikkinen, Miss. Laina</td>\n",
       "      <td>female</td>\n",
       "      <td>26.0</td>\n",
       "      <td>0</td>\n",
       "      <td>0</td>\n",
       "      <td>STON/O2. 3101282</td>\n",
       "      <td>7.9250</td>\n",
       "      <td>NaN</td>\n",
       "      <td>S</td>\n",
       "    </tr>\n",
       "    <tr>\n",
       "      <th>3</th>\n",
       "      <td>4</td>\n",
       "      <td>1</td>\n",
       "      <td>1</td>\n",
       "      <td>Futrelle, Mrs. Jacques Heath (Lily May Peel)</td>\n",
       "      <td>female</td>\n",
       "      <td>35.0</td>\n",
       "      <td>1</td>\n",
       "      <td>0</td>\n",
       "      <td>113803</td>\n",
       "      <td>53.1000</td>\n",
       "      <td>C123</td>\n",
       "      <td>S</td>\n",
       "    </tr>\n",
       "    <tr>\n",
       "      <th>4</th>\n",
       "      <td>5</td>\n",
       "      <td>0</td>\n",
       "      <td>3</td>\n",
       "      <td>Allen, Mr. William Henry</td>\n",
       "      <td>male</td>\n",
       "      <td>35.0</td>\n",
       "      <td>0</td>\n",
       "      <td>0</td>\n",
       "      <td>373450</td>\n",
       "      <td>8.0500</td>\n",
       "      <td>NaN</td>\n",
       "      <td>S</td>\n",
       "    </tr>\n",
       "  </tbody>\n",
       "</table>\n",
       "</div>"
      ],
      "text/plain": [
       "   PassengerId  Survived  Pclass  \\\n",
       "0            1         0       3   \n",
       "1            2         1       1   \n",
       "2            3         1       3   \n",
       "3            4         1       1   \n",
       "4            5         0       3   \n",
       "\n",
       "                                                Name     Sex   Age  SibSp  \\\n",
       "0                            Braund, Mr. Owen Harris    male  22.0      1   \n",
       "1  Cumings, Mrs. John Bradley (Florence Briggs Th...  female  38.0      1   \n",
       "2                             Heikkinen, Miss. Laina  female  26.0      0   \n",
       "3       Futrelle, Mrs. Jacques Heath (Lily May Peel)  female  35.0      1   \n",
       "4                           Allen, Mr. William Henry    male  35.0      0   \n",
       "\n",
       "   Parch            Ticket     Fare Cabin Embarked  \n",
       "0      0         A/5 21171   7.2500   NaN        S  \n",
       "1      0          PC 17599  71.2833   C85        C  \n",
       "2      0  STON/O2. 3101282   7.9250   NaN        S  \n",
       "3      0            113803  53.1000  C123        S  \n",
       "4      0            373450   8.0500   NaN        S  "
      ]
     },
     "execution_count": 3,
     "metadata": {},
     "output_type": "execute_result"
    }
   ],
   "source": [
    "df.head()"
   ]
  },
  {
   "cell_type": "code",
   "execution_count": 4,
   "metadata": {},
   "outputs": [
    {
     "name": "stdout",
     "output_type": "stream",
     "text": [
      "<class 'pandas.core.frame.DataFrame'>\n",
      "RangeIndex: 891 entries, 0 to 890\n",
      "Data columns (total 12 columns):\n",
      " #   Column       Non-Null Count  Dtype  \n",
      "---  ------       --------------  -----  \n",
      " 0   PassengerId  891 non-null    int64  \n",
      " 1   Survived     891 non-null    int64  \n",
      " 2   Pclass       891 non-null    int64  \n",
      " 3   Name         891 non-null    object \n",
      " 4   Sex          891 non-null    object \n",
      " 5   Age          714 non-null    float64\n",
      " 6   SibSp        891 non-null    int64  \n",
      " 7   Parch        891 non-null    int64  \n",
      " 8   Ticket       891 non-null    object \n",
      " 9   Fare         891 non-null    float64\n",
      " 10  Cabin        204 non-null    object \n",
      " 11  Embarked     889 non-null    object \n",
      "dtypes: float64(2), int64(5), object(5)\n",
      "memory usage: 83.7+ KB\n"
     ]
    }
   ],
   "source": [
    "df.info()"
   ]
  },
  {
   "cell_type": "code",
   "execution_count": 5,
   "metadata": {},
   "outputs": [],
   "source": [
    "df = df.drop(['Cabin', 'Name', 'Sex', 'Ticket', 'Embarked'], axis=1) "
   ]
  },
  {
   "cell_type": "code",
   "execution_count": 6,
   "metadata": {},
   "outputs": [],
   "source": [
    "df = df[~df['Age'].isnull()]"
   ]
  },
  {
   "cell_type": "code",
   "execution_count": 7,
   "metadata": {},
   "outputs": [
    {
     "data": {
      "text/plain": [
       "(714, 7)"
      ]
     },
     "execution_count": 7,
     "metadata": {},
     "output_type": "execute_result"
    }
   ],
   "source": [
    "df.shape"
   ]
  },
  {
   "cell_type": "code",
   "execution_count": 8,
   "metadata": {},
   "outputs": [
    {
     "name": "stdout",
     "output_type": "stream",
     "text": [
      "<class 'pandas.core.frame.DataFrame'>\n",
      "Int64Index: 714 entries, 0 to 890\n",
      "Data columns (total 7 columns):\n",
      " #   Column       Non-Null Count  Dtype  \n",
      "---  ------       --------------  -----  \n",
      " 0   PassengerId  714 non-null    int64  \n",
      " 1   Survived     714 non-null    int64  \n",
      " 2   Pclass       714 non-null    int64  \n",
      " 3   Age          714 non-null    float64\n",
      " 4   SibSp        714 non-null    int64  \n",
      " 5   Parch        714 non-null    int64  \n",
      " 6   Fare         714 non-null    float64\n",
      "dtypes: float64(2), int64(5)\n",
      "memory usage: 44.6 KB\n"
     ]
    }
   ],
   "source": [
    "df.info()"
   ]
  },
  {
   "cell_type": "code",
   "execution_count": 9,
   "metadata": {},
   "outputs": [],
   "source": [
    "y = df['Survived'] # это и есть наш target \n",
    "df = df.drop('Survived', axis=1) #удаляем ответы из датафрейма"
   ]
  },
  {
   "cell_type": "code",
   "execution_count": 10,
   "metadata": {},
   "outputs": [],
   "source": [
    "from sklearn.metrics import precision_score, recall_score, accuracy_score, classification_report "
   ]
  },
  {
   "cell_type": "code",
   "execution_count": 11,
   "metadata": {},
   "outputs": [],
   "source": [
    "from sklearn.model_selection import train_test_split"
   ]
  },
  {
   "cell_type": "code",
   "execution_count": 12,
   "metadata": {},
   "outputs": [],
   "source": [
    "X_train, X_test, y_train, y_test = train_test_split(df, y, test_size=0.33, random_state=42)"
   ]
  },
  {
   "cell_type": "code",
   "execution_count": 13,
   "metadata": {},
   "outputs": [],
   "source": [
    "from sklearn.metrics import accuracy_score, f1_score \n",
    "#до этого момента мы полностью повторяем действия из темы \"Обработка датафреймов и Использование функций\""
   ]
  },
  {
   "cell_type": "code",
   "execution_count": 14,
   "metadata": {},
   "outputs": [
    {
     "name": "stdout",
     "output_type": "stream",
     "text": [
      "precision 0.7051282051282052\n",
      "recall 0.5555555555555556\n",
      "accuracy 0.7161016949152542\n",
      "f1 0.6214689265536725\n"
     ]
    }
   ],
   "source": [
    "from sklearn.ensemble import RandomForestClassifier   #импортируем модель случайного леса\n",
    "model = RandomForestClassifier()                      # инициализируем модель\n",
    "model.fit(X_train, y_train)                           # обучаем модель\n",
    "predict = model.predict(X_test)                       # делаем предсказание\n",
    "\n",
    "print('precision', precision_score(y_test, predict))   #рассчитаем метрики\n",
    "print('recall', recall_score(y_test, predict))\n",
    "print('accuracy', accuracy_score(y_test, predict))\n",
    "print('f1', f1_score(y_test, predict))"
   ]
  },
  {
   "cell_type": "markdown",
   "metadata": {},
   "source": [
    "Как видим код в принципе похож на тот, который мы использовали ранее при обучении модели логистической регрессии."
   ]
  },
  {
   "cell_type": "code",
   "execution_count": 15,
   "metadata": {},
   "outputs": [
    {
     "name": "stdout",
     "output_type": "stream",
     "text": [
      "precision 0.7088607594936709\n",
      "recall 0.5656565656565656\n",
      "accuracy 0.7203389830508474\n",
      "f1 0.6292134831460675\n"
     ]
    }
   ],
   "source": [
    "# В моделях можно менять параметры и тем самым улучшать решение\n",
    "model = RandomForestClassifier(n_estimators=2000) #например увеличим количество деревье в случайном лесе.\n",
    "model.fit(X_train, y_train)\n",
    "predict = model.predict(X_test)\n",
    "\n",
    "print('precision', precision_score(y_test, predict))\n",
    "print('recall', recall_score(y_test, predict))\n",
    "print('accuracy', accuracy_score(y_test, predict))\n",
    "print('f1', f1_score(y_test, predict))"
   ]
  },
  {
   "cell_type": "code",
   "execution_count": 16,
   "metadata": {},
   "outputs": [],
   "source": [
    "# Еще модель случайного леса умеет рассчитывать вероятность\n",
    "predict_proba = model.predict_proba(X_test)"
   ]
  },
  {
   "cell_type": "code",
   "execution_count": 17,
   "metadata": {},
   "outputs": [
    {
     "data": {
      "text/plain": [
       "array([[0.516 , 0.484 ],\n",
       "       [0.0385, 0.9615],\n",
       "       [0.493 , 0.507 ],\n",
       "       [0.2965, 0.7035],\n",
       "       [0.954 , 0.046 ],\n",
       "       [0.2145, 0.7855],\n",
       "       [0.738 , 0.262 ],\n",
       "       [0.5545, 0.4455],\n",
       "       [0.7085, 0.2915],\n",
       "       [0.9305, 0.0695],\n",
       "       [0.491 , 0.509 ],\n",
       "       [0.647 , 0.353 ],\n",
       "       [0.2   , 0.8   ],\n",
       "       [0.915 , 0.085 ],\n",
       "       [0.153 , 0.847 ],\n",
       "       [0.491 , 0.509 ],\n",
       "       [0.721 , 0.279 ],\n",
       "       [0.2985, 0.7015],\n",
       "       [0.506 , 0.494 ],\n",
       "       [0.4385, 0.5615],\n",
       "       [0.8415, 0.1585],\n",
       "       [0.643 , 0.357 ],\n",
       "       [0.1685, 0.8315],\n",
       "       [0.138 , 0.862 ],\n",
       "       [0.794 , 0.206 ],\n",
       "       [0.435 , 0.565 ],\n",
       "       [0.3765, 0.6235],\n",
       "       [0.6015, 0.3985],\n",
       "       [0.3485, 0.6515],\n",
       "       [0.918 , 0.082 ],\n",
       "       [0.8685, 0.1315],\n",
       "       [0.5425, 0.4575],\n",
       "       [0.287 , 0.713 ],\n",
       "       [0.957 , 0.043 ],\n",
       "       [0.8645, 0.1355],\n",
       "       [0.9185, 0.0815],\n",
       "       [0.6225, 0.3775],\n",
       "       [0.721 , 0.279 ],\n",
       "       [0.94  , 0.06  ],\n",
       "       [0.777 , 0.223 ],\n",
       "       [0.373 , 0.627 ],\n",
       "       [0.9135, 0.0865],\n",
       "       [0.134 , 0.866 ],\n",
       "       [0.724 , 0.276 ],\n",
       "       [0.2535, 0.7465],\n",
       "       [0.8415, 0.1585],\n",
       "       [0.539 , 0.461 ],\n",
       "       [0.725 , 0.275 ],\n",
       "       [0.708 , 0.292 ],\n",
       "       [0.543 , 0.457 ],\n",
       "       [0.361 , 0.639 ],\n",
       "       [0.7845, 0.2155],\n",
       "       [0.237 , 0.763 ],\n",
       "       [0.7415, 0.2585],\n",
       "       [0.833 , 0.167 ],\n",
       "       [0.8095, 0.1905],\n",
       "       [0.386 , 0.614 ],\n",
       "       [0.6355, 0.3645],\n",
       "       [0.945 , 0.055 ],\n",
       "       [0.7165, 0.2835],\n",
       "       [0.772 , 0.228 ],\n",
       "       [0.8565, 0.1435],\n",
       "       [0.693 , 0.307 ],\n",
       "       [0.7715, 0.2285],\n",
       "       [0.8685, 0.1315],\n",
       "       [0.4035, 0.5965],\n",
       "       [0.193 , 0.807 ],\n",
       "       [0.259 , 0.741 ],\n",
       "       [0.939 , 0.061 ],\n",
       "       [0.7785, 0.2215],\n",
       "       [0.8575, 0.1425],\n",
       "       [0.4605, 0.5395],\n",
       "       [0.6495, 0.3505],\n",
       "       [0.893 , 0.107 ],\n",
       "       [0.8795, 0.1205],\n",
       "       [0.8785, 0.1215],\n",
       "       [0.87  , 0.13  ],\n",
       "       [0.865 , 0.135 ],\n",
       "       [0.952 , 0.048 ],\n",
       "       [0.157 , 0.843 ],\n",
       "       [0.9115, 0.0885],\n",
       "       [0.2065, 0.7935],\n",
       "       [0.8105, 0.1895],\n",
       "       [0.6395, 0.3605],\n",
       "       [0.9855, 0.0145],\n",
       "       [0.9415, 0.0585],\n",
       "       [0.904 , 0.096 ],\n",
       "       [0.8085, 0.1915],\n",
       "       [0.829 , 0.171 ],\n",
       "       [0.7245, 0.2755],\n",
       "       [0.764 , 0.236 ],\n",
       "       [0.1195, 0.8805],\n",
       "       [0.4895, 0.5105],\n",
       "       [0.826 , 0.174 ],\n",
       "       [0.597 , 0.403 ],\n",
       "       [0.6545, 0.3455],\n",
       "       [0.2965, 0.7035],\n",
       "       [0.1125, 0.8875],\n",
       "       [0.283 , 0.717 ],\n",
       "       [0.759 , 0.241 ],\n",
       "       [0.2995, 0.7005],\n",
       "       [0.618 , 0.382 ],\n",
       "       [0.885 , 0.115 ],\n",
       "       [0.632 , 0.368 ],\n",
       "       [0.1645, 0.8355],\n",
       "       [0.588 , 0.412 ],\n",
       "       [0.92  , 0.08  ],\n",
       "       [0.1575, 0.8425],\n",
       "       [0.4005, 0.5995],\n",
       "       [0.7695, 0.2305],\n",
       "       [0.3325, 0.6675],\n",
       "       [0.861 , 0.139 ],\n",
       "       [0.6325, 0.3675],\n",
       "       [0.765 , 0.235 ],\n",
       "       [0.756 , 0.244 ],\n",
       "       [0.4785, 0.5215],\n",
       "       [0.615 , 0.385 ],\n",
       "       [0.3525, 0.6475],\n",
       "       [0.692 , 0.308 ],\n",
       "       [0.9825, 0.0175],\n",
       "       [0.468 , 0.532 ],\n",
       "       [0.8595, 0.1405],\n",
       "       [0.766 , 0.234 ],\n",
       "       [0.714 , 0.286 ],\n",
       "       [0.1785, 0.8215],\n",
       "       [0.958 , 0.042 ],\n",
       "       [0.7915, 0.2085],\n",
       "       [0.5825, 0.4175],\n",
       "       [0.4925, 0.5075],\n",
       "       [0.7835, 0.2165],\n",
       "       [0.734 , 0.266 ],\n",
       "       [0.79  , 0.21  ],\n",
       "       [0.5885, 0.4115],\n",
       "       [0.6335, 0.3665],\n",
       "       [0.695 , 0.305 ],\n",
       "       [0.763 , 0.237 ],\n",
       "       [0.9175, 0.0825],\n",
       "       [0.349 , 0.651 ],\n",
       "       [0.897 , 0.103 ],\n",
       "       [0.731 , 0.269 ],\n",
       "       [0.899 , 0.101 ],\n",
       "       [0.8365, 0.1635],\n",
       "       [0.4655, 0.5345],\n",
       "       [0.6625, 0.3375],\n",
       "       [0.742 , 0.258 ],\n",
       "       [0.696 , 0.304 ],\n",
       "       [0.9745, 0.0255],\n",
       "       [0.708 , 0.292 ],\n",
       "       [0.5255, 0.4745],\n",
       "       [0.6015, 0.3985],\n",
       "       [0.6025, 0.3975],\n",
       "       [0.836 , 0.164 ],\n",
       "       [0.868 , 0.132 ],\n",
       "       [0.7945, 0.2055],\n",
       "       [0.376 , 0.624 ],\n",
       "       [0.6985, 0.3015],\n",
       "       [0.788 , 0.212 ],\n",
       "       [0.3   , 0.7   ],\n",
       "       [0.213 , 0.787 ],\n",
       "       [0.2435, 0.7565],\n",
       "       [0.609 , 0.391 ],\n",
       "       [0.704 , 0.296 ],\n",
       "       [0.8515, 0.1485],\n",
       "       [0.2055, 0.7945],\n",
       "       [0.6545, 0.3455],\n",
       "       [0.4025, 0.5975],\n",
       "       [0.0915, 0.9085],\n",
       "       [0.7835, 0.2165],\n",
       "       [0.4355, 0.5645],\n",
       "       [0.84  , 0.16  ],\n",
       "       [0.89  , 0.11  ],\n",
       "       [0.486 , 0.514 ],\n",
       "       [0.891 , 0.109 ],\n",
       "       [0.5245, 0.4755],\n",
       "       [0.171 , 0.829 ],\n",
       "       [0.4135, 0.5865],\n",
       "       [0.7655, 0.2345],\n",
       "       [0.7485, 0.2515],\n",
       "       [0.8715, 0.1285],\n",
       "       [0.8995, 0.1005],\n",
       "       [0.219 , 0.781 ],\n",
       "       [0.7265, 0.2735],\n",
       "       [0.3005, 0.6995],\n",
       "       [0.105 , 0.895 ],\n",
       "       [0.7155, 0.2845],\n",
       "       [0.923 , 0.077 ],\n",
       "       [0.3105, 0.6895],\n",
       "       [0.2695, 0.7305],\n",
       "       [0.7755, 0.2245],\n",
       "       [0.4815, 0.5185],\n",
       "       [0.5055, 0.4945],\n",
       "       [0.2045, 0.7955],\n",
       "       [0.4035, 0.5965],\n",
       "       [0.7505, 0.2495],\n",
       "       [0.4845, 0.5155],\n",
       "       [0.124 , 0.876 ],\n",
       "       [0.7885, 0.2115],\n",
       "       [0.8415, 0.1585],\n",
       "       [0.1955, 0.8045],\n",
       "       [0.8005, 0.1995],\n",
       "       [0.678 , 0.322 ],\n",
       "       [0.8235, 0.1765],\n",
       "       [0.5885, 0.4115],\n",
       "       [0.2085, 0.7915],\n",
       "       [0.5705, 0.4295],\n",
       "       [0.6175, 0.3825],\n",
       "       [0.5295, 0.4705],\n",
       "       [0.5255, 0.4745],\n",
       "       [0.8115, 0.1885],\n",
       "       [0.155 , 0.845 ],\n",
       "       [0.9595, 0.0405],\n",
       "       [0.847 , 0.153 ],\n",
       "       [0.188 , 0.812 ],\n",
       "       [0.8465, 0.1535],\n",
       "       [0.935 , 0.065 ],\n",
       "       [0.771 , 0.229 ],\n",
       "       [0.1735, 0.8265],\n",
       "       [0.7785, 0.2215],\n",
       "       [0.947 , 0.053 ],\n",
       "       [0.421 , 0.579 ],\n",
       "       [0.164 , 0.836 ],\n",
       "       [0.8525, 0.1475],\n",
       "       [0.5925, 0.4075],\n",
       "       [0.692 , 0.308 ],\n",
       "       [0.6215, 0.3785],\n",
       "       [0.116 , 0.884 ],\n",
       "       [0.826 , 0.174 ],\n",
       "       [0.5785, 0.4215],\n",
       "       [0.816 , 0.184 ],\n",
       "       [0.112 , 0.888 ],\n",
       "       [0.397 , 0.603 ],\n",
       "       [0.234 , 0.766 ],\n",
       "       [0.247 , 0.753 ],\n",
       "       [0.554 , 0.446 ],\n",
       "       [0.3245, 0.6755],\n",
       "       [0.7575, 0.2425]])"
      ]
     },
     "execution_count": 17,
     "metadata": {},
     "output_type": "execute_result"
    }
   ],
   "source": [
    "predict_proba # в первом столбце вероятность нуля, а во втором - вероятность единицы."
   ]
  },
  {
   "cell_type": "code",
   "execution_count": 18,
   "metadata": {},
   "outputs": [
    {
     "data": {
      "text/plain": [
       "array([0.484 , 0.9615, 0.507 , 0.7035, 0.046 , 0.7855, 0.262 , 0.4455,\n",
       "       0.2915, 0.0695, 0.509 , 0.353 , 0.8   , 0.085 , 0.847 , 0.509 ,\n",
       "       0.279 , 0.7015, 0.494 , 0.5615, 0.1585, 0.357 , 0.8315, 0.862 ,\n",
       "       0.206 , 0.565 , 0.6235, 0.3985, 0.6515, 0.082 , 0.1315, 0.4575,\n",
       "       0.713 , 0.043 , 0.1355, 0.0815, 0.3775, 0.279 , 0.06  , 0.223 ,\n",
       "       0.627 , 0.0865, 0.866 , 0.276 , 0.7465, 0.1585, 0.461 , 0.275 ,\n",
       "       0.292 , 0.457 , 0.639 , 0.2155, 0.763 , 0.2585, 0.167 , 0.1905,\n",
       "       0.614 , 0.3645, 0.055 , 0.2835, 0.228 , 0.1435, 0.307 , 0.2285,\n",
       "       0.1315, 0.5965, 0.807 , 0.741 , 0.061 , 0.2215, 0.1425, 0.5395,\n",
       "       0.3505, 0.107 , 0.1205, 0.1215, 0.13  , 0.135 , 0.048 , 0.843 ,\n",
       "       0.0885, 0.7935, 0.1895, 0.3605, 0.0145, 0.0585, 0.096 , 0.1915,\n",
       "       0.171 , 0.2755, 0.236 , 0.8805, 0.5105, 0.174 , 0.403 , 0.3455,\n",
       "       0.7035, 0.8875, 0.717 , 0.241 , 0.7005, 0.382 , 0.115 , 0.368 ,\n",
       "       0.8355, 0.412 , 0.08  , 0.8425, 0.5995, 0.2305, 0.6675, 0.139 ,\n",
       "       0.3675, 0.235 , 0.244 , 0.5215, 0.385 , 0.6475, 0.308 , 0.0175,\n",
       "       0.532 , 0.1405, 0.234 , 0.286 , 0.8215, 0.042 , 0.2085, 0.4175,\n",
       "       0.5075, 0.2165, 0.266 , 0.21  , 0.4115, 0.3665, 0.305 , 0.237 ,\n",
       "       0.0825, 0.651 , 0.103 , 0.269 , 0.101 , 0.1635, 0.5345, 0.3375,\n",
       "       0.258 , 0.304 , 0.0255, 0.292 , 0.4745, 0.3985, 0.3975, 0.164 ,\n",
       "       0.132 , 0.2055, 0.624 , 0.3015, 0.212 , 0.7   , 0.787 , 0.7565,\n",
       "       0.391 , 0.296 , 0.1485, 0.7945, 0.3455, 0.5975, 0.9085, 0.2165,\n",
       "       0.5645, 0.16  , 0.11  , 0.514 , 0.109 , 0.4755, 0.829 , 0.5865,\n",
       "       0.2345, 0.2515, 0.1285, 0.1005, 0.781 , 0.2735, 0.6995, 0.895 ,\n",
       "       0.2845, 0.077 , 0.6895, 0.7305, 0.2245, 0.5185, 0.4945, 0.7955,\n",
       "       0.5965, 0.2495, 0.5155, 0.876 , 0.2115, 0.1585, 0.8045, 0.1995,\n",
       "       0.322 , 0.1765, 0.4115, 0.7915, 0.4295, 0.3825, 0.4705, 0.4745,\n",
       "       0.1885, 0.845 , 0.0405, 0.153 , 0.812 , 0.1535, 0.065 , 0.229 ,\n",
       "       0.8265, 0.2215, 0.053 , 0.579 , 0.836 , 0.1475, 0.4075, 0.308 ,\n",
       "       0.3785, 0.884 , 0.174 , 0.4215, 0.184 , 0.888 , 0.603 , 0.766 ,\n",
       "       0.753 , 0.446 , 0.6755, 0.2425])"
      ]
     },
     "execution_count": 18,
     "metadata": {},
     "output_type": "execute_result"
    }
   ],
   "source": [
    "# здесь мы берем только вероятность единицы, то есть вероятность спасения\n",
    "# по синтаксису здесь мы выводим только первый столбец, а не нулевой\n",
    "predict_proba[:,1]"
   ]
  },
  {
   "cell_type": "code",
   "execution_count": 19,
   "metadata": {},
   "outputs": [],
   "source": [
    "# сгенерируем массив, который состоит из случайных значений от 0 до 1, длиной как predict_proba\n",
    "import random\n",
    "tmp = [\n",
    "    random.random()\n",
    "    for _ in range (len(predict_proba[:1]))\n",
    "]"
   ]
  },
  {
   "cell_type": "code",
   "execution_count": 20,
   "metadata": {},
   "outputs": [
    {
     "data": {
      "text/plain": [
       "(-0.01, 1.01)"
      ]
     },
     "execution_count": 20,
     "metadata": {},
     "output_type": "execute_result"
    },
    {
     "data": {
      "image/png": "[encoded data removed]",
      "text/plain": [
       "<Figure size 360x360 with 1 Axes>"
      ]
     },
     "metadata": {
      "needs_background": "light"
     },
     "output_type": "display_data"
    }
   ],
   "source": [
    "%matplotlib inline\n",
    "from matplotlib import pyplot as plt\n",
    "from sklearn.metrics import roc_auc_score, roc_curve\n",
    "fpr, tpr, thresholds = roc_curve(y_test, predict_proba[:,1])\n",
    "plt.figure(figsize=(5, 5))\n",
    "plt.plot(fpr, tpr)\n",
    "plt.plot([0, 1], [0, 1])\n",
    "plt.ylabel('tpr')\n",
    "plt.xlabel('fpr')\n",
    "plt.grid(True)\n",
    "plt.title('ROC curve')\n",
    "plt.xlim((-0.01, 1.01))\n",
    "plt.ylim((-0.01, 1.01))"
   ]
  },
  {
   "cell_type": "markdown",
   "metadata": {},
   "source": [
    "На рисунке выше мы построили ROC кривую и сравнили ее со случайной выборкой. Случайная выборка всегда дает вероятность равную 0,5, как при подбрасывании монетки.\n",
    "Чем дальше от прямой, которая соответствует случайной выборке, отстоит полученная ROC кривая тем лучше."
   ]
  },
  {
   "cell_type": "code",
   "execution_count": 21,
   "metadata": {},
   "outputs": [
    {
     "data": {
      "text/plain": [
       "0.7727641377276414"
      ]
     },
     "execution_count": 21,
     "metadata": {},
     "output_type": "execute_result"
    }
   ],
   "source": [
    "roc_auc_score(y_test, predict_proba[:,1]) #значение метрики ROC AUC "
   ]
  },
  {
   "cell_type": "code",
   "execution_count": 22,
   "metadata": {},
   "outputs": [
    {
     "data": {
      "text/plain": [
       "array([0.60024058, 0.59983962, 0.62149158, 0.69887731, 0.69006568,\n",
       "       0.74055829, 0.78530378, 0.79022989, 0.81896552, 0.83415435])"
      ]
     },
     "execution_count": 22,
     "metadata": {},
     "output_type": "execute_result"
    }
   ],
   "source": [
    "from sklearn.model_selection import cross_val_score #как и в предыдущих темах мы можем запустить кросс-валидацию\n",
    "rfc = RandomForestClassifier()\n",
    "cross_val_score(\n",
    "    rfc,\n",
    "    df,\n",
    "    y,\n",
    "    scoring='roc_auc',\n",
    "    cv=10\n",
    ")"
   ]
  },
  {
   "cell_type": "markdown",
   "metadata": {},
   "source": [
    "## Обработаем данные еще раз и получим лучший результат при обучении модели"
   ]
  },
  {
   "cell_type": "code",
   "execution_count": 23,
   "metadata": {},
   "outputs": [],
   "source": [
    "df = pd.read_csv('Модуль 2_Тема 5. Titanic.csv')"
   ]
  },
  {
   "cell_type": "code",
   "execution_count": 24,
   "metadata": {},
   "outputs": [
    {
     "data": {
      "text/html": [
       "<div>\n",
       "<style scoped>\n",
       "    .dataframe tbody tr th:only-of-type {\n",
       "        vertical-align: middle;\n",
       "    }\n",
       "\n",
       "    .dataframe tbody tr th {\n",
       "        vertical-align: top;\n",
       "    }\n",
       "\n",
       "    .dataframe thead th {\n",
       "        text-align: right;\n",
       "    }\n",
       "</style>\n",
       "<table border=\"1\" class=\"dataframe\">\n",
       "  <thead>\n",
       "    <tr style=\"text-align: right;\">\n",
       "      <th></th>\n",
       "      <th>PassengerId</th>\n",
       "      <th>Survived</th>\n",
       "      <th>Pclass</th>\n",
       "      <th>Name</th>\n",
       "      <th>Sex</th>\n",
       "      <th>Age</th>\n",
       "      <th>SibSp</th>\n",
       "      <th>Parch</th>\n",
       "      <th>Ticket</th>\n",
       "      <th>Fare</th>\n",
       "      <th>Cabin</th>\n",
       "      <th>Embarked</th>\n",
       "    </tr>\n",
       "  </thead>\n",
       "  <tbody>\n",
       "    <tr>\n",
       "      <th>0</th>\n",
       "      <td>1</td>\n",
       "      <td>0</td>\n",
       "      <td>3</td>\n",
       "      <td>Braund, Mr. Owen Harris</td>\n",
       "      <td>male</td>\n",
       "      <td>22.0</td>\n",
       "      <td>1</td>\n",
       "      <td>0</td>\n",
       "      <td>A/5 21171</td>\n",
       "      <td>7.2500</td>\n",
       "      <td>NaN</td>\n",
       "      <td>S</td>\n",
       "    </tr>\n",
       "    <tr>\n",
       "      <th>1</th>\n",
       "      <td>2</td>\n",
       "      <td>1</td>\n",
       "      <td>1</td>\n",
       "      <td>Cumings, Mrs. John Bradley (Florence Briggs Th...</td>\n",
       "      <td>female</td>\n",
       "      <td>38.0</td>\n",
       "      <td>1</td>\n",
       "      <td>0</td>\n",
       "      <td>PC 17599</td>\n",
       "      <td>71.2833</td>\n",
       "      <td>C85</td>\n",
       "      <td>C</td>\n",
       "    </tr>\n",
       "    <tr>\n",
       "      <th>2</th>\n",
       "      <td>3</td>\n",
       "      <td>1</td>\n",
       "      <td>3</td>\n",
       "      <td>Heikkinen, Miss. Laina</td>\n",
       "      <td>female</td>\n",
       "      <td>26.0</td>\n",
       "      <td>0</td>\n",
       "      <td>0</td>\n",
       "      <td>STON/O2. 3101282</td>\n",
       "      <td>7.9250</td>\n",
       "      <td>NaN</td>\n",
       "      <td>S</td>\n",
       "    </tr>\n",
       "    <tr>\n",
       "      <th>3</th>\n",
       "      <td>4</td>\n",
       "      <td>1</td>\n",
       "      <td>1</td>\n",
       "      <td>Futrelle, Mrs. Jacques Heath (Lily May Peel)</td>\n",
       "      <td>female</td>\n",
       "      <td>35.0</td>\n",
       "      <td>1</td>\n",
       "      <td>0</td>\n",
       "      <td>113803</td>\n",
       "      <td>53.1000</td>\n",
       "      <td>C123</td>\n",
       "      <td>S</td>\n",
       "    </tr>\n",
       "    <tr>\n",
       "      <th>4</th>\n",
       "      <td>5</td>\n",
       "      <td>0</td>\n",
       "      <td>3</td>\n",
       "      <td>Allen, Mr. William Henry</td>\n",
       "      <td>male</td>\n",
       "      <td>35.0</td>\n",
       "      <td>0</td>\n",
       "      <td>0</td>\n",
       "      <td>373450</td>\n",
       "      <td>8.0500</td>\n",
       "      <td>NaN</td>\n",
       "      <td>S</td>\n",
       "    </tr>\n",
       "  </tbody>\n",
       "</table>\n",
       "</div>"
      ],
      "text/plain": [
       "   PassengerId  Survived  Pclass  \\\n",
       "0            1         0       3   \n",
       "1            2         1       1   \n",
       "2            3         1       3   \n",
       "3            4         1       1   \n",
       "4            5         0       3   \n",
       "\n",
       "                                                Name     Sex   Age  SibSp  \\\n",
       "0                            Braund, Mr. Owen Harris    male  22.0      1   \n",
       "1  Cumings, Mrs. John Bradley (Florence Briggs Th...  female  38.0      1   \n",
       "2                             Heikkinen, Miss. Laina  female  26.0      0   \n",
       "3       Futrelle, Mrs. Jacques Heath (Lily May Peel)  female  35.0      1   \n",
       "4                           Allen, Mr. William Henry    male  35.0      0   \n",
       "\n",
       "   Parch            Ticket     Fare Cabin Embarked  \n",
       "0      0         A/5 21171   7.2500   NaN        S  \n",
       "1      0          PC 17599  71.2833   C85        C  \n",
       "2      0  STON/O2. 3101282   7.9250   NaN        S  \n",
       "3      0            113803  53.1000  C123        S  \n",
       "4      0            373450   8.0500   NaN        S  "
      ]
     },
     "execution_count": 24,
     "metadata": {},
     "output_type": "execute_result"
    }
   ],
   "source": [
    "df.head()"
   ]
  },
  {
   "cell_type": "code",
   "execution_count": 25,
   "metadata": {},
   "outputs": [
    {
     "name": "stdout",
     "output_type": "stream",
     "text": [
      "<class 'pandas.core.frame.DataFrame'>\n",
      "RangeIndex: 891 entries, 0 to 890\n",
      "Data columns (total 12 columns):\n",
      " #   Column       Non-Null Count  Dtype  \n",
      "---  ------       --------------  -----  \n",
      " 0   PassengerId  891 non-null    int64  \n",
      " 1   Survived     891 non-null    int64  \n",
      " 2   Pclass       891 non-null    int64  \n",
      " 3   Name         891 non-null    object \n",
      " 4   Sex          891 non-null    object \n",
      " 5   Age          714 non-null    float64\n",
      " 6   SibSp        891 non-null    int64  \n",
      " 7   Parch        891 non-null    int64  \n",
      " 8   Ticket       891 non-null    object \n",
      " 9   Fare         891 non-null    float64\n",
      " 10  Cabin        204 non-null    object \n",
      " 11  Embarked     889 non-null    object \n",
      "dtypes: float64(2), int64(5), object(5)\n",
      "memory usage: 83.7+ KB\n"
     ]
    }
   ],
   "source": [
    "df.info()"
   ]
  },
  {
   "cell_type": "code",
   "execution_count": 26,
   "metadata": {},
   "outputs": [],
   "source": [
    "df = df.drop(['Cabin', 'Name', 'Ticket', 'PassengerId'], axis=1)"
   ]
  },
  {
   "cell_type": "code",
   "execution_count": 27,
   "metadata": {},
   "outputs": [
    {
     "data": {
      "text/html": [
       "<div>\n",
       "<style scoped>\n",
       "    .dataframe tbody tr th:only-of-type {\n",
       "        vertical-align: middle;\n",
       "    }\n",
       "\n",
       "    .dataframe tbody tr th {\n",
       "        vertical-align: top;\n",
       "    }\n",
       "\n",
       "    .dataframe thead th {\n",
       "        text-align: right;\n",
       "    }\n",
       "</style>\n",
       "<table border=\"1\" class=\"dataframe\">\n",
       "  <thead>\n",
       "    <tr style=\"text-align: right;\">\n",
       "      <th></th>\n",
       "      <th>Survived</th>\n",
       "      <th>Pclass</th>\n",
       "      <th>Sex</th>\n",
       "      <th>Age</th>\n",
       "      <th>SibSp</th>\n",
       "      <th>Parch</th>\n",
       "      <th>Fare</th>\n",
       "      <th>Embarked</th>\n",
       "    </tr>\n",
       "  </thead>\n",
       "  <tbody>\n",
       "    <tr>\n",
       "      <th>0</th>\n",
       "      <td>0</td>\n",
       "      <td>3</td>\n",
       "      <td>male</td>\n",
       "      <td>22.0</td>\n",
       "      <td>1</td>\n",
       "      <td>0</td>\n",
       "      <td>7.2500</td>\n",
       "      <td>S</td>\n",
       "    </tr>\n",
       "    <tr>\n",
       "      <th>1</th>\n",
       "      <td>1</td>\n",
       "      <td>1</td>\n",
       "      <td>female</td>\n",
       "      <td>38.0</td>\n",
       "      <td>1</td>\n",
       "      <td>0</td>\n",
       "      <td>71.2833</td>\n",
       "      <td>C</td>\n",
       "    </tr>\n",
       "    <tr>\n",
       "      <th>2</th>\n",
       "      <td>1</td>\n",
       "      <td>3</td>\n",
       "      <td>female</td>\n",
       "      <td>26.0</td>\n",
       "      <td>0</td>\n",
       "      <td>0</td>\n",
       "      <td>7.9250</td>\n",
       "      <td>S</td>\n",
       "    </tr>\n",
       "    <tr>\n",
       "      <th>3</th>\n",
       "      <td>1</td>\n",
       "      <td>1</td>\n",
       "      <td>female</td>\n",
       "      <td>35.0</td>\n",
       "      <td>1</td>\n",
       "      <td>0</td>\n",
       "      <td>53.1000</td>\n",
       "      <td>S</td>\n",
       "    </tr>\n",
       "    <tr>\n",
       "      <th>4</th>\n",
       "      <td>0</td>\n",
       "      <td>3</td>\n",
       "      <td>male</td>\n",
       "      <td>35.0</td>\n",
       "      <td>0</td>\n",
       "      <td>0</td>\n",
       "      <td>8.0500</td>\n",
       "      <td>S</td>\n",
       "    </tr>\n",
       "  </tbody>\n",
       "</table>\n",
       "</div>"
      ],
      "text/plain": [
       "   Survived  Pclass     Sex   Age  SibSp  Parch     Fare Embarked\n",
       "0         0       3    male  22.0      1      0   7.2500        S\n",
       "1         1       1  female  38.0      1      0  71.2833        C\n",
       "2         1       3  female  26.0      0      0   7.9250        S\n",
       "3         1       1  female  35.0      1      0  53.1000        S\n",
       "4         0       3    male  35.0      0      0   8.0500        S"
      ]
     },
     "execution_count": 27,
     "metadata": {},
     "output_type": "execute_result"
    }
   ],
   "source": [
    "df.head()"
   ]
  },
  {
   "cell_type": "code",
   "execution_count": 28,
   "metadata": {},
   "outputs": [],
   "source": [
    "# Закодируем пол и порт посадки с помощью OneHotEncoding\n",
    "df = pd.get_dummies(df, columns=['Sex', 'Embarked'])"
   ]
  },
  {
   "cell_type": "code",
   "execution_count": 29,
   "metadata": {},
   "outputs": [
    {
     "data": {
      "text/html": [
       "<div>\n",
       "<style scoped>\n",
       "    .dataframe tbody tr th:only-of-type {\n",
       "        vertical-align: middle;\n",
       "    }\n",
       "\n",
       "    .dataframe tbody tr th {\n",
       "        vertical-align: top;\n",
       "    }\n",
       "\n",
       "    .dataframe thead th {\n",
       "        text-align: right;\n",
       "    }\n",
       "</style>\n",
       "<table border=\"1\" class=\"dataframe\">\n",
       "  <thead>\n",
       "    <tr style=\"text-align: right;\">\n",
       "      <th></th>\n",
       "      <th>Survived</th>\n",
       "      <th>Pclass</th>\n",
       "      <th>Age</th>\n",
       "      <th>SibSp</th>\n",
       "      <th>Parch</th>\n",
       "      <th>Fare</th>\n",
       "      <th>Sex_female</th>\n",
       "      <th>Sex_male</th>\n",
       "      <th>Embarked_C</th>\n",
       "      <th>Embarked_Q</th>\n",
       "      <th>Embarked_S</th>\n",
       "    </tr>\n",
       "  </thead>\n",
       "  <tbody>\n",
       "    <tr>\n",
       "      <th>0</th>\n",
       "      <td>0</td>\n",
       "      <td>3</td>\n",
       "      <td>22.0</td>\n",
       "      <td>1</td>\n",
       "      <td>0</td>\n",
       "      <td>7.2500</td>\n",
       "      <td>0</td>\n",
       "      <td>1</td>\n",
       "      <td>0</td>\n",
       "      <td>0</td>\n",
       "      <td>1</td>\n",
       "    </tr>\n",
       "    <tr>\n",
       "      <th>1</th>\n",
       "      <td>1</td>\n",
       "      <td>1</td>\n",
       "      <td>38.0</td>\n",
       "      <td>1</td>\n",
       "      <td>0</td>\n",
       "      <td>71.2833</td>\n",
       "      <td>1</td>\n",
       "      <td>0</td>\n",
       "      <td>1</td>\n",
       "      <td>0</td>\n",
       "      <td>0</td>\n",
       "    </tr>\n",
       "    <tr>\n",
       "      <th>2</th>\n",
       "      <td>1</td>\n",
       "      <td>3</td>\n",
       "      <td>26.0</td>\n",
       "      <td>0</td>\n",
       "      <td>0</td>\n",
       "      <td>7.9250</td>\n",
       "      <td>1</td>\n",
       "      <td>0</td>\n",
       "      <td>0</td>\n",
       "      <td>0</td>\n",
       "      <td>1</td>\n",
       "    </tr>\n",
       "    <tr>\n",
       "      <th>3</th>\n",
       "      <td>1</td>\n",
       "      <td>1</td>\n",
       "      <td>35.0</td>\n",
       "      <td>1</td>\n",
       "      <td>0</td>\n",
       "      <td>53.1000</td>\n",
       "      <td>1</td>\n",
       "      <td>0</td>\n",
       "      <td>0</td>\n",
       "      <td>0</td>\n",
       "      <td>1</td>\n",
       "    </tr>\n",
       "    <tr>\n",
       "      <th>4</th>\n",
       "      <td>0</td>\n",
       "      <td>3</td>\n",
       "      <td>35.0</td>\n",
       "      <td>0</td>\n",
       "      <td>0</td>\n",
       "      <td>8.0500</td>\n",
       "      <td>0</td>\n",
       "      <td>1</td>\n",
       "      <td>0</td>\n",
       "      <td>0</td>\n",
       "      <td>1</td>\n",
       "    </tr>\n",
       "  </tbody>\n",
       "</table>\n",
       "</div>"
      ],
      "text/plain": [
       "   Survived  Pclass   Age  SibSp  Parch     Fare  Sex_female  Sex_male  \\\n",
       "0         0       3  22.0      1      0   7.2500           0         1   \n",
       "1         1       1  38.0      1      0  71.2833           1         0   \n",
       "2         1       3  26.0      0      0   7.9250           1         0   \n",
       "3         1       1  35.0      1      0  53.1000           1         0   \n",
       "4         0       3  35.0      0      0   8.0500           0         1   \n",
       "\n",
       "   Embarked_C  Embarked_Q  Embarked_S  \n",
       "0           0           0           1  \n",
       "1           1           0           0  \n",
       "2           0           0           1  \n",
       "3           0           0           1  \n",
       "4           0           0           1  "
      ]
     },
     "execution_count": 29,
     "metadata": {},
     "output_type": "execute_result"
    }
   ],
   "source": [
    "df.head()"
   ]
  },
  {
   "cell_type": "code",
   "execution_count": 30,
   "metadata": {},
   "outputs": [
    {
     "name": "stdout",
     "output_type": "stream",
     "text": [
      "<class 'pandas.core.frame.DataFrame'>\n",
      "RangeIndex: 891 entries, 0 to 890\n",
      "Data columns (total 11 columns):\n",
      " #   Column      Non-Null Count  Dtype  \n",
      "---  ------      --------------  -----  \n",
      " 0   Survived    891 non-null    int64  \n",
      " 1   Pclass      891 non-null    int64  \n",
      " 2   Age         714 non-null    float64\n",
      " 3   SibSp       891 non-null    int64  \n",
      " 4   Parch       891 non-null    int64  \n",
      " 5   Fare        891 non-null    float64\n",
      " 6   Sex_female  891 non-null    uint8  \n",
      " 7   Sex_male    891 non-null    uint8  \n",
      " 8   Embarked_C  891 non-null    uint8  \n",
      " 9   Embarked_Q  891 non-null    uint8  \n",
      " 10  Embarked_S  891 non-null    uint8  \n",
      "dtypes: float64(2), int64(4), uint8(5)\n",
      "memory usage: 46.2 KB\n"
     ]
    }
   ],
   "source": [
    "df.info()"
   ]
  },
  {
   "cell_type": "code",
   "execution_count": 31,
   "metadata": {},
   "outputs": [],
   "source": [
    "# Заполним пропуски в данных самым простым подходящим пособом: медианой\n",
    "df.loc[df['Age'].isnull(), 'Age'] = df['Age'].median()"
   ]
  },
  {
   "cell_type": "code",
   "execution_count": 32,
   "metadata": {},
   "outputs": [
    {
     "name": "stdout",
     "output_type": "stream",
     "text": [
      "<class 'pandas.core.frame.DataFrame'>\n",
      "RangeIndex: 891 entries, 0 to 890\n",
      "Data columns (total 11 columns):\n",
      " #   Column      Non-Null Count  Dtype  \n",
      "---  ------      --------------  -----  \n",
      " 0   Survived    891 non-null    int64  \n",
      " 1   Pclass      891 non-null    int64  \n",
      " 2   Age         891 non-null    float64\n",
      " 3   SibSp       891 non-null    int64  \n",
      " 4   Parch       891 non-null    int64  \n",
      " 5   Fare        891 non-null    float64\n",
      " 6   Sex_female  891 non-null    uint8  \n",
      " 7   Sex_male    891 non-null    uint8  \n",
      " 8   Embarked_C  891 non-null    uint8  \n",
      " 9   Embarked_Q  891 non-null    uint8  \n",
      " 10  Embarked_S  891 non-null    uint8  \n",
      "dtypes: float64(2), int64(4), uint8(5)\n",
      "memory usage: 46.2 KB\n"
     ]
    }
   ],
   "source": [
    "# Проверяем что все параметры имеют числовые значения\n",
    "df.info()"
   ]
  },
  {
   "cell_type": "code",
   "execution_count": 33,
   "metadata": {},
   "outputs": [
    {
     "data": {
      "text/plain": [
       "array([0.79688312, 0.86363636, 0.72673797, 0.8868984 , 0.92406417,\n",
       "       0.87807487, 0.85668449, 0.82941176, 0.91203209, 0.88439153])"
      ]
     },
     "execution_count": 33,
     "metadata": {},
     "output_type": "execute_result"
    }
   ],
   "source": [
    "dtc = RandomForestClassifier(n_estimators=2000)\n",
    "cross_val_score(\n",
    "    dtc,\n",
    "    df.drop('Survived', axis=1),\n",
    "    df['Survived'],\n",
    "    scoring='roc_auc',\n",
    "    cv=10\n",
    ")"
   ]
  },
  {
   "cell_type": "markdown",
   "metadata": {},
   "source": [
    "Теперь мы видим, что значения существенно улучшились по сравнению с предыдущим решением, когда мы удалили много столбцов и строк с пропущенными значениями."
   ]
  },
  {
   "cell_type": "markdown",
   "metadata": {},
   "source": [
    "Таким образом, сами данные всегда оказывают существенное влияние на конечное решение."
   ]
  },
  {
   "cell_type": "markdown",
   "metadata": {},
   "source": [
    "# Градиентный бустинг XGBoost"
   ]
  },
  {
   "cell_type": "markdown",
   "metadata": {},
   "source": [
    "XGBoost — алгоритм машинного обучения, основанный на дереве поиска решений и использующий фреймворк градиентного бустинга. В задачах предсказания, которые используют неструктурированные данные (например, изображения или текст), искусственная нейронная сеть превосходит все остальные алгоритмы или фреймворки. Но когда дело доходит до структурированных или табличных данных небольших размеров, зачастую лучшие результаты показывают алгоритмы, основанные на дереве поиска решений."
   ]
  },
  {
   "cell_type": "markdown",
   "metadata": {},
   "source": [
    "Градиентный бустинг — это техника машинного обучения для задач классификации и регрессии, которая строит модель предсказания в форме ансамбля слабых предсказывающих моделей, обычно деревьев решений. Обучение ансамбля проводится последовательно. На каждой итерации вычисляются отклонения предсказаний уже обученного ансамбля на обучающей выборке. Следующая модель, которая будет добавлена в ансамбль будет предсказывать эти отклонения. Таким образом, добавив предсказания нового дерева к предсказаниям обученного ансамбля мы можем уменьшить среднее отклонение модели, которое является целевым показателем оптимизационной задачи. Новые деревья добавляются в ансамбль до тех пор, пока ошибка продолжает уменьшаться, либо пока не выполняется одно из правил \"ранней остановки\"."
   ]
  },
  {
   "cell_type": "markdown",
   "metadata": {},
   "source": [
    "### Пример использования с помощью библиотеки xgboost"
   ]
  },
  {
   "cell_type": "markdown",
   "metadata": {},
   "source": [
    "Загрузка датасета."
   ]
  },
  {
   "cell_type": "code",
   "execution_count": 34,
   "metadata": {},
   "outputs": [],
   "source": [
    "from sklearn import datasets\n",
    "iris = datasets.load_iris()\n",
    "X = iris.data\n",
    "y = iris.target"
   ]
  },
  {
   "cell_type": "markdown",
   "metadata": {},
   "source": [
    "Разделение датасета на обучающую/тестовую выборку."
   ]
  },
  {
   "cell_type": "code",
   "execution_count": 35,
   "metadata": {},
   "outputs": [],
   "source": [
    "X_train, X_test, y_train, y_test = train_test_split(X, y, test_size=0.2, random_state=42)"
   ]
  },
  {
   "cell_type": "markdown",
   "metadata": {},
   "source": [
    "Иногда необходимо установить сам модуль, что и сделано в следующей строке."
   ]
  },
  {
   "cell_type": "code",
   "execution_count": 38,
   "metadata": {},
   "outputs": [
    {
     "name": "stdout",
     "output_type": "stream",
     "text": [
      "Collecting xgboost\n",
      "  Downloading xgboost-1.6.0-py3-none-win_amd64.whl (126.1 MB)\n",
      "Requirement already satisfied: scipy in c:\\users\\user\\anaconda3\\lib\\site-packages (from xgboost) (1.6.2)\n",
      "Requirement already satisfied: numpy in c:\\users\\user\\anaconda3\\lib\\site-packages (from xgboost) (1.19.5)\n",
      "Installing collected packages: xgboost\n",
      "Successfully installed xgboost-1.6.0\n"
     ]
    }
   ],
   "source": [
    "!pip install xgboost"
   ]
  },
  {
   "cell_type": "markdown",
   "metadata": {},
   "source": [
    "Видим сообщение: Successfully installed xgboost-1.6.0 (номер версии меняется)\n",
    "Значит модуль установлен."
   ]
  },
  {
   "cell_type": "markdown",
   "metadata": {},
   "source": [
    "Импорт XGBoost и создание необходимых объектов."
   ]
  },
  {
   "cell_type": "code",
   "execution_count": 37,
   "metadata": {},
   "outputs": [
    {
     "ename": "ModuleNotFoundError",
     "evalue": "No module named 'xgboost'",
     "output_type": "error",
     "traceback": [
      "\u001b[1;31m---------------------------------------------------------------------------\u001b[0m",
      "\u001b[1;31mModuleNotFoundError\u001b[0m                       Traceback (most recent call last)",
      "\u001b[1;32m<ipython-input-37-0d4556b35ced>\u001b[0m in \u001b[0;36m<module>\u001b[1;34m\u001b[0m\n\u001b[1;32m----> 1\u001b[1;33m \u001b[1;32mimport\u001b[0m \u001b[0mxgboost\u001b[0m \u001b[1;32mas\u001b[0m \u001b[0mxgb\u001b[0m                          \u001b[1;31m# Вот так выглядит сообщение об ошибке, если данный модуль не установлен.\u001b[0m\u001b[1;33m\u001b[0m\u001b[1;33m\u001b[0m\u001b[0m\n\u001b[0m\u001b[0;32m      2\u001b[0m \u001b[0mdtrain\u001b[0m \u001b[1;33m=\u001b[0m \u001b[0mxgb\u001b[0m\u001b[1;33m.\u001b[0m\u001b[0mDMatrix\u001b[0m\u001b[1;33m(\u001b[0m\u001b[0mX_train\u001b[0m\u001b[1;33m,\u001b[0m \u001b[0mlabel\u001b[0m\u001b[1;33m=\u001b[0m\u001b[0my_train\u001b[0m\u001b[1;33m)\u001b[0m   \u001b[1;31m# ModuleNotFoundError: No module named 'xgboost'\u001b[0m\u001b[1;33m\u001b[0m\u001b[1;33m\u001b[0m\u001b[0m\n\u001b[0;32m      3\u001b[0m \u001b[0mdtest\u001b[0m \u001b[1;33m=\u001b[0m \u001b[0mxgb\u001b[0m\u001b[1;33m.\u001b[0m\u001b[0mDMatrix\u001b[0m\u001b[1;33m(\u001b[0m\u001b[0mX_test\u001b[0m\u001b[1;33m,\u001b[0m \u001b[0mlabel\u001b[0m\u001b[1;33m=\u001b[0m\u001b[0my_test\u001b[0m\u001b[1;33m)\u001b[0m\u001b[1;33m\u001b[0m\u001b[1;33m\u001b[0m\u001b[0m\n",
      "\u001b[1;31mModuleNotFoundError\u001b[0m: No module named 'xgboost'"
     ]
    }
   ],
   "source": [
    "import xgboost as xgb                          # Вот так выглядит сообщение об ошибке, если данный модуль не установлен.\n",
    "dtrain = xgb.DMatrix(X_train, label=y_train)   # ModuleNotFoundError: No module named 'xgboost'\n",
    "dtest = xgb.DMatrix(X_test, label=y_test)"
   ]
  },
  {
   "cell_type": "code",
   "execution_count": 39,
   "metadata": {},
   "outputs": [],
   "source": [
    "import xgboost as xgb\n",
    "dtrain = xgb.DMatrix(X_train, label=y_train)\n",
    "dtest = xgb.DMatrix(X_test, label=y_test)"
   ]
  },
  {
   "cell_type": "markdown",
   "metadata": {},
   "source": [
    "Задание параметров модели."
   ]
  },
  {
   "cell_type": "code",
   "execution_count": 40,
   "metadata": {},
   "outputs": [],
   "source": [
    "param = {\n",
    "   'max_depth': 3,\n",
    "   'eta': 0.3, \n",
    "   'silent': 1, \n",
    "   'objective': 'multi:softprob',\n",
    "   'num_class': 3}\n",
    "num_round = 20"
   ]
  },
  {
   "cell_type": "markdown",
   "metadata": {},
   "source": [
    "Обучение."
   ]
  },
  {
   "cell_type": "code",
   "execution_count": 41,
   "metadata": {},
   "outputs": [
    {
     "name": "stdout",
     "output_type": "stream",
     "text": [
      "[22:56:28] WARNING: C:/Users/Administrator/workspace/xgboost-win64_release_1.6.0/src/learner.cc:627: \n",
      "Parameters: { \"silent\" } might not be used.\n",
      "\n",
      "  This could be a false alarm, with some parameters getting used by language bindings but\n",
      "  then being mistakenly passed down to XGBoost core, or some parameter actually being used\n",
      "  but getting flagged wrongly here. Please open an issue if you find any such cases.\n",
      "\n",
      "\n"
     ]
    }
   ],
   "source": [
    "bst = xgb.train(param, dtrain, num_round)\n",
    "preds = bst.predict(dtest)"
   ]
  },
  {
   "cell_type": "markdown",
   "metadata": {},
   "source": [
    "Определение качества модели на тестовой выборке."
   ]
  },
  {
   "cell_type": "code",
   "execution_count": 42,
   "metadata": {},
   "outputs": [
    {
     "data": {
      "text/plain": [
       "1.0"
      ]
     },
     "execution_count": 42,
     "metadata": {},
     "output_type": "execute_result"
    }
   ],
   "source": [
    "import numpy as np\n",
    "best_preds = np.asarray([np.argmax(line) for line in preds])\n",
    "precision_score(y_test, best_preds, average='macro')"
   ]
  },
  {
   "cell_type": "markdown",
   "metadata": {},
   "source": [
    "Как видно по полученному результату данная модель работает идеально."
   ]
  },
  {
   "cell_type": "markdown",
   "metadata": {},
   "source": [
    "Попробуйте построить модель xgboost таким образом, чтобы она работала без уведомлений."
   ]
  }
 ],
 "metadata": {
  "kernelspec": {
   "display_name": "Python 3",
   "language": "python",
   "name": "python3"
  },
  "language_info": {
   "codemirror_mode": {
    "name": "ipython",
    "version": 3
   },
   "file_extension": ".py",
   "mimetype": "text/x-python",
   "name": "python",
   "nbconvert_exporter": "python",
   "pygments_lexer": "ipython3",
   "version": "3.8.8"
  }
 },
 "nbformat": 4,
 "nbformat_minor": 2
}
