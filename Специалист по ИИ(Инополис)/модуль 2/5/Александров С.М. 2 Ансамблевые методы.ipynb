{
 "cells": [
  {
   "cell_type": "code",
   "execution_count": 25,
   "metadata": {
    "collapsed": true,
    "ExecuteTime": {
     "start_time": "2023-04-24T18:01:09.755031Z",
     "end_time": "2023-04-24T18:01:10.082773Z"
    }
   },
   "outputs": [],
   "source": [
    "import pandas as pd\n",
    "import numpy as np\n",
    "import matplotlib.pyplot as plt\n",
    "# для разделения df на train и test выборку\n",
    "from sklearn.model_selection import train_test_split\n",
    "\n",
    "# для подготовки данных\n",
    "from sklearn.pipeline import Pipeline\n",
    "from sklearn.impute import SimpleImputer\n",
    "from sklearn.preprocessing import StandardScaler\n",
    "from sklearn.preprocessing import OneHotEncoder\n",
    "from sklearn.compose import ColumnTransformer\n",
    "\n",
    "# перекрестная проверка модели\n",
    "from sklearn.model_selection import cross_val_score\n",
    "\n",
    "# # модели\n",
    "from sklearn.ensemble import RandomForestClassifier\n",
    "# from sklearn.svm import SVC\n",
    "# from sklearn.tree import DecisionTreeClassifier\n",
    "# from sklearn.neighbors import KNeighborsClassifier\n",
    "# from sklearn import svm #импортируем нашу модель\n",
    "\n",
    "from sklearn.model_selection import validation_curve # для исследования модели\n",
    "from sklearn.model_selection import StratifiedKFold # для стратифицированной выборки\n",
    "from sklearn.model_selection import RandomizedSearchCV #импортирует случайный поиск гиперпараметров\n",
    "from sklearn.model_selection import GridSearchCV # полный перебор гиперпараметров\n",
    "from sklearn import metrics # импортируем метрики\n",
    "from sklearn.metrics import precision_score, recall_score, accuracy_score, classification_report, accuracy_score, f1_score, roc_auc_score, roc_curve"
   ]
  },
  {
   "cell_type": "code",
   "execution_count": 8,
   "outputs": [],
   "source": [
    "df = pd.read_csv('datasets/dataset_Facebook.csv')"
   ],
   "metadata": {
    "collapsed": false,
    "ExecuteTime": {
     "start_time": "2023-04-20T15:10:36.772934Z",
     "end_time": "2023-04-20T15:10:36.840132Z"
    }
   }
  },
  {
   "cell_type": "code",
   "execution_count": 9,
   "outputs": [
    {
     "data": {
      "text/plain": "   Page total likes    Type  Category  Post Month  Post Weekday  Post Hour  \\\n0            139441   Photo         2          12           4.0          3   \n1            139441  Status         2          12           3.0         10   \n2            139441   Photo         3          12           3.0          3   \n3            139441   Photo         2          12           2.0         10   \n4            139441   Photo         2          12           2.0          3   \n\n   Paid  Lifetime Post Total Reach  Lifetime Post Total Impressions  \\\n0   0.0                     2752.0                           5091.0   \n1   0.0                    10460.0                          19057.0   \n2   0.0                     2413.0                           4373.0   \n3   1.0                    50128.0                          87991.0   \n4   0.0                     7244.0                          13594.0   \n\n   Lifetime Engaged Users  Lifetime Post Consumers  \\\n0                   178.0                    109.0   \n1                  1457.0                   1361.0   \n2                   177.0                    113.0   \n3                  2211.0                    790.0   \n4                   671.0                    410.0   \n\n   Lifetime Post Consumptions  \\\n0                       159.0   \n1                      1674.0   \n2                       154.0   \n3                      1119.0   \n4                       580.0   \n\n   Lifetime Post Impressions by people who have liked your Page  \\\n0                                             3078.0              \n1                                            11710.0              \n2                                             2812.0              \n3                                            61027.0              \n4                                             6228.0              \n\n   Lifetime Post reach by people who like your Page  \\\n0                                            1640.0   \n1                                            6112.0   \n2                                            1503.0   \n3                                           32048.0   \n4                                            3200.0   \n\n   Lifetime People who have liked your Page and engaged with your post  \\\n0                                              119.0                     \n1                                             1108.0                     \n2                                              132.0                     \n3                                             1386.0                     \n4                                              396.0                     \n\n   comment    like  share  Total Interactions  \n0      4.0    79.0   17.0                 100  \n1      5.0   130.0   29.0                 164  \n2      0.0    66.0   14.0                  80  \n3     58.0  1572.0  147.0                1777  \n4     19.0   325.0   49.0                 393  ",
      "text/html": "<div>\n<style scoped>\n    .dataframe tbody tr th:only-of-type {\n        vertical-align: middle;\n    }\n\n    .dataframe tbody tr th {\n        vertical-align: top;\n    }\n\n    .dataframe thead th {\n        text-align: right;\n    }\n</style>\n<table border=\"1\" class=\"dataframe\">\n  <thead>\n    <tr style=\"text-align: right;\">\n      <th></th>\n      <th>Page total likes</th>\n      <th>Type</th>\n      <th>Category</th>\n      <th>Post Month</th>\n      <th>Post Weekday</th>\n      <th>Post Hour</th>\n      <th>Paid</th>\n      <th>Lifetime Post Total Reach</th>\n      <th>Lifetime Post Total Impressions</th>\n      <th>Lifetime Engaged Users</th>\n      <th>Lifetime Post Consumers</th>\n      <th>Lifetime Post Consumptions</th>\n      <th>Lifetime Post Impressions by people who have liked your Page</th>\n      <th>Lifetime Post reach by people who like your Page</th>\n      <th>Lifetime People who have liked your Page and engaged with your post</th>\n      <th>comment</th>\n      <th>like</th>\n      <th>share</th>\n      <th>Total Interactions</th>\n    </tr>\n  </thead>\n  <tbody>\n    <tr>\n      <th>0</th>\n      <td>139441</td>\n      <td>Photo</td>\n      <td>2</td>\n      <td>12</td>\n      <td>4.0</td>\n      <td>3</td>\n      <td>0.0</td>\n      <td>2752.0</td>\n      <td>5091.0</td>\n      <td>178.0</td>\n      <td>109.0</td>\n      <td>159.0</td>\n      <td>3078.0</td>\n      <td>1640.0</td>\n      <td>119.0</td>\n      <td>4.0</td>\n      <td>79.0</td>\n      <td>17.0</td>\n      <td>100</td>\n    </tr>\n    <tr>\n      <th>1</th>\n      <td>139441</td>\n      <td>Status</td>\n      <td>2</td>\n      <td>12</td>\n      <td>3.0</td>\n      <td>10</td>\n      <td>0.0</td>\n      <td>10460.0</td>\n      <td>19057.0</td>\n      <td>1457.0</td>\n      <td>1361.0</td>\n      <td>1674.0</td>\n      <td>11710.0</td>\n      <td>6112.0</td>\n      <td>1108.0</td>\n      <td>5.0</td>\n      <td>130.0</td>\n      <td>29.0</td>\n      <td>164</td>\n    </tr>\n    <tr>\n      <th>2</th>\n      <td>139441</td>\n      <td>Photo</td>\n      <td>3</td>\n      <td>12</td>\n      <td>3.0</td>\n      <td>3</td>\n      <td>0.0</td>\n      <td>2413.0</td>\n      <td>4373.0</td>\n      <td>177.0</td>\n      <td>113.0</td>\n      <td>154.0</td>\n      <td>2812.0</td>\n      <td>1503.0</td>\n      <td>132.0</td>\n      <td>0.0</td>\n      <td>66.0</td>\n      <td>14.0</td>\n      <td>80</td>\n    </tr>\n    <tr>\n      <th>3</th>\n      <td>139441</td>\n      <td>Photo</td>\n      <td>2</td>\n      <td>12</td>\n      <td>2.0</td>\n      <td>10</td>\n      <td>1.0</td>\n      <td>50128.0</td>\n      <td>87991.0</td>\n      <td>2211.0</td>\n      <td>790.0</td>\n      <td>1119.0</td>\n      <td>61027.0</td>\n      <td>32048.0</td>\n      <td>1386.0</td>\n      <td>58.0</td>\n      <td>1572.0</td>\n      <td>147.0</td>\n      <td>1777</td>\n    </tr>\n    <tr>\n      <th>4</th>\n      <td>139441</td>\n      <td>Photo</td>\n      <td>2</td>\n      <td>12</td>\n      <td>2.0</td>\n      <td>3</td>\n      <td>0.0</td>\n      <td>7244.0</td>\n      <td>13594.0</td>\n      <td>671.0</td>\n      <td>410.0</td>\n      <td>580.0</td>\n      <td>6228.0</td>\n      <td>3200.0</td>\n      <td>396.0</td>\n      <td>19.0</td>\n      <td>325.0</td>\n      <td>49.0</td>\n      <td>393</td>\n    </tr>\n  </tbody>\n</table>\n</div>"
     },
     "execution_count": 9,
     "metadata": {},
     "output_type": "execute_result"
    }
   ],
   "source": [
    "df.head()"
   ],
   "metadata": {
    "collapsed": false,
    "ExecuteTime": {
     "start_time": "2023-04-20T15:10:37.539241Z",
     "end_time": "2023-04-20T15:10:37.611939Z"
    }
   }
  },
  {
   "cell_type": "code",
   "execution_count": 10,
   "outputs": [],
   "source": [
    "df = df.dropna (subset=['Paid'])"
   ],
   "metadata": {
    "collapsed": false,
    "ExecuteTime": {
     "start_time": "2023-04-20T15:11:27.099861Z",
     "end_time": "2023-04-20T15:11:27.380716Z"
    }
   }
  },
  {
   "cell_type": "code",
   "execution_count": 11,
   "outputs": [],
   "source": [
    "# разделение выборки на тестовую и учебную\n",
    "train_set, test_set = train_test_split(df, test_size=0.2, random_state=42)\n",
    "\n",
    "X_train = train_set.drop(\"Paid\", axis = 1)\n",
    "y_train = train_set[\"Paid\"].copy()\n",
    "\n",
    "X_test = test_set.drop(\"Paid\", axis = 1)\n",
    "y_test = test_set[\"Paid\"].copy()\n",
    "\n",
    "X_full = df.drop(\"Paid\", axis = 1)\n",
    "y_full = df[\"Paid\"].copy()"
   ],
   "metadata": {
    "collapsed": false,
    "ExecuteTime": {
     "start_time": "2023-04-20T15:12:00.423059Z",
     "end_time": "2023-04-20T15:12:00.591337Z"
    }
   }
  },
  {
   "cell_type": "code",
   "execution_count": 12,
   "outputs": [],
   "source": [
    "df_num = df.drop(\"Type\", axis = 1)\n",
    "df_num = df_num.drop(\"Paid\", axis = 1)"
   ],
   "metadata": {
    "collapsed": false,
    "ExecuteTime": {
     "start_time": "2023-04-20T15:12:11.295684Z",
     "end_time": "2023-04-20T15:12:11.554000Z"
    }
   }
  },
  {
   "cell_type": "code",
   "execution_count": 13,
   "outputs": [
    {
     "name": "stderr",
     "output_type": "stream",
     "text": [
      "/Users/nascela/opt/anaconda3/lib/python3.9/site-packages/sklearn/preprocessing/_encoders.py:868: FutureWarning: `sparse` was renamed to `sparse_output` in version 1.2 and will be removed in 1.4. `sparse_output` is ignored unless you leave `sparse` to its default value.\n",
      "  warnings.warn(\n",
      "/Users/nascela/opt/anaconda3/lib/python3.9/site-packages/sklearn/preprocessing/_encoders.py:868: FutureWarning: `sparse` was renamed to `sparse_output` in version 1.2 and will be removed in 1.4. `sparse_output` is ignored unless you leave `sparse` to its default value.\n",
      "  warnings.warn(\n",
      "/Users/nascela/opt/anaconda3/lib/python3.9/site-packages/sklearn/preprocessing/_encoders.py:868: FutureWarning: `sparse` was renamed to `sparse_output` in version 1.2 and will be removed in 1.4. `sparse_output` is ignored unless you leave `sparse` to its default value.\n",
      "  warnings.warn(\n"
     ]
    }
   ],
   "source": [
    "# обработка данных перед обучением\n",
    "\n",
    "# вставка отсутсвующих значений и маштабирование\n",
    "num_pipeline = Pipeline([\n",
    "    (\"imputer\", SimpleImputer(strategy=\"median\")),\n",
    "    (\"scaler\", StandardScaler())\n",
    "])\n",
    "\n",
    "cat_pipeline = Pipeline([\n",
    "    (\"imputer\", SimpleImputer(strategy=\"most_frequent\")),\n",
    "    (\"cat_encoder\", OneHotEncoder(sparse=False)),\n",
    "])\n",
    "\n",
    "num_attribs = list(df_num)\n",
    "cat_attribs = [\"Type\"]\n",
    "\n",
    "preprocess_pipeline = ColumnTransformer([\n",
    "    (\"num\", num_pipeline, num_attribs),\n",
    "    (\"cat\", cat_pipeline, cat_attribs),\n",
    "])\n",
    "\n",
    "X_train_prepared = preprocess_pipeline.fit_transform(X_train[num_attribs + cat_attribs])\n",
    "X_test_prepared = preprocess_pipeline.fit_transform(X_test[num_attribs + cat_attribs])\n",
    "X_full_prepared = preprocess_pipeline.fit_transform(X_full[num_attribs + cat_attribs])"
   ],
   "metadata": {
    "collapsed": false,
    "ExecuteTime": {
     "start_time": "2023-04-20T15:12:32.232392Z",
     "end_time": "2023-04-20T15:12:32.962197Z"
    }
   }
  },
  {
   "cell_type": "code",
   "execution_count": 16,
   "outputs": [
    {
     "name": "stderr",
     "output_type": "stream",
     "text": [
      "/var/folders/4b/wpq4f85s0lzcrjpl4chzpqpw0000gn/T/ipykernel_53953/908241098.py:3: FutureWarning: In a future version, `df.iloc[:, i] = newvals` will attempt to set the values inplace instead of always setting a new array. To retain the old behavior, use either `df[df.columns[i]] = newvals` or, if columns are non-unique, `df.isetitem(i, newvals)`\n",
      "  df_preproc.loc[:, 'Type'] = df.loc[:, 'Type'].replace({'Photo': 0, 'Status': 1, 'Link': 2, 'Video': 3, np.NaN: 4})\n"
     ]
    }
   ],
   "source": [
    "y = df.Paid\n",
    "df_preproc = df.drop(\"Paid\", axis = 1)\n",
    "df_preproc.loc[:, 'Type'] = df.loc[:, 'Type'].replace({'Photo': 0, 'Status': 1, 'Link': 2, 'Video': 3, np.NaN: 4})\n",
    "imputer = SimpleImputer(strategy=\"median\")\n",
    "imputer.fit(df_preproc)\n",
    "X = imputer.transform(df_preproc)\n",
    "X = pd.DataFrame(X, columns= df_preproc.columns)"
   ],
   "metadata": {
    "collapsed": false,
    "ExecuteTime": {
     "start_time": "2023-04-20T15:13:04.615936Z",
     "end_time": "2023-04-20T15:13:04.722810Z"
    }
   }
  },
  {
   "cell_type": "code",
   "execution_count": 20,
   "outputs": [
    {
     "name": "stdout",
     "output_type": "stream",
     "text": [
      "precision 0.18181818181818182\n",
      "recall 0.10526315789473684\n",
      "accuracy 0.74\n",
      "f1 0.13333333333333333\n"
     ]
    }
   ],
   "source": [
    "\n",
    "RF_clf = RandomForestClassifier()\n",
    "RF_clf.fit(X_train_prepared, y_train)\n",
    "predict = RF_clf.predict(X_test_prepared)\n",
    "\n",
    "print('precision', precision_score(y_test, predict))\n",
    "print('recall', recall_score(y_test, predict))\n",
    "print('accuracy', accuracy_score(y_test, predict))\n",
    "print('f1', f1_score(y_test, predict))"
   ],
   "metadata": {
    "collapsed": false,
    "ExecuteTime": {
     "start_time": "2023-04-24T17:57:14.362935Z",
     "end_time": "2023-04-24T17:57:14.499076Z"
    }
   }
  },
  {
   "cell_type": "code",
   "execution_count": 21,
   "outputs": [
    {
     "name": "stdout",
     "output_type": "stream",
     "text": [
      "precision 0.2222222222222222\n",
      "recall 0.10526315789473684\n",
      "accuracy 0.76\n",
      "f1 0.14285714285714285\n"
     ]
    }
   ],
   "source": [
    "\n",
    "RF_clf01 = RandomForestClassifier() # увеличим количество деревье в случайном лесе.\n",
    "RF_clf01.fit(X_train_prepared, y_train)\n",
    "predict = RF_clf01.predict(X_test_prepared)\n",
    "\n",
    "print('precision', precision_score(y_test, predict))\n",
    "print('recall', recall_score(y_test, predict))\n",
    "print('accuracy', accuracy_score(y_test, predict))\n",
    "print('f1', f1_score(y_test, predict))"
   ],
   "metadata": {
    "collapsed": false,
    "ExecuteTime": {
     "start_time": "2023-04-24T17:57:30.891662Z",
     "end_time": "2023-04-24T17:57:31.040930Z"
    }
   }
  },
  {
   "cell_type": "code",
   "execution_count": 24,
   "outputs": [
    {
     "data": {
      "text/plain": "array([[0.46, 0.54],\n       [0.41, 0.59],\n       [0.57, 0.43],\n       [0.64, 0.36],\n       [0.62, 0.38],\n       [0.87, 0.13],\n       [0.39, 0.61],\n       [0.72, 0.28],\n       [0.63, 0.37],\n       [0.85, 0.15],\n       [0.75, 0.25],\n       [0.66, 0.34],\n       [0.8 , 0.2 ],\n       [0.78, 0.22],\n       [0.73, 0.27],\n       [0.35, 0.65],\n       [0.6 , 0.4 ],\n       [0.79, 0.21],\n       [0.59, 0.41],\n       [0.72, 0.28],\n       [0.55, 0.45],\n       [0.59, 0.41],\n       [0.64, 0.36],\n       [0.36, 0.64],\n       [0.75, 0.25],\n       [0.72, 0.28],\n       [0.53, 0.47],\n       [0.48, 0.52],\n       [0.67, 0.33],\n       [0.26, 0.74],\n       [0.74, 0.26],\n       [0.94, 0.06],\n       [0.58, 0.42],\n       [0.86, 0.14],\n       [0.5 , 0.5 ],\n       [0.68, 0.32],\n       [0.57, 0.43],\n       [0.6 , 0.4 ],\n       [0.66, 0.34],\n       [0.73, 0.27],\n       [0.66, 0.34],\n       [0.71, 0.29],\n       [0.66, 0.34],\n       [0.58, 0.42],\n       [0.9 , 0.1 ],\n       [0.88, 0.12],\n       [0.67, 0.33],\n       [0.81, 0.19],\n       [0.27, 0.73],\n       [0.63, 0.37],\n       [0.64, 0.36],\n       [0.76, 0.24],\n       [0.61, 0.39],\n       [0.61, 0.39],\n       [0.65, 0.35],\n       [0.71, 0.29],\n       [0.58, 0.42],\n       [0.57, 0.43],\n       [0.41, 0.59],\n       [0.6 , 0.4 ],\n       [0.56, 0.44],\n       [0.58, 0.42],\n       [0.66, 0.34],\n       [0.58, 0.42],\n       [0.71, 0.29],\n       [0.73, 0.27],\n       [0.65, 0.35],\n       [0.73, 0.27],\n       [0.6 , 0.4 ],\n       [0.71, 0.29],\n       [0.74, 0.26],\n       [0.82, 0.18],\n       [0.63, 0.37],\n       [0.73, 0.27],\n       [0.47, 0.53],\n       [0.55, 0.45],\n       [0.74, 0.26],\n       [0.68, 0.32],\n       [0.71, 0.29],\n       [0.58, 0.42],\n       [0.64, 0.36],\n       [0.71, 0.29],\n       [0.8 , 0.2 ],\n       [0.58, 0.42],\n       [0.52, 0.48],\n       [0.69, 0.31],\n       [0.54, 0.46],\n       [0.57, 0.43],\n       [0.82, 0.18],\n       [0.68, 0.32],\n       [0.87, 0.13],\n       [0.77, 0.23],\n       [0.31, 0.69],\n       [0.69, 0.31],\n       [0.72, 0.28],\n       [0.68, 0.32],\n       [0.6 , 0.4 ],\n       [0.89, 0.11],\n       [0.55, 0.45],\n       [0.73, 0.27]])"
     },
     "execution_count": 24,
     "metadata": {},
     "output_type": "execute_result"
    }
   ],
   "source": [
    "\n",
    "predict_proba = RF_clf.predict_proba(X_test_prepared)\n",
    "predict_proba"
   ],
   "metadata": {
    "collapsed": false,
    "ExecuteTime": {
     "start_time": "2023-04-24T18:00:23.618609Z",
     "end_time": "2023-04-24T18:00:23.629511Z"
    }
   }
  },
  {
   "cell_type": "code",
   "execution_count": 26,
   "outputs": [
    {
     "data": {
      "text/plain": "(-0.01, 1.01)"
     },
     "execution_count": 26,
     "metadata": {},
     "output_type": "execute_result"
    },
    {
     "data": {
      "text/plain": "<Figure size 500x500 with 1 Axes>",
      "image/png": "[encoded data removed]"
     },
     "metadata": {},
     "output_type": "display_data"
    }
   ],
   "source": [
    "# сгенерируем массив, который состоит из случайных значений от 0 до 1, длиной как predict_proba\n",
    "import random\n",
    "tmp = [\n",
    "    random.random()\n",
    "    for _ in range (len(predict_proba[:1]))\n",
    "]\n",
    "%matplotlib inline\n",
    "\n",
    "from sklearn.metrics import roc_auc_score, roc_curve\n",
    "fpr, tpr, thresholds = roc_curve(y_test, predict_proba[:,1])\n",
    "plt.figure(figsize=(5, 5))\n",
    "plt.plot(fpr, tpr)\n",
    "plt.plot([0, 1], [0, 1])\n",
    "plt.ylabel('tpr')\n",
    "plt.xlabel('fpr')\n",
    "plt.grid(True)\n",
    "plt.title('ROC curve')\n",
    "plt.xlim((-0.01, 1.01))\n",
    "plt.ylim((-0.01, 1.01))"
   ],
   "metadata": {
    "collapsed": false,
    "ExecuteTime": {
     "start_time": "2023-04-24T18:01:26.280257Z",
     "end_time": "2023-04-24T18:01:26.467038Z"
    }
   }
  },
  {
   "cell_type": "code",
   "execution_count": 27,
   "outputs": [
    {
     "data": {
      "text/plain": "0.5841455490578298"
     },
     "execution_count": 27,
     "metadata": {},
     "output_type": "execute_result"
    }
   ],
   "source": [
    "roc_auc_score(y_test, predict_proba[:,1]) #значение метрики ROC AUC"
   ],
   "metadata": {
    "collapsed": false,
    "ExecuteTime": {
     "start_time": "2023-04-24T18:01:38.885350Z",
     "end_time": "2023-04-24T18:01:38.899806Z"
    }
   }
  },
  {
   "cell_type": "code",
   "execution_count": 29,
   "outputs": [
    {
     "data": {
      "text/plain": "array([0.78769841, 0.60615079, 0.51488095, 0.34424603, 0.25793651,\n       0.56746032, 0.2390873 , 0.36965812, 0.33974359, 0.34183673])"
     },
     "execution_count": 29,
     "metadata": {},
     "output_type": "execute_result"
    }
   ],
   "source": [
    "rfc = RandomForestClassifier()\n",
    "cross_val_score(\n",
    "    rfc,\n",
    "    X_full_prepared,\n",
    "    y_full,\n",
    "    scoring='roc_auc',\n",
    "    cv=10\n",
    ")"
   ],
   "metadata": {
    "collapsed": false,
    "ExecuteTime": {
     "start_time": "2023-04-24T18:02:48.104063Z",
     "end_time": "2023-04-24T18:02:49.396898Z"
    }
   }
  },
  {
   "cell_type": "code",
   "execution_count": 30,
   "outputs": [
    {
     "name": "stdout",
     "output_type": "stream",
     "text": [
      "Collecting xgboost\r\n",
      "  Downloading xgboost-1.7.5-py3-none-macosx_10_15_x86_64.macosx_11_0_x86_64.macosx_12_0_x86_64.whl (1.8 MB)\r\n",
      "\u001B[2K     \u001B[90m━━━━━━━━━━━━━━━━━━━━━━━━━━━━━━━━━━━━━━━━\u001B[0m \u001B[32m1.8/1.8 MB\u001B[0m \u001B[31m3.0 MB/s\u001B[0m eta \u001B[36m0:00:00\u001B[0m00:01\u001B[0m00:01\u001B[0m0m\r\n",
      "\u001B[?25hRequirement already satisfied: numpy in /Users/nascela/opt/anaconda3/lib/python3.9/site-packages (from xgboost) (1.23.4)\r\n",
      "Requirement already satisfied: scipy in /Users/nascela/opt/anaconda3/lib/python3.9/site-packages (from xgboost) (1.9.3)\r\n",
      "Installing collected packages: xgboost\r\n",
      "Successfully installed xgboost-1.7.5\r\n"
     ]
    }
   ],
   "source": [
    "!pip install xgboost"
   ],
   "metadata": {
    "collapsed": false,
    "ExecuteTime": {
     "start_time": "2023-04-24T18:04:20.365710Z",
     "end_time": "2023-04-24T18:04:23.651758Z"
    }
   }
  },
  {
   "cell_type": "code",
   "execution_count": 31,
   "outputs": [],
   "source": [
    "import xgboost as xgb\n",
    "dtrain = xgb.DMatrix(X_train_prepared, label=y_train)\n",
    "dtest = xgb.DMatrix(X_test_prepared, label=y_test)"
   ],
   "metadata": {
    "collapsed": false,
    "ExecuteTime": {
     "start_time": "2023-04-24T18:11:28.618448Z",
     "end_time": "2023-04-24T18:11:29.461686Z"
    }
   }
  },
  {
   "cell_type": "code",
   "execution_count": 32,
   "outputs": [],
   "source": [
    "param = {\n",
    "    'max_depth': 3,\n",
    "    'eta': 0.3,\n",
    "    'silent': 1,\n",
    "    'objective': 'multi:softprob',\n",
    "    'num_class': 3}\n",
    "num_round = 20"
   ],
   "metadata": {
    "collapsed": false,
    "ExecuteTime": {
     "start_time": "2023-04-24T18:11:39.781659Z",
     "end_time": "2023-04-24T18:11:39.794905Z"
    }
   }
  },
  {
   "cell_type": "code",
   "execution_count": 33,
   "outputs": [
    {
     "name": "stdout",
     "output_type": "stream",
     "text": [
      "[18:12:30] WARNING: /Users/runner/work/xgboost/xgboost/python-package/build/temp.macosx-10.9-x86_64-cpython-38/xgboost/src/learner.cc:767: \n",
      "Parameters: { \"silent\" } are not used.\n",
      "\n"
     ]
    }
   ],
   "source": [
    "bst = xgb.train(param, dtrain, num_round)\n",
    "preds = bst.predict(dtest)"
   ],
   "metadata": {
    "collapsed": false,
    "ExecuteTime": {
     "start_time": "2023-04-24T18:12:30.344453Z",
     "end_time": "2023-04-24T18:12:30.458427Z"
    }
   }
  },
  {
   "cell_type": "code",
   "execution_count": 34,
   "outputs": [
    {
     "data": {
      "text/plain": "0.5975485188968335"
     },
     "execution_count": 34,
     "metadata": {},
     "output_type": "execute_result"
    }
   ],
   "source": [
    "best_preds = np.asarray([np.argmax(line) for line in preds])\n",
    "precision_score(y_test, best_preds, average='macro')"
   ],
   "metadata": {
    "collapsed": false,
    "ExecuteTime": {
     "start_time": "2023-04-24T18:12:57.234260Z",
     "end_time": "2023-04-24T18:12:57.249337Z"
    }
   }
  },
  {
   "cell_type": "code",
   "execution_count": null,
   "outputs": [],
   "source": [],
   "metadata": {
    "collapsed": false
   }
  }
 ],
 "metadata": {
  "kernelspec": {
   "display_name": "Python 3",
   "language": "python",
   "name": "python3"
  },
  "language_info": {
   "codemirror_mode": {
    "name": "ipython",
    "version": 2
   },
   "file_extension": ".py",
   "mimetype": "text/x-python",
   "name": "python",
   "nbconvert_exporter": "python",
   "pygments_lexer": "ipython2",
   "version": "2.7.6"
  }
 },
 "nbformat": 4,
 "nbformat_minor": 0
}
