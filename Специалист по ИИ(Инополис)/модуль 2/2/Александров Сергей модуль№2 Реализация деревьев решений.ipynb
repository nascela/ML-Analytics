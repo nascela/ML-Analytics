{
 "cells": [
  {
   "cell_type": "code",
   "execution_count": 1,
   "id": "10b858fe",
   "metadata": {
    "ExecuteTime": {
     "start_time": "2023-04-19T19:40:44.151926Z",
     "end_time": "2023-04-19T19:40:45.343425Z"
    }
   },
   "outputs": [],
   "source": [
    "import numpy as np\n",
    "import pandas as pd\n",
    "import matplotlib.pyplot as plt\n",
    "# для разделения df на train и test выборку\n",
    "from sklearn.model_selection import train_test_split\n",
    "# для подготовки данных\n",
    "from sklearn.pipeline import Pipeline\n",
    "from sklearn.impute import SimpleImputer\n",
    "from sklearn.preprocessing import StandardScaler\n",
    "from sklearn.preprocessing import OneHotEncoder\n",
    "from sklearn.compose import ColumnTransformer\n",
    "# перекрестная проверка модели\n",
    "from sklearn.model_selection import cross_val_score\n",
    "# модели\n",
    "from sklearn.ensemble import RandomForestClassifier\n",
    "from sklearn.svm import SVC\n",
    "from sklearn.tree import DecisionTreeClassifier\n",
    "\n",
    "from sklearn.model_selection import validation_curve # для исследования модели\n",
    "from sklearn.model_selection import StratifiedKFold # для стратифицированной выборки\n",
    "from sklearn.model_selection import RandomizedSearchCV #импортирует случайный поиск гиперпараметров"
   ]
  },
  {
   "cell_type": "code",
   "execution_count": 2,
   "id": "d02fb19b",
   "metadata": {
    "ExecuteTime": {
     "start_time": "2023-04-19T19:40:46.192279Z",
     "end_time": "2023-04-19T19:40:46.202666Z"
    }
   },
   "outputs": [],
   "source": [
    "df = pd.read_csv('dataset_Facebook.csv')"
   ]
  },
  {
   "cell_type": "code",
   "execution_count": 3,
   "outputs": [],
   "source": [
    "df = df.dropna (subset=['Paid'])"
   ],
   "metadata": {
    "collapsed": false,
    "ExecuteTime": {
     "start_time": "2023-04-19T19:40:47.194670Z",
     "end_time": "2023-04-19T19:40:47.204031Z"
    }
   }
  },
  {
   "cell_type": "code",
   "execution_count": 4,
   "outputs": [],
   "source": [
    "# разделение выборки на тестовую и учебную\n",
    "train_set, test_set = train_test_split(df, test_size=0.2, random_state=42)\n",
    "\n",
    "X_train = train_set.drop(\"Paid\", axis = 1)\n",
    "y_train = train_set[\"Paid\"].copy()\n",
    "\n",
    "X_test = test_set.drop(\"Paid\", axis = 1)\n",
    "y_test = test_set[\"Paid\"].copy()\n",
    "\n",
    "X_full = df.drop(\"Paid\", axis = 1)\n",
    "y_full = df[\"Paid\"].copy()"
   ],
   "metadata": {
    "collapsed": false,
    "ExecuteTime": {
     "start_time": "2023-04-19T19:40:48.121466Z",
     "end_time": "2023-04-19T19:40:48.130419Z"
    }
   }
  },
  {
   "cell_type": "code",
   "execution_count": 5,
   "outputs": [],
   "source": [
    "df_num = df.drop(\"Type\", axis = 1)\n",
    "df_num = df_num.drop(\"Paid\", axis = 1)"
   ],
   "metadata": {
    "collapsed": false,
    "ExecuteTime": {
     "start_time": "2023-04-19T19:40:49.347478Z",
     "end_time": "2023-04-19T19:40:49.359886Z"
    }
   }
  },
  {
   "cell_type": "code",
   "execution_count": 6,
   "outputs": [
    {
     "name": "stderr",
     "output_type": "stream",
     "text": [
      "/Users/nascela/opt/anaconda3/lib/python3.9/site-packages/sklearn/preprocessing/_encoders.py:868: FutureWarning: `sparse` was renamed to `sparse_output` in version 1.2 and will be removed in 1.4. `sparse_output` is ignored unless you leave `sparse` to its default value.\n",
      "  warnings.warn(\n",
      "/Users/nascela/opt/anaconda3/lib/python3.9/site-packages/sklearn/preprocessing/_encoders.py:868: FutureWarning: `sparse` was renamed to `sparse_output` in version 1.2 and will be removed in 1.4. `sparse_output` is ignored unless you leave `sparse` to its default value.\n",
      "  warnings.warn(\n",
      "/Users/nascela/opt/anaconda3/lib/python3.9/site-packages/sklearn/preprocessing/_encoders.py:868: FutureWarning: `sparse` was renamed to `sparse_output` in version 1.2 and will be removed in 1.4. `sparse_output` is ignored unless you leave `sparse` to its default value.\n",
      "  warnings.warn(\n"
     ]
    }
   ],
   "source": [
    "# обработка данных перед обучением\n",
    "\n",
    "# вставка отсутсвующих значений и маштабирование\n",
    "num_pipeline = Pipeline([\n",
    "    (\"imputer\", SimpleImputer(strategy=\"median\")),\n",
    "    (\"scaler\", StandardScaler())\n",
    "])\n",
    "\n",
    "cat_pipeline = Pipeline([\n",
    "    (\"imputer\", SimpleImputer(strategy=\"most_frequent\")),\n",
    "    (\"cat_encoder\", OneHotEncoder(sparse=False)),\n",
    "])\n",
    "\n",
    "num_attribs = list(df_num)\n",
    "cat_attribs = [\"Type\"]\n",
    "\n",
    "preprocess_pipeline = ColumnTransformer([\n",
    "    (\"num\", num_pipeline, num_attribs),\n",
    "    (\"cat\", cat_pipeline, cat_attribs),\n",
    "])\n",
    "\n",
    "X_train_prepared = preprocess_pipeline.fit_transform(X_train[num_attribs + cat_attribs])\n",
    "X_test_prepared = preprocess_pipeline.fit_transform(X_test[num_attribs + cat_attribs])\n",
    "X_full_prepared = preprocess_pipeline.fit_transform(X_full[num_attribs + cat_attribs])"
   ],
   "metadata": {
    "collapsed": false,
    "ExecuteTime": {
     "start_time": "2023-04-19T19:40:50.073963Z",
     "end_time": "2023-04-19T19:40:50.103546Z"
    }
   }
  },
  {
   "cell_type": "code",
   "execution_count": 7,
   "outputs": [
    {
     "name": "stdout",
     "output_type": "stream",
     "text": [
      "<class 'pandas.core.frame.DataFrame'>\n",
      "Int64Index: 497 entries, 0 to 498\n",
      "Data columns (total 19 columns):\n",
      " #   Column                                                               Non-Null Count  Dtype  \n",
      "---  ------                                                               --------------  -----  \n",
      " 0   Page total likes                                                     497 non-null    int64  \n",
      " 1   Type                                                                 493 non-null    object \n",
      " 2   Category                                                             497 non-null    int64  \n",
      " 3   Post Month                                                           497 non-null    int64  \n",
      " 4   Post Weekday                                                         493 non-null    float64\n",
      " 5   Post Hour                                                            497 non-null    int64  \n",
      " 6   Paid                                                                 497 non-null    float64\n",
      " 7   Lifetime Post Total Reach                                            493 non-null    float64\n",
      " 8   Lifetime Post Total Impressions                                      496 non-null    float64\n",
      " 9   Lifetime Engaged Users                                               493 non-null    float64\n",
      " 10  Lifetime Post Consumers                                              482 non-null    float64\n",
      " 11  Lifetime Post Consumptions                                           494 non-null    float64\n",
      " 12  Lifetime Post Impressions by people who have liked your Page         495 non-null    float64\n",
      " 13  Lifetime Post reach by people who like your Page                     495 non-null    float64\n",
      " 14  Lifetime People who have liked your Page and engaged with your post  485 non-null    float64\n",
      " 15  comment                                                              494 non-null    float64\n",
      " 16  like                                                                 496 non-null    float64\n",
      " 17  share                                                                483 non-null    float64\n",
      " 18  Total Interactions                                                   497 non-null    int64  \n",
      "dtypes: float64(13), int64(5), object(1)\n",
      "memory usage: 77.7+ KB\n"
     ]
    }
   ],
   "source": [
    "df.info()"
   ],
   "metadata": {
    "collapsed": false,
    "ExecuteTime": {
     "start_time": "2023-04-19T19:40:51.689954Z",
     "end_time": "2023-04-19T19:40:51.702161Z"
    }
   }
  },
  {
   "cell_type": "code",
   "execution_count": 8,
   "outputs": [
    {
     "data": {
      "text/plain": "   Page total likes    Type  Category  Post Month  Post Weekday  Post Hour  \\\n0            139441   Photo         2          12           4.0          3   \n1            139441  Status         2          12           3.0         10   \n2            139441   Photo         3          12           3.0          3   \n3            139441   Photo         2          12           2.0         10   \n4            139441   Photo         2          12           2.0          3   \n\n   Paid  Lifetime Post Total Reach  Lifetime Post Total Impressions  \\\n0   0.0                     2752.0                           5091.0   \n1   0.0                    10460.0                          19057.0   \n2   0.0                     2413.0                           4373.0   \n3   1.0                    50128.0                          87991.0   \n4   0.0                     7244.0                          13594.0   \n\n   Lifetime Engaged Users  Lifetime Post Consumers  \\\n0                   178.0                    109.0   \n1                  1457.0                   1361.0   \n2                   177.0                    113.0   \n3                  2211.0                    790.0   \n4                   671.0                    410.0   \n\n   Lifetime Post Consumptions  \\\n0                       159.0   \n1                      1674.0   \n2                       154.0   \n3                      1119.0   \n4                       580.0   \n\n   Lifetime Post Impressions by people who have liked your Page  \\\n0                                             3078.0              \n1                                            11710.0              \n2                                             2812.0              \n3                                            61027.0              \n4                                             6228.0              \n\n   Lifetime Post reach by people who like your Page  \\\n0                                            1640.0   \n1                                            6112.0   \n2                                            1503.0   \n3                                           32048.0   \n4                                            3200.0   \n\n   Lifetime People who have liked your Page and engaged with your post  \\\n0                                              119.0                     \n1                                             1108.0                     \n2                                              132.0                     \n3                                             1386.0                     \n4                                              396.0                     \n\n   comment    like  share  Total Interactions  \n0      4.0    79.0   17.0                 100  \n1      5.0   130.0   29.0                 164  \n2      0.0    66.0   14.0                  80  \n3     58.0  1572.0  147.0                1777  \n4     19.0   325.0   49.0                 393  ",
      "text/html": "<div>\n<style scoped>\n    .dataframe tbody tr th:only-of-type {\n        vertical-align: middle;\n    }\n\n    .dataframe tbody tr th {\n        vertical-align: top;\n    }\n\n    .dataframe thead th {\n        text-align: right;\n    }\n</style>\n<table border=\"1\" class=\"dataframe\">\n  <thead>\n    <tr style=\"text-align: right;\">\n      <th></th>\n      <th>Page total likes</th>\n      <th>Type</th>\n      <th>Category</th>\n      <th>Post Month</th>\n      <th>Post Weekday</th>\n      <th>Post Hour</th>\n      <th>Paid</th>\n      <th>Lifetime Post Total Reach</th>\n      <th>Lifetime Post Total Impressions</th>\n      <th>Lifetime Engaged Users</th>\n      <th>Lifetime Post Consumers</th>\n      <th>Lifetime Post Consumptions</th>\n      <th>Lifetime Post Impressions by people who have liked your Page</th>\n      <th>Lifetime Post reach by people who like your Page</th>\n      <th>Lifetime People who have liked your Page and engaged with your post</th>\n      <th>comment</th>\n      <th>like</th>\n      <th>share</th>\n      <th>Total Interactions</th>\n    </tr>\n  </thead>\n  <tbody>\n    <tr>\n      <th>0</th>\n      <td>139441</td>\n      <td>Photo</td>\n      <td>2</td>\n      <td>12</td>\n      <td>4.0</td>\n      <td>3</td>\n      <td>0.0</td>\n      <td>2752.0</td>\n      <td>5091.0</td>\n      <td>178.0</td>\n      <td>109.0</td>\n      <td>159.0</td>\n      <td>3078.0</td>\n      <td>1640.0</td>\n      <td>119.0</td>\n      <td>4.0</td>\n      <td>79.0</td>\n      <td>17.0</td>\n      <td>100</td>\n    </tr>\n    <tr>\n      <th>1</th>\n      <td>139441</td>\n      <td>Status</td>\n      <td>2</td>\n      <td>12</td>\n      <td>3.0</td>\n      <td>10</td>\n      <td>0.0</td>\n      <td>10460.0</td>\n      <td>19057.0</td>\n      <td>1457.0</td>\n      <td>1361.0</td>\n      <td>1674.0</td>\n      <td>11710.0</td>\n      <td>6112.0</td>\n      <td>1108.0</td>\n      <td>5.0</td>\n      <td>130.0</td>\n      <td>29.0</td>\n      <td>164</td>\n    </tr>\n    <tr>\n      <th>2</th>\n      <td>139441</td>\n      <td>Photo</td>\n      <td>3</td>\n      <td>12</td>\n      <td>3.0</td>\n      <td>3</td>\n      <td>0.0</td>\n      <td>2413.0</td>\n      <td>4373.0</td>\n      <td>177.0</td>\n      <td>113.0</td>\n      <td>154.0</td>\n      <td>2812.0</td>\n      <td>1503.0</td>\n      <td>132.0</td>\n      <td>0.0</td>\n      <td>66.0</td>\n      <td>14.0</td>\n      <td>80</td>\n    </tr>\n    <tr>\n      <th>3</th>\n      <td>139441</td>\n      <td>Photo</td>\n      <td>2</td>\n      <td>12</td>\n      <td>2.0</td>\n      <td>10</td>\n      <td>1.0</td>\n      <td>50128.0</td>\n      <td>87991.0</td>\n      <td>2211.0</td>\n      <td>790.0</td>\n      <td>1119.0</td>\n      <td>61027.0</td>\n      <td>32048.0</td>\n      <td>1386.0</td>\n      <td>58.0</td>\n      <td>1572.0</td>\n      <td>147.0</td>\n      <td>1777</td>\n    </tr>\n    <tr>\n      <th>4</th>\n      <td>139441</td>\n      <td>Photo</td>\n      <td>2</td>\n      <td>12</td>\n      <td>2.0</td>\n      <td>3</td>\n      <td>0.0</td>\n      <td>7244.0</td>\n      <td>13594.0</td>\n      <td>671.0</td>\n      <td>410.0</td>\n      <td>580.0</td>\n      <td>6228.0</td>\n      <td>3200.0</td>\n      <td>396.0</td>\n      <td>19.0</td>\n      <td>325.0</td>\n      <td>49.0</td>\n      <td>393</td>\n    </tr>\n  </tbody>\n</table>\n</div>"
     },
     "execution_count": 8,
     "metadata": {},
     "output_type": "execute_result"
    }
   ],
   "source": [
    "df.head()"
   ],
   "metadata": {
    "collapsed": false,
    "ExecuteTime": {
     "start_time": "2023-04-19T19:40:54.801442Z",
     "end_time": "2023-04-19T19:40:54.829005Z"
    }
   }
  },
  {
   "cell_type": "code",
   "execution_count": 9,
   "outputs": [
    {
     "name": "stderr",
     "output_type": "stream",
     "text": [
      "/var/folders/4b/wpq4f85s0lzcrjpl4chzpqpw0000gn/T/ipykernel_29393/908241098.py:3: FutureWarning: In a future version, `df.iloc[:, i] = newvals` will attempt to set the values inplace instead of always setting a new array. To retain the old behavior, use either `df[df.columns[i]] = newvals` or, if columns are non-unique, `df.isetitem(i, newvals)`\n",
      "  df_preproc.loc[:, 'Type'] = df.loc[:, 'Type'].replace({'Photo': 0, 'Status': 1, 'Link': 2, 'Video': 3, np.NaN: 4})\n"
     ]
    }
   ],
   "source": [
    "y = df.Paid\n",
    "df_preproc = df.drop(\"Paid\", axis = 1)\n",
    "df_preproc.loc[:, 'Type'] = df.loc[:, 'Type'].replace({'Photo': 0, 'Status': 1, 'Link': 2, 'Video': 3, np.NaN: 4})\n",
    "imputer = SimpleImputer(strategy=\"median\")\n",
    "imputer.fit(df_preproc)\n",
    "X = imputer.transform(df_preproc)\n",
    "X = pd.DataFrame(X, columns= df_preproc.columns)"
   ],
   "metadata": {
    "collapsed": false,
    "ExecuteTime": {
     "start_time": "2023-04-19T19:40:55.898521Z",
     "end_time": "2023-04-19T19:40:55.913645Z"
    }
   }
  },
  {
   "cell_type": "code",
   "execution_count": 10,
   "outputs": [
    {
     "data": {
      "text/plain": "   Page total likes  Type  Category  Post Month  Post Weekday  Post Hour  \\\n0          139441.0   0.0       2.0        12.0           4.0        3.0   \n1          139441.0   1.0       2.0        12.0           3.0       10.0   \n2          139441.0   0.0       3.0        12.0           3.0        3.0   \n3          139441.0   0.0       2.0        12.0           2.0       10.0   \n4          139441.0   0.0       2.0        12.0           2.0        3.0   \n\n   Lifetime Post Total Reach  Lifetime Post Total Impressions  \\\n0                     2752.0                           5091.0   \n1                    10460.0                          19057.0   \n2                     2413.0                           4373.0   \n3                    50128.0                          87991.0   \n4                     7244.0                          13594.0   \n\n   Lifetime Engaged Users  Lifetime Post Consumers  \\\n0                   178.0                    109.0   \n1                  1457.0                   1361.0   \n2                   177.0                    113.0   \n3                  2211.0                    790.0   \n4                   671.0                    410.0   \n\n   Lifetime Post Consumptions  \\\n0                       159.0   \n1                      1674.0   \n2                       154.0   \n3                      1119.0   \n4                       580.0   \n\n   Lifetime Post Impressions by people who have liked your Page  \\\n0                                             3078.0              \n1                                            11710.0              \n2                                             2812.0              \n3                                            61027.0              \n4                                             6228.0              \n\n   Lifetime Post reach by people who like your Page  \\\n0                                            1640.0   \n1                                            6112.0   \n2                                            1503.0   \n3                                           32048.0   \n4                                            3200.0   \n\n   Lifetime People who have liked your Page and engaged with your post  \\\n0                                              119.0                     \n1                                             1108.0                     \n2                                              132.0                     \n3                                             1386.0                     \n4                                              396.0                     \n\n   comment    like  share  Total Interactions  \n0      4.0    79.0   17.0               100.0  \n1      5.0   130.0   29.0               164.0  \n2      0.0    66.0   14.0                80.0  \n3     58.0  1572.0  147.0              1777.0  \n4     19.0   325.0   49.0               393.0  ",
      "text/html": "<div>\n<style scoped>\n    .dataframe tbody tr th:only-of-type {\n        vertical-align: middle;\n    }\n\n    .dataframe tbody tr th {\n        vertical-align: top;\n    }\n\n    .dataframe thead th {\n        text-align: right;\n    }\n</style>\n<table border=\"1\" class=\"dataframe\">\n  <thead>\n    <tr style=\"text-align: right;\">\n      <th></th>\n      <th>Page total likes</th>\n      <th>Type</th>\n      <th>Category</th>\n      <th>Post Month</th>\n      <th>Post Weekday</th>\n      <th>Post Hour</th>\n      <th>Lifetime Post Total Reach</th>\n      <th>Lifetime Post Total Impressions</th>\n      <th>Lifetime Engaged Users</th>\n      <th>Lifetime Post Consumers</th>\n      <th>Lifetime Post Consumptions</th>\n      <th>Lifetime Post Impressions by people who have liked your Page</th>\n      <th>Lifetime Post reach by people who like your Page</th>\n      <th>Lifetime People who have liked your Page and engaged with your post</th>\n      <th>comment</th>\n      <th>like</th>\n      <th>share</th>\n      <th>Total Interactions</th>\n    </tr>\n  </thead>\n  <tbody>\n    <tr>\n      <th>0</th>\n      <td>139441.0</td>\n      <td>0.0</td>\n      <td>2.0</td>\n      <td>12.0</td>\n      <td>4.0</td>\n      <td>3.0</td>\n      <td>2752.0</td>\n      <td>5091.0</td>\n      <td>178.0</td>\n      <td>109.0</td>\n      <td>159.0</td>\n      <td>3078.0</td>\n      <td>1640.0</td>\n      <td>119.0</td>\n      <td>4.0</td>\n      <td>79.0</td>\n      <td>17.0</td>\n      <td>100.0</td>\n    </tr>\n    <tr>\n      <th>1</th>\n      <td>139441.0</td>\n      <td>1.0</td>\n      <td>2.0</td>\n      <td>12.0</td>\n      <td>3.0</td>\n      <td>10.0</td>\n      <td>10460.0</td>\n      <td>19057.0</td>\n      <td>1457.0</td>\n      <td>1361.0</td>\n      <td>1674.0</td>\n      <td>11710.0</td>\n      <td>6112.0</td>\n      <td>1108.0</td>\n      <td>5.0</td>\n      <td>130.0</td>\n      <td>29.0</td>\n      <td>164.0</td>\n    </tr>\n    <tr>\n      <th>2</th>\n      <td>139441.0</td>\n      <td>0.0</td>\n      <td>3.0</td>\n      <td>12.0</td>\n      <td>3.0</td>\n      <td>3.0</td>\n      <td>2413.0</td>\n      <td>4373.0</td>\n      <td>177.0</td>\n      <td>113.0</td>\n      <td>154.0</td>\n      <td>2812.0</td>\n      <td>1503.0</td>\n      <td>132.0</td>\n      <td>0.0</td>\n      <td>66.0</td>\n      <td>14.0</td>\n      <td>80.0</td>\n    </tr>\n    <tr>\n      <th>3</th>\n      <td>139441.0</td>\n      <td>0.0</td>\n      <td>2.0</td>\n      <td>12.0</td>\n      <td>2.0</td>\n      <td>10.0</td>\n      <td>50128.0</td>\n      <td>87991.0</td>\n      <td>2211.0</td>\n      <td>790.0</td>\n      <td>1119.0</td>\n      <td>61027.0</td>\n      <td>32048.0</td>\n      <td>1386.0</td>\n      <td>58.0</td>\n      <td>1572.0</td>\n      <td>147.0</td>\n      <td>1777.0</td>\n    </tr>\n    <tr>\n      <th>4</th>\n      <td>139441.0</td>\n      <td>0.0</td>\n      <td>2.0</td>\n      <td>12.0</td>\n      <td>2.0</td>\n      <td>3.0</td>\n      <td>7244.0</td>\n      <td>13594.0</td>\n      <td>671.0</td>\n      <td>410.0</td>\n      <td>580.0</td>\n      <td>6228.0</td>\n      <td>3200.0</td>\n      <td>396.0</td>\n      <td>19.0</td>\n      <td>325.0</td>\n      <td>49.0</td>\n      <td>393.0</td>\n    </tr>\n  </tbody>\n</table>\n</div>"
     },
     "execution_count": 10,
     "metadata": {},
     "output_type": "execute_result"
    }
   ],
   "source": [
    "X.head()"
   ],
   "metadata": {
    "collapsed": false,
    "ExecuteTime": {
     "start_time": "2023-04-19T19:40:56.638575Z",
     "end_time": "2023-04-19T19:40:56.652375Z"
    }
   }
  },
  {
   "cell_type": "code",
   "execution_count": 11,
   "outputs": [
    {
     "name": "stdout",
     "output_type": "stream",
     "text": [
      "<class 'pandas.core.frame.DataFrame'>\n",
      "RangeIndex: 497 entries, 0 to 496\n",
      "Data columns (total 18 columns):\n",
      " #   Column                                                               Non-Null Count  Dtype  \n",
      "---  ------                                                               --------------  -----  \n",
      " 0   Page total likes                                                     497 non-null    float64\n",
      " 1   Type                                                                 497 non-null    float64\n",
      " 2   Category                                                             497 non-null    float64\n",
      " 3   Post Month                                                           497 non-null    float64\n",
      " 4   Post Weekday                                                         497 non-null    float64\n",
      " 5   Post Hour                                                            497 non-null    float64\n",
      " 6   Lifetime Post Total Reach                                            497 non-null    float64\n",
      " 7   Lifetime Post Total Impressions                                      497 non-null    float64\n",
      " 8   Lifetime Engaged Users                                               497 non-null    float64\n",
      " 9   Lifetime Post Consumers                                              497 non-null    float64\n",
      " 10  Lifetime Post Consumptions                                           497 non-null    float64\n",
      " 11  Lifetime Post Impressions by people who have liked your Page         497 non-null    float64\n",
      " 12  Lifetime Post reach by people who like your Page                     497 non-null    float64\n",
      " 13  Lifetime People who have liked your Page and engaged with your post  497 non-null    float64\n",
      " 14  comment                                                              497 non-null    float64\n",
      " 15  like                                                                 497 non-null    float64\n",
      " 16  share                                                                497 non-null    float64\n",
      " 17  Total Interactions                                                   497 non-null    float64\n",
      "dtypes: float64(18)\n",
      "memory usage: 70.0 KB\n"
     ]
    }
   ],
   "source": [
    "X.info()"
   ],
   "metadata": {
    "collapsed": false,
    "ExecuteTime": {
     "start_time": "2023-04-19T19:40:57.478924Z",
     "end_time": "2023-04-19T19:40:57.489442Z"
    }
   }
  },
  {
   "cell_type": "code",
   "execution_count": 12,
   "outputs": [],
   "source": [
    "#разбиваем наше множество на 5 частей и перемешиваем \"shuffle=True\"(Стратифицированная выборка)\n",
    "cv = StratifiedKFold(n_splits=5, shuffle=True, random_state=42)\n"
   ],
   "metadata": {
    "collapsed": false,
    "ExecuteTime": {
     "start_time": "2023-04-19T19:40:58.288432Z",
     "end_time": "2023-04-19T19:40:58.300534Z"
    }
   }
  },
  {
   "cell_type": "code",
   "execution_count": 12,
   "outputs": [],
   "source": [],
   "metadata": {
    "collapsed": false,
    "ExecuteTime": {
     "start_time": "2023-04-19T19:41:00.105838Z",
     "end_time": "2023-04-19T19:41:00.121160Z"
    }
   }
  },
  {
   "cell_type": "code",
   "execution_count": 13,
   "outputs": [
    {
     "data": {
      "text/plain": "0.5197701980990025"
     },
     "execution_count": 13,
     "metadata": {},
     "output_type": "execute_result"
    }
   ],
   "source": [
    "forest_clf = RandomForestClassifier(n_estimators = 100, random_state=42)\n",
    "forest_scores = cross_val_score(forest_clf, X_train_prepared, y_train, cv = cv, scoring=\"roc_auc\")\n",
    "forest_scores.mean()"
   ],
   "metadata": {
    "collapsed": false,
    "ExecuteTime": {
     "start_time": "2023-04-19T19:41:01.046728Z",
     "end_time": "2023-04-19T19:41:01.662629Z"
    }
   }
  },
  {
   "cell_type": "code",
   "execution_count": 14,
   "outputs": [
    {
     "data": {
      "text/plain": "0.5389640311001813"
     },
     "execution_count": 14,
     "metadata": {},
     "output_type": "execute_result"
    }
   ],
   "source": [
    "forest_clf = RandomForestClassifier(n_estimators = 100, random_state=42)\n",
    "forest_scores = cross_val_score(forest_clf, X, y, cv = cv, scoring=\"roc_auc\")\n",
    "forest_scores.mean()"
   ],
   "metadata": {
    "collapsed": false,
    "ExecuteTime": {
     "start_time": "2023-04-19T19:41:02.300571Z",
     "end_time": "2023-04-19T19:41:02.970333Z"
    }
   }
  },
  {
   "cell_type": "code",
   "execution_count": 15,
   "outputs": [
    {
     "data": {
      "text/plain": "0.5538367033476579"
     },
     "execution_count": 15,
     "metadata": {},
     "output_type": "execute_result"
    }
   ],
   "source": [
    "forest_clf = RandomForestClassifier(n_estimators = 100, random_state=42)\n",
    "forest_scores = cross_val_score(forest_clf, X_full_prepared, y_full, cv = cv, scoring=\"roc_auc\")\n",
    "forest_scores.mean()"
   ],
   "metadata": {
    "collapsed": false,
    "ExecuteTime": {
     "start_time": "2023-04-19T19:41:03.366012Z",
     "end_time": "2023-04-19T19:41:03.983349Z"
    }
   }
  },
  {
   "cell_type": "code",
   "execution_count": 15,
   "outputs": [],
   "source": [],
   "metadata": {
    "collapsed": false,
    "ExecuteTime": {
     "start_time": "2023-04-19T19:41:04.383145Z",
     "end_time": "2023-04-19T19:41:04.395513Z"
    }
   }
  },
  {
   "cell_type": "code",
   "execution_count": 16,
   "outputs": [
    {
     "data": {
      "text/plain": "0.5685053171466214"
     },
     "execution_count": 16,
     "metadata": {},
     "output_type": "execute_result"
    }
   ],
   "source": [
    "svm_clf = SVC(gamma=\"auto\")\n",
    "svm_scores = cross_val_score(svm_clf, X_train_prepared, y_train, cv=cv, scoring=\"roc_auc\")\n",
    "svm_scores.mean()"
   ],
   "metadata": {
    "collapsed": false,
    "ExecuteTime": {
     "start_time": "2023-04-19T19:41:05.242463Z",
     "end_time": "2023-04-19T19:41:05.292285Z"
    }
   }
  },
  {
   "cell_type": "code",
   "execution_count": 17,
   "outputs": [
    {
     "data": {
      "text/plain": "0.5"
     },
     "execution_count": 17,
     "metadata": {},
     "output_type": "execute_result"
    }
   ],
   "source": [
    "svm_clf = SVC(gamma=\"auto\")\n",
    "svm_scores = cross_val_score(svm_clf, X, y, cv=3, scoring=\"roc_auc\")\n",
    "svm_scores.mean()"
   ],
   "metadata": {
    "collapsed": false,
    "ExecuteTime": {
     "start_time": "2023-04-19T19:41:06.315998Z",
     "end_time": "2023-04-19T19:41:06.375181Z"
    }
   }
  },
  {
   "cell_type": "code",
   "execution_count": 18,
   "outputs": [
    {
     "data": {
      "text/plain": "0.5361131409085373"
     },
     "execution_count": 18,
     "metadata": {},
     "output_type": "execute_result"
    }
   ],
   "source": [
    "svm_clf = SVC(gamma=\"auto\")\n",
    "svm_scores = cross_val_score(svm_clf, X_full_prepared, y_full, cv=3, scoring=\"roc_auc\")\n",
    "svm_scores.mean()"
   ],
   "metadata": {
    "collapsed": false,
    "ExecuteTime": {
     "start_time": "2023-04-19T19:41:07.008730Z",
     "end_time": "2023-04-19T19:41:07.052631Z"
    }
   }
  },
  {
   "cell_type": "code",
   "execution_count": 19,
   "outputs": [
    {
     "data": {
      "text/plain": "0.5294638199567776"
     },
     "execution_count": 19,
     "metadata": {},
     "output_type": "execute_result"
    }
   ],
   "source": [
    "# выбрали модель - деревья принятия решений\n",
    "dt_clf = DecisionTreeClassifier(random_state=42)\n",
    "dt_scores = cross_val_score(dt_clf, X, y, cv=cv, scoring=\"roc_auc\")\n",
    "dt_scores.mean()"
   ],
   "metadata": {
    "collapsed": false,
    "ExecuteTime": {
     "start_time": "2023-04-19T19:41:07.694100Z",
     "end_time": "2023-04-19T19:41:07.741212Z"
    }
   }
  },
  {
   "cell_type": "code",
   "execution_count": 19,
   "outputs": [],
   "source": [],
   "metadata": {
    "collapsed": false,
    "ExecuteTime": {
     "start_time": "2023-04-19T19:41:08.373845Z",
     "end_time": "2023-04-19T19:41:08.387732Z"
    }
   }
  },
  {
   "cell_type": "code",
   "execution_count": 20,
   "outputs": [
    {
     "data": {
      "text/plain": "Text(0, 0.5, 'neg_mean_squared_error')"
     },
     "execution_count": 20,
     "metadata": {},
     "output_type": "execute_result"
    },
    {
     "data": {
      "text/plain": "<Figure size 640x480 with 1 Axes>",
      "image/png": "[encoded data removed]"
     },
     "metadata": {},
     "output_type": "display_data"
    }
   ],
   "source": [
    "train_scores, valid_scores = validation_curve(\n",
    "    dt_clf, X_train_prepared, y_train,\n",
    "    param_name='max_depth',\n",
    "    param_range=range(1, 15),\n",
    "    cv=cv,\n",
    "    scoring='neg_mean_squared_error')\n",
    "\n",
    "train_score_mean = train_scores.mean(axis=1)\n",
    "train_score_std = train_scores.std(axis=1)\n",
    "valid_scores_mean = valid_scores.mean(axis=1)\n",
    "valid_scores_std = valid_scores.std(axis=1)\n",
    "\n",
    "plt.fill_between(range(1,15), train_score_mean-train_score_std, train_score_mean+train_score_std, color='b',\n",
    "                 interpolate=True, alpha=0.5,)\n",
    "plt.fill_between(range(1,15), valid_scores_mean-valid_scores_std, valid_scores_mean+valid_scores_std, color='r',\n",
    "                 interpolate=True, alpha=0.5)\n",
    "\n",
    "plt.plot(range(1,15), train_score_mean, c='b', lw=2)\n",
    "plt.plot(range(1,15), valid_scores_mean, c='r', lw=2)\n",
    "\n",
    "plt.xlabel('max depth')\n",
    "plt.ylabel('neg_mean_squared_error')"
   ],
   "metadata": {
    "collapsed": false,
    "ExecuteTime": {
     "start_time": "2023-04-19T19:41:09.802193Z",
     "end_time": "2023-04-19T19:41:10.109085Z"
    }
   }
  },
  {
   "cell_type": "code",
   "execution_count": 21,
   "outputs": [
    {
     "data": {
      "text/plain": "RandomizedSearchCV(cv=StratifiedKFold(n_splits=5, random_state=42, shuffle=True),\n                   estimator=DecisionTreeClassifier(random_state=42),\n                   n_iter=100, n_jobs=-1,\n                   param_distributions={'class_weight': [None, 'balanced'],\n                                        'criterion': ['gini', 'entropy'],\n                                        'max_depth': range(1, 15),\n                                        'min_samples_leaf': range(1, 10)},\n                   random_state=42, scoring='roc_auc')",
      "text/html": "<style>#sk-container-id-1 {color: black;background-color: white;}#sk-container-id-1 pre{padding: 0;}#sk-container-id-1 div.sk-toggleable {background-color: white;}#sk-container-id-1 label.sk-toggleable__label {cursor: pointer;display: block;width: 100%;margin-bottom: 0;padding: 0.3em;box-sizing: border-box;text-align: center;}#sk-container-id-1 label.sk-toggleable__label-arrow:before {content: \"▸\";float: left;margin-right: 0.25em;color: #696969;}#sk-container-id-1 label.sk-toggleable__label-arrow:hover:before {color: black;}#sk-container-id-1 div.sk-estimator:hover label.sk-toggleable__label-arrow:before {color: black;}#sk-container-id-1 div.sk-toggleable__content {max-height: 0;max-width: 0;overflow: hidden;text-align: left;background-color: #f0f8ff;}#sk-container-id-1 div.sk-toggleable__content pre {margin: 0.2em;color: black;border-radius: 0.25em;background-color: #f0f8ff;}#sk-container-id-1 input.sk-toggleable__control:checked~div.sk-toggleable__content {max-height: 200px;max-width: 100%;overflow: auto;}#sk-container-id-1 input.sk-toggleable__control:checked~label.sk-toggleable__label-arrow:before {content: \"▾\";}#sk-container-id-1 div.sk-estimator input.sk-toggleable__control:checked~label.sk-toggleable__label {background-color: #d4ebff;}#sk-container-id-1 div.sk-label input.sk-toggleable__control:checked~label.sk-toggleable__label {background-color: #d4ebff;}#sk-container-id-1 input.sk-hidden--visually {border: 0;clip: rect(1px 1px 1px 1px);clip: rect(1px, 1px, 1px, 1px);height: 1px;margin: -1px;overflow: hidden;padding: 0;position: absolute;width: 1px;}#sk-container-id-1 div.sk-estimator {font-family: monospace;background-color: #f0f8ff;border: 1px dotted black;border-radius: 0.25em;box-sizing: border-box;margin-bottom: 0.5em;}#sk-container-id-1 div.sk-estimator:hover {background-color: #d4ebff;}#sk-container-id-1 div.sk-parallel-item::after {content: \"\";width: 100%;border-bottom: 1px solid gray;flex-grow: 1;}#sk-container-id-1 div.sk-label:hover label.sk-toggleable__label {background-color: #d4ebff;}#sk-container-id-1 div.sk-serial::before {content: \"\";position: absolute;border-left: 1px solid gray;box-sizing: border-box;top: 0;bottom: 0;left: 50%;z-index: 0;}#sk-container-id-1 div.sk-serial {display: flex;flex-direction: column;align-items: center;background-color: white;padding-right: 0.2em;padding-left: 0.2em;position: relative;}#sk-container-id-1 div.sk-item {position: relative;z-index: 1;}#sk-container-id-1 div.sk-parallel {display: flex;align-items: stretch;justify-content: center;background-color: white;position: relative;}#sk-container-id-1 div.sk-item::before, #sk-container-id-1 div.sk-parallel-item::before {content: \"\";position: absolute;border-left: 1px solid gray;box-sizing: border-box;top: 0;bottom: 0;left: 50%;z-index: -1;}#sk-container-id-1 div.sk-parallel-item {display: flex;flex-direction: column;z-index: 1;position: relative;background-color: white;}#sk-container-id-1 div.sk-parallel-item:first-child::after {align-self: flex-end;width: 50%;}#sk-container-id-1 div.sk-parallel-item:last-child::after {align-self: flex-start;width: 50%;}#sk-container-id-1 div.sk-parallel-item:only-child::after {width: 0;}#sk-container-id-1 div.sk-dashed-wrapped {border: 1px dashed gray;margin: 0 0.4em 0.5em 0.4em;box-sizing: border-box;padding-bottom: 0.4em;background-color: white;}#sk-container-id-1 div.sk-label label {font-family: monospace;font-weight: bold;display: inline-block;line-height: 1.2em;}#sk-container-id-1 div.sk-label-container {text-align: center;}#sk-container-id-1 div.sk-container {/* jupyter's `normalize.less` sets `[hidden] { display: none; }` but bootstrap.min.css set `[hidden] { display: none !important; }` so we also need the `!important` here to be able to override the default hidden behavior on the sphinx rendered scikit-learn.org. See: https://github.com/scikit-learn/scikit-learn/issues/21755 */display: inline-block !important;position: relative;}#sk-container-id-1 div.sk-text-repr-fallback {display: none;}</style><div id=\"sk-container-id-1\" class=\"sk-top-container\"><div class=\"sk-text-repr-fallback\"><pre>RandomizedSearchCV(cv=StratifiedKFold(n_splits=5, random_state=42, shuffle=True),\n                   estimator=DecisionTreeClassifier(random_state=42),\n                   n_iter=100, n_jobs=-1,\n                   param_distributions={&#x27;class_weight&#x27;: [None, &#x27;balanced&#x27;],\n                                        &#x27;criterion&#x27;: [&#x27;gini&#x27;, &#x27;entropy&#x27;],\n                                        &#x27;max_depth&#x27;: range(1, 15),\n                                        &#x27;min_samples_leaf&#x27;: range(1, 10)},\n                   random_state=42, scoring=&#x27;roc_auc&#x27;)</pre><b>In a Jupyter environment, please rerun this cell to show the HTML representation or trust the notebook. <br />On GitHub, the HTML representation is unable to render, please try loading this page with nbviewer.org.</b></div><div class=\"sk-container\" hidden><div class=\"sk-item sk-dashed-wrapped\"><div class=\"sk-label-container\"><div class=\"sk-label sk-toggleable\"><input class=\"sk-toggleable__control sk-hidden--visually\" id=\"sk-estimator-id-1\" type=\"checkbox\" ><label for=\"sk-estimator-id-1\" class=\"sk-toggleable__label sk-toggleable__label-arrow\">RandomizedSearchCV</label><div class=\"sk-toggleable__content\"><pre>RandomizedSearchCV(cv=StratifiedKFold(n_splits=5, random_state=42, shuffle=True),\n                   estimator=DecisionTreeClassifier(random_state=42),\n                   n_iter=100, n_jobs=-1,\n                   param_distributions={&#x27;class_weight&#x27;: [None, &#x27;balanced&#x27;],\n                                        &#x27;criterion&#x27;: [&#x27;gini&#x27;, &#x27;entropy&#x27;],\n                                        &#x27;max_depth&#x27;: range(1, 15),\n                                        &#x27;min_samples_leaf&#x27;: range(1, 10)},\n                   random_state=42, scoring=&#x27;roc_auc&#x27;)</pre></div></div></div><div class=\"sk-parallel\"><div class=\"sk-parallel-item\"><div class=\"sk-item\"><div class=\"sk-label-container\"><div class=\"sk-label sk-toggleable\"><input class=\"sk-toggleable__control sk-hidden--visually\" id=\"sk-estimator-id-2\" type=\"checkbox\" ><label for=\"sk-estimator-id-2\" class=\"sk-toggleable__label sk-toggleable__label-arrow\">estimator: DecisionTreeClassifier</label><div class=\"sk-toggleable__content\"><pre>DecisionTreeClassifier(random_state=42)</pre></div></div></div><div class=\"sk-serial\"><div class=\"sk-item\"><div class=\"sk-estimator sk-toggleable\"><input class=\"sk-toggleable__control sk-hidden--visually\" id=\"sk-estimator-id-3\" type=\"checkbox\" ><label for=\"sk-estimator-id-3\" class=\"sk-toggleable__label sk-toggleable__label-arrow\">DecisionTreeClassifier</label><div class=\"sk-toggleable__content\"><pre>DecisionTreeClassifier(random_state=42)</pre></div></div></div></div></div></div></div></div></div></div>"
     },
     "execution_count": 21,
     "metadata": {},
     "output_type": "execute_result"
    }
   ],
   "source": [
    "param_grid = {                                 #зададим параметры по которым и будем осуществлять поиск\n",
    "    'criterion': ['gini', 'entropy'],\n",
    "    'max_depth': range(1, 15),\n",
    "    'min_samples_leaf': range(1, 10),\n",
    "    'class_weight': [None, 'balanced']}\n",
    "\n",
    "\n",
    "random_search = RandomizedSearchCV(dt_clf,\n",
    "                                   param_distributions=param_grid,\n",
    "                                   n_iter=100, n_jobs=-1,\n",
    "                                   cv=cv,\n",
    "                                   scoring='roc_auc',\n",
    "                                   random_state=42)\n",
    "\n",
    "random_search.fit(X, y)"
   ],
   "metadata": {
    "collapsed": false,
    "ExecuteTime": {
     "start_time": "2023-04-19T19:41:12.653307Z",
     "end_time": "2023-04-19T19:41:14.719327Z"
    }
   }
  },
  {
   "cell_type": "code",
   "execution_count": 22,
   "outputs": [
    {
     "data": {
      "text/plain": "{'min_samples_leaf': 1,\n 'max_depth': 4,\n 'criterion': 'entropy',\n 'class_weight': None}"
     },
     "execution_count": 22,
     "metadata": {},
     "output_type": "execute_result"
    }
   ],
   "source": [
    "random_search.best_params_ #выведем наилучшие параметры"
   ],
   "metadata": {
    "collapsed": false,
    "ExecuteTime": {
     "start_time": "2023-04-19T19:41:16.109700Z",
     "end_time": "2023-04-19T19:41:16.123046Z"
    }
   }
  },
  {
   "cell_type": "code",
   "execution_count": 23,
   "outputs": [
    {
     "data": {
      "text/plain": "0.5962605364698479"
     },
     "execution_count": 23,
     "metadata": {},
     "output_type": "execute_result"
    }
   ],
   "source": [
    "random_search.best_score_"
   ],
   "metadata": {
    "collapsed": false,
    "ExecuteTime": {
     "start_time": "2023-04-19T19:41:16.943537Z",
     "end_time": "2023-04-19T19:41:16.968128Z"
    }
   }
  },
  {
   "cell_type": "code",
   "execution_count": 24,
   "outputs": [
    {
     "data": {
      "text/plain": "DecisionTreeClassifier(criterion='entropy', max_depth=4, random_state=42)",
      "text/html": "<style>#sk-container-id-2 {color: black;background-color: white;}#sk-container-id-2 pre{padding: 0;}#sk-container-id-2 div.sk-toggleable {background-color: white;}#sk-container-id-2 label.sk-toggleable__label {cursor: pointer;display: block;width: 100%;margin-bottom: 0;padding: 0.3em;box-sizing: border-box;text-align: center;}#sk-container-id-2 label.sk-toggleable__label-arrow:before {content: \"▸\";float: left;margin-right: 0.25em;color: #696969;}#sk-container-id-2 label.sk-toggleable__label-arrow:hover:before {color: black;}#sk-container-id-2 div.sk-estimator:hover label.sk-toggleable__label-arrow:before {color: black;}#sk-container-id-2 div.sk-toggleable__content {max-height: 0;max-width: 0;overflow: hidden;text-align: left;background-color: #f0f8ff;}#sk-container-id-2 div.sk-toggleable__content pre {margin: 0.2em;color: black;border-radius: 0.25em;background-color: #f0f8ff;}#sk-container-id-2 input.sk-toggleable__control:checked~div.sk-toggleable__content {max-height: 200px;max-width: 100%;overflow: auto;}#sk-container-id-2 input.sk-toggleable__control:checked~label.sk-toggleable__label-arrow:before {content: \"▾\";}#sk-container-id-2 div.sk-estimator input.sk-toggleable__control:checked~label.sk-toggleable__label {background-color: #d4ebff;}#sk-container-id-2 div.sk-label input.sk-toggleable__control:checked~label.sk-toggleable__label {background-color: #d4ebff;}#sk-container-id-2 input.sk-hidden--visually {border: 0;clip: rect(1px 1px 1px 1px);clip: rect(1px, 1px, 1px, 1px);height: 1px;margin: -1px;overflow: hidden;padding: 0;position: absolute;width: 1px;}#sk-container-id-2 div.sk-estimator {font-family: monospace;background-color: #f0f8ff;border: 1px dotted black;border-radius: 0.25em;box-sizing: border-box;margin-bottom: 0.5em;}#sk-container-id-2 div.sk-estimator:hover {background-color: #d4ebff;}#sk-container-id-2 div.sk-parallel-item::after {content: \"\";width: 100%;border-bottom: 1px solid gray;flex-grow: 1;}#sk-container-id-2 div.sk-label:hover label.sk-toggleable__label {background-color: #d4ebff;}#sk-container-id-2 div.sk-serial::before {content: \"\";position: absolute;border-left: 1px solid gray;box-sizing: border-box;top: 0;bottom: 0;left: 50%;z-index: 0;}#sk-container-id-2 div.sk-serial {display: flex;flex-direction: column;align-items: center;background-color: white;padding-right: 0.2em;padding-left: 0.2em;position: relative;}#sk-container-id-2 div.sk-item {position: relative;z-index: 1;}#sk-container-id-2 div.sk-parallel {display: flex;align-items: stretch;justify-content: center;background-color: white;position: relative;}#sk-container-id-2 div.sk-item::before, #sk-container-id-2 div.sk-parallel-item::before {content: \"\";position: absolute;border-left: 1px solid gray;box-sizing: border-box;top: 0;bottom: 0;left: 50%;z-index: -1;}#sk-container-id-2 div.sk-parallel-item {display: flex;flex-direction: column;z-index: 1;position: relative;background-color: white;}#sk-container-id-2 div.sk-parallel-item:first-child::after {align-self: flex-end;width: 50%;}#sk-container-id-2 div.sk-parallel-item:last-child::after {align-self: flex-start;width: 50%;}#sk-container-id-2 div.sk-parallel-item:only-child::after {width: 0;}#sk-container-id-2 div.sk-dashed-wrapped {border: 1px dashed gray;margin: 0 0.4em 0.5em 0.4em;box-sizing: border-box;padding-bottom: 0.4em;background-color: white;}#sk-container-id-2 div.sk-label label {font-family: monospace;font-weight: bold;display: inline-block;line-height: 1.2em;}#sk-container-id-2 div.sk-label-container {text-align: center;}#sk-container-id-2 div.sk-container {/* jupyter's `normalize.less` sets `[hidden] { display: none; }` but bootstrap.min.css set `[hidden] { display: none !important; }` so we also need the `!important` here to be able to override the default hidden behavior on the sphinx rendered scikit-learn.org. See: https://github.com/scikit-learn/scikit-learn/issues/21755 */display: inline-block !important;position: relative;}#sk-container-id-2 div.sk-text-repr-fallback {display: none;}</style><div id=\"sk-container-id-2\" class=\"sk-top-container\"><div class=\"sk-text-repr-fallback\"><pre>DecisionTreeClassifier(criterion=&#x27;entropy&#x27;, max_depth=4, random_state=42)</pre><b>In a Jupyter environment, please rerun this cell to show the HTML representation or trust the notebook. <br />On GitHub, the HTML representation is unable to render, please try loading this page with nbviewer.org.</b></div><div class=\"sk-container\" hidden><div class=\"sk-item\"><div class=\"sk-estimator sk-toggleable\"><input class=\"sk-toggleable__control sk-hidden--visually\" id=\"sk-estimator-id-4\" type=\"checkbox\" checked><label for=\"sk-estimator-id-4\" class=\"sk-toggleable__label sk-toggleable__label-arrow\">DecisionTreeClassifier</label><div class=\"sk-toggleable__content\"><pre>DecisionTreeClassifier(criterion=&#x27;entropy&#x27;, max_depth=4, random_state=42)</pre></div></div></div></div></div>"
     },
     "execution_count": 24,
     "metadata": {},
     "output_type": "execute_result"
    }
   ],
   "source": [
    "best_model = random_search.best_estimator_\n",
    "best_model #параметры наилучшей модели"
   ],
   "metadata": {
    "collapsed": false,
    "ExecuteTime": {
     "start_time": "2023-04-19T19:41:18.873593Z",
     "end_time": "2023-04-19T19:41:18.885217Z"
    }
   }
  },
  {
   "cell_type": "code",
   "execution_count": 34,
   "outputs": [
    {
     "data": {
      "text/plain": "Type                                                                   0.000000\nPost Month                                                             0.000000\nPost Weekday                                                           0.000000\nPost Hour                                                              0.000000\nshare                                                                  0.000000\nLifetime Post Consumers                                                0.000000\nlike                                                                   0.000000\nLifetime Post Impressions by people who have liked your Page           0.000000\ncomment                                                                0.000000\nCategory                                                               0.044166\nLifetime Post reach by people who like your Page                       0.065588\nTotal Interactions                                                     0.076595\nLifetime People who have liked your Page and engaged with your post    0.086339\nLifetime Post Total Reach                                              0.094878\nLifetime Post Total Impressions                                        0.107083\nLifetime Engaged Users                                                 0.160849\nLifetime Post Consumptions                                             0.177553\nPage total likes                                                       0.186949\ndtype: float64"
     },
     "execution_count": 34,
     "metadata": {},
     "output_type": "execute_result"
    }
   ],
   "source": [
    "imp = best_model.feature_importances_\n",
    "pd.Series(index=df_preproc.columns, data = imp).sort_values()"
   ],
   "metadata": {
    "collapsed": false,
    "ExecuteTime": {
     "start_time": "2023-04-19T19:48:32.914474Z",
     "end_time": "2023-04-19T19:48:32.918039Z"
    }
   }
  },
  {
   "cell_type": "code",
   "execution_count": null,
   "outputs": [],
   "source": [],
   "metadata": {
    "collapsed": false
   }
  }
 ],
 "metadata": {
  "kernelspec": {
   "display_name": "Python 3 (ipykernel)",
   "language": "python",
   "name": "python3"
  },
  "language_info": {
   "codemirror_mode": {
    "name": "ipython",
    "version": 3
   },
   "file_extension": ".py",
   "mimetype": "text/x-python",
   "name": "python",
   "nbconvert_exporter": "python",
   "pygments_lexer": "ipython3",
   "version": "3.9.12"
  }
 },
 "nbformat": 4,
 "nbformat_minor": 5
}
