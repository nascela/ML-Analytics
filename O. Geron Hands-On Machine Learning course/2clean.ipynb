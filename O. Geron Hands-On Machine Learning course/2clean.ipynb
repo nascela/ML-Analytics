{
 "cells": [
  {
   "cell_type": "code",
   "execution_count": 3,
   "id": "08fae68f",
   "metadata": {
    "ExecuteTime": {
     "start_time": "2023-04-18T19:03:09.510665Z",
     "end_time": "2023-04-18T19:03:09.522735Z"
    }
   },
   "outputs": [],
   "source": [
    "import pandas as pd\n",
    "import numpy as np\n",
    "from sklearn.model_selection import StratifiedShuffleSplit\n",
    "from sklearn.impute import SimpleImputer\n",
    "from sklearn.base import BaseEstimator, TransformerMixin\n",
    "from sklearn.pipeline import Pipeline\n",
    "from sklearn.preprocessing import StandardScaler\n",
    "from sklearn.preprocessing import OneHotEncoder\n",
    "from sklearn.compose import ColumnTransformer\n",
    "\n",
    "from sklearn.linear_model import LinearRegression"
   ]
  },
  {
   "cell_type": "code",
   "execution_count": 4,
   "id": "161e87c3",
   "metadata": {
    "ExecuteTime": {
     "start_time": "2023-04-18T19:03:10.266259Z",
     "end_time": "2023-04-18T19:03:10.308693Z"
    }
   },
   "outputs": [],
   "source": [
    "housing = pd.read_csv('datasets/housing/housing.csv')"
   ]
  },
  {
   "cell_type": "code",
   "execution_count": 5,
   "id": "8f115a4a",
   "metadata": {
    "ExecuteTime": {
     "start_time": "2023-04-18T19:03:11.002034Z",
     "end_time": "2023-04-18T19:03:11.015547Z"
    }
   },
   "outputs": [],
   "source": [
    "housing[\"income_cat\"] = pd.cut(housing[\"median_income\"], bins=[0., 1.5, 3.0, 4.5, 6., np.inf], labels= [1, 2, 3, 4, 5])"
   ]
  },
  {
   "cell_type": "code",
   "execution_count": 6,
   "id": "2f8af438",
   "metadata": {
    "ExecuteTime": {
     "start_time": "2023-04-18T19:03:11.541265Z",
     "end_time": "2023-04-18T19:03:11.559931Z"
    }
   },
   "outputs": [],
   "source": [
    "split = StratifiedShuffleSplit(n_splits=1, test_size=0.2, random_state=42)\n",
    "for train_index, test_index in split.split (housing, housing['income_cat']):\n",
    "    strat_train_set = housing.loc[train_index]\n",
    "    strat_test_set = housing.loc[test_index]"
   ]
  },
  {
   "cell_type": "code",
   "execution_count": 7,
   "id": "ccb7b618",
   "metadata": {
    "ExecuteTime": {
     "start_time": "2023-04-18T19:03:12.179491Z",
     "end_time": "2023-04-18T19:03:12.192799Z"
    }
   },
   "outputs": [
    {
     "data": {
      "text/plain": "       longitude  latitude  housing_median_age  total_rooms  total_bedrooms  \\\n5241     -118.39     34.12                29.0       6447.0          1012.0   \n17352    -120.42     34.89                24.0       2020.0           307.0   \n3505     -118.45     34.25                36.0       1453.0           270.0   \n7777     -118.10     33.91                35.0       1653.0           325.0   \n14155    -117.07     32.77                38.0       3779.0           614.0   \n...          ...       ...                 ...          ...             ...   \n12182    -117.29     33.72                19.0       2248.0           427.0   \n7275     -118.24     33.99                33.0        885.0           294.0   \n17223    -119.72     34.44                43.0       1781.0           342.0   \n10786    -117.91     33.63                30.0       2071.0           412.0   \n3965     -118.56     34.19                36.0       2600.0           441.0   \n\n       population  households  median_income  median_house_value  \\\n5241       2184.0       960.0         8.2816            500001.0   \n17352       855.0       283.0         5.0099            162500.0   \n3505        808.0       275.0         4.3839            204600.0   \n7777       1072.0       301.0         3.2708            159700.0   \n14155      1495.0       614.0         4.3529            184000.0   \n...           ...         ...            ...                 ...   \n12182      1207.0       368.0         2.8170            110000.0   \n7275       1270.0       282.0         2.1615            118800.0   \n17223       663.0       358.0         4.7000            293800.0   \n10786      1081.0       412.0         4.9125            335700.0   \n3965       1246.0       426.0         4.1111            215600.0   \n\n      ocean_proximity income_cat  \n5241        <1H OCEAN          5  \n17352       <1H OCEAN          4  \n3505        <1H OCEAN          3  \n7777        <1H OCEAN          3  \n14155      NEAR OCEAN          3  \n...               ...        ...  \n12182       <1H OCEAN          2  \n7275        <1H OCEAN          2  \n17223       <1H OCEAN          4  \n10786       <1H OCEAN          4  \n3965        <1H OCEAN          3  \n\n[4128 rows x 11 columns]",
      "text/html": "<div>\n<style scoped>\n    .dataframe tbody tr th:only-of-type {\n        vertical-align: middle;\n    }\n\n    .dataframe tbody tr th {\n        vertical-align: top;\n    }\n\n    .dataframe thead th {\n        text-align: right;\n    }\n</style>\n<table border=\"1\" class=\"dataframe\">\n  <thead>\n    <tr style=\"text-align: right;\">\n      <th></th>\n      <th>longitude</th>\n      <th>latitude</th>\n      <th>housing_median_age</th>\n      <th>total_rooms</th>\n      <th>total_bedrooms</th>\n      <th>population</th>\n      <th>households</th>\n      <th>median_income</th>\n      <th>median_house_value</th>\n      <th>ocean_proximity</th>\n      <th>income_cat</th>\n    </tr>\n  </thead>\n  <tbody>\n    <tr>\n      <th>5241</th>\n      <td>-118.39</td>\n      <td>34.12</td>\n      <td>29.0</td>\n      <td>6447.0</td>\n      <td>1012.0</td>\n      <td>2184.0</td>\n      <td>960.0</td>\n      <td>8.2816</td>\n      <td>500001.0</td>\n      <td>&lt;1H OCEAN</td>\n      <td>5</td>\n    </tr>\n    <tr>\n      <th>17352</th>\n      <td>-120.42</td>\n      <td>34.89</td>\n      <td>24.0</td>\n      <td>2020.0</td>\n      <td>307.0</td>\n      <td>855.0</td>\n      <td>283.0</td>\n      <td>5.0099</td>\n      <td>162500.0</td>\n      <td>&lt;1H OCEAN</td>\n      <td>4</td>\n    </tr>\n    <tr>\n      <th>3505</th>\n      <td>-118.45</td>\n      <td>34.25</td>\n      <td>36.0</td>\n      <td>1453.0</td>\n      <td>270.0</td>\n      <td>808.0</td>\n      <td>275.0</td>\n      <td>4.3839</td>\n      <td>204600.0</td>\n      <td>&lt;1H OCEAN</td>\n      <td>3</td>\n    </tr>\n    <tr>\n      <th>7777</th>\n      <td>-118.10</td>\n      <td>33.91</td>\n      <td>35.0</td>\n      <td>1653.0</td>\n      <td>325.0</td>\n      <td>1072.0</td>\n      <td>301.0</td>\n      <td>3.2708</td>\n      <td>159700.0</td>\n      <td>&lt;1H OCEAN</td>\n      <td>3</td>\n    </tr>\n    <tr>\n      <th>14155</th>\n      <td>-117.07</td>\n      <td>32.77</td>\n      <td>38.0</td>\n      <td>3779.0</td>\n      <td>614.0</td>\n      <td>1495.0</td>\n      <td>614.0</td>\n      <td>4.3529</td>\n      <td>184000.0</td>\n      <td>NEAR OCEAN</td>\n      <td>3</td>\n    </tr>\n    <tr>\n      <th>...</th>\n      <td>...</td>\n      <td>...</td>\n      <td>...</td>\n      <td>...</td>\n      <td>...</td>\n      <td>...</td>\n      <td>...</td>\n      <td>...</td>\n      <td>...</td>\n      <td>...</td>\n      <td>...</td>\n    </tr>\n    <tr>\n      <th>12182</th>\n      <td>-117.29</td>\n      <td>33.72</td>\n      <td>19.0</td>\n      <td>2248.0</td>\n      <td>427.0</td>\n      <td>1207.0</td>\n      <td>368.0</td>\n      <td>2.8170</td>\n      <td>110000.0</td>\n      <td>&lt;1H OCEAN</td>\n      <td>2</td>\n    </tr>\n    <tr>\n      <th>7275</th>\n      <td>-118.24</td>\n      <td>33.99</td>\n      <td>33.0</td>\n      <td>885.0</td>\n      <td>294.0</td>\n      <td>1270.0</td>\n      <td>282.0</td>\n      <td>2.1615</td>\n      <td>118800.0</td>\n      <td>&lt;1H OCEAN</td>\n      <td>2</td>\n    </tr>\n    <tr>\n      <th>17223</th>\n      <td>-119.72</td>\n      <td>34.44</td>\n      <td>43.0</td>\n      <td>1781.0</td>\n      <td>342.0</td>\n      <td>663.0</td>\n      <td>358.0</td>\n      <td>4.7000</td>\n      <td>293800.0</td>\n      <td>&lt;1H OCEAN</td>\n      <td>4</td>\n    </tr>\n    <tr>\n      <th>10786</th>\n      <td>-117.91</td>\n      <td>33.63</td>\n      <td>30.0</td>\n      <td>2071.0</td>\n      <td>412.0</td>\n      <td>1081.0</td>\n      <td>412.0</td>\n      <td>4.9125</td>\n      <td>335700.0</td>\n      <td>&lt;1H OCEAN</td>\n      <td>4</td>\n    </tr>\n    <tr>\n      <th>3965</th>\n      <td>-118.56</td>\n      <td>34.19</td>\n      <td>36.0</td>\n      <td>2600.0</td>\n      <td>441.0</td>\n      <td>1246.0</td>\n      <td>426.0</td>\n      <td>4.1111</td>\n      <td>215600.0</td>\n      <td>&lt;1H OCEAN</td>\n      <td>3</td>\n    </tr>\n  </tbody>\n</table>\n<p>4128 rows × 11 columns</p>\n</div>"
     },
     "execution_count": 7,
     "metadata": {},
     "output_type": "execute_result"
    }
   ],
   "source": [
    "strat_test_set"
   ]
  },
  {
   "cell_type": "code",
   "execution_count": 8,
   "id": "e79795db",
   "metadata": {
    "ExecuteTime": {
     "start_time": "2023-04-18T19:03:13.051249Z",
     "end_time": "2023-04-18T19:03:13.062399Z"
    }
   },
   "outputs": [],
   "source": [
    "for set_ in (strat_train_set, strat_test_set): \n",
    "    set_.drop (\"income_cat\", axis=1, inplace=True)"
   ]
  },
  {
   "cell_type": "code",
   "execution_count": 9,
   "id": "0ba74a87",
   "metadata": {
    "ExecuteTime": {
     "start_time": "2023-04-18T19:03:14.176063Z",
     "end_time": "2023-04-18T19:03:14.189915Z"
    }
   },
   "outputs": [],
   "source": [
    "housing = strat_train_set.drop(\"median_house_value\", axis = 1)\n",
    "housing_labels = strat_train_set[\"median_house_value\"].copy()"
   ]
  },
  {
   "cell_type": "code",
   "execution_count": 10,
   "id": "d9fff877",
   "metadata": {
    "ExecuteTime": {
     "start_time": "2023-04-18T19:03:14.992547Z",
     "end_time": "2023-04-18T19:03:15.002515Z"
    }
   },
   "outputs": [],
   "source": [
    "housing_num = housing.drop(\"ocean_proximity\", axis = 1)"
   ]
  },
  {
   "cell_type": "code",
   "execution_count": 11,
   "id": "d9cd0070",
   "metadata": {
    "ExecuteTime": {
     "start_time": "2023-04-18T19:03:15.611131Z",
     "end_time": "2023-04-18T19:03:15.639445Z"
    }
   },
   "outputs": [],
   "source": [
    "imputer = SimpleImputer(strategy = \"median\")\n",
    "imputer.fit(housing_num)\n",
    "X = imputer.transform(housing_num)"
   ]
  },
  {
   "cell_type": "code",
   "execution_count": 12,
   "id": "ea14c60a",
   "metadata": {
    "ExecuteTime": {
     "start_time": "2023-04-18T19:03:17.115668Z",
     "end_time": "2023-04-18T19:03:17.140377Z"
    }
   },
   "outputs": [
    {
     "name": "stdout",
     "output_type": "stream",
     "text": [
      "<class 'pandas.core.frame.DataFrame'>\n",
      "Int64Index: 16512 entries, 12655 to 19773\n",
      "Data columns (total 9 columns):\n",
      " #   Column              Non-Null Count  Dtype  \n",
      "---  ------              --------------  -----  \n",
      " 0   longitude           16512 non-null  float64\n",
      " 1   latitude            16512 non-null  float64\n",
      " 2   housing_median_age  16512 non-null  float64\n",
      " 3   total_rooms         16512 non-null  float64\n",
      " 4   total_bedrooms      16512 non-null  float64\n",
      " 5   population          16512 non-null  float64\n",
      " 6   households          16512 non-null  float64\n",
      " 7   median_income       16512 non-null  float64\n",
      " 8   ocean_proximity     16512 non-null  object \n",
      "dtypes: float64(8), object(1)\n",
      "memory usage: 1.3+ MB\n"
     ]
    }
   ],
   "source": [
    "median = housing[\"total_bedrooms\"].median()\n",
    "housing[\"total_bedrooms\"].fillna(median, inplace = True)\n",
    "housing.info()"
   ]
  },
  {
   "cell_type": "code",
   "execution_count": 13,
   "id": "bc5c547d",
   "metadata": {
    "ExecuteTime": {
     "start_time": "2023-04-18T19:03:18.812347Z",
     "end_time": "2023-04-18T19:03:18.829433Z"
    }
   },
   "outputs": [],
   "source": [
    "rooms_ix, bedrooms_ix, population_ix, households_ix = 3, 4, 5, 6\n",
    "\n",
    "class CombinedAttributesAdder(BaseEstimator, TransformerMixin):\n",
    "    def __init__(self, add_bedrooms_per_room=True): # no *args or **kargs\n",
    "        self.add_bedrooms_per_room = add_bedrooms_per_room\n",
    "    def fit(self, X, y=None):\n",
    "        return self  # nothing else to do\n",
    "    def transform(self, X):\n",
    "        rooms_per_household = X[:, rooms_ix] / X[:, households_ix]\n",
    "        population_per_household = X[:, population_ix] / X[:, households_ix]\n",
    "        if self.add_bedrooms_per_room:\n",
    "            bedrooms_per_room = X[:, bedrooms_ix] / X[:, rooms_ix]\n",
    "            return np.c_[X, rooms_per_household, population_per_household,\n",
    "                         bedrooms_per_room]\n",
    "        else:\n",
    "            return np.c_[X, rooms_per_household, population_per_household]\n",
    "\n",
    "attr_adder = CombinedAttributesAdder(add_bedrooms_per_room=False)\n",
    "housing_extra_attribs = attr_adder.transform(housing.values)"
   ]
  },
  {
   "cell_type": "code",
   "execution_count": 15,
   "outputs": [
    {
     "name": "stdout",
     "output_type": "stream",
     "text": [
      "<class 'pandas.core.frame.DataFrame'>\n",
      "Int64Index: 16512 entries, 12655 to 19773\n",
      "Data columns (total 9 columns):\n",
      " #   Column              Non-Null Count  Dtype  \n",
      "---  ------              --------------  -----  \n",
      " 0   longitude           16512 non-null  float64\n",
      " 1   latitude            16512 non-null  float64\n",
      " 2   housing_median_age  16512 non-null  float64\n",
      " 3   total_rooms         16512 non-null  float64\n",
      " 4   total_bedrooms      16512 non-null  float64\n",
      " 5   population          16512 non-null  float64\n",
      " 6   households          16512 non-null  float64\n",
      " 7   median_income       16512 non-null  float64\n",
      " 8   ocean_proximity     16512 non-null  object \n",
      "dtypes: float64(8), object(1)\n",
      "memory usage: 1.3+ MB\n"
     ]
    }
   ],
   "source": [
    "housing.info()"
   ],
   "metadata": {
    "collapsed": false,
    "ExecuteTime": {
     "start_time": "2023-04-18T19:03:43.255809Z",
     "end_time": "2023-04-18T19:03:43.267283Z"
    }
   }
  },
  {
   "cell_type": "code",
   "execution_count": 16,
   "id": "bdfbb6d7",
   "metadata": {
    "ExecuteTime": {
     "start_time": "2023-04-18T19:11:16.279644Z",
     "end_time": "2023-04-18T19:11:16.321495Z"
    }
   },
   "outputs": [],
   "source": [
    "\n",
    "num_pipeline = Pipeline ([\n",
    "    ('imputer', SimpleImputer(strategy=\"median\")),\n",
    "    ('attribs_adder', CombinedAttributesAdder()), \n",
    "    ('std_scaler', StandardScaler()),\n",
    "])\n",
    "\n",
    "num_attribs = list(housing_num) \n",
    "cat_attribs = [\"ocean_proximity\"]\n",
    "\n",
    "full_pipeline = ColumnTransformer([\n",
    "    (\"num\", num_pipeline, num_attribs),\n",
    "    (\"cat\", OneHotEncoder(), cat_attribs)\n",
    "])\n",
    "\n",
    "housing_prepared = full_pipeline.fit_transform(housing)"
   ]
  },
  {
   "cell_type": "code",
   "execution_count": 17,
   "id": "a21ec7b0",
   "metadata": {
    "ExecuteTime": {
     "start_time": "2023-04-18T19:11:19.583185Z",
     "end_time": "2023-04-18T19:11:19.598743Z"
    }
   },
   "outputs": [
    {
     "data": {
      "text/plain": "(16512, 16)"
     },
     "execution_count": 17,
     "metadata": {},
     "output_type": "execute_result"
    }
   ],
   "source": [
    "housing_prepared.shape"
   ]
  },
  {
   "cell_type": "code",
   "execution_count": 18,
   "id": "0083a8fe",
   "metadata": {
    "ExecuteTime": {
     "start_time": "2023-04-18T19:11:20.281555Z",
     "end_time": "2023-04-18T19:11:20.297087Z"
    }
   },
   "outputs": [
    {
     "data": {
      "text/plain": "(16512, 9)"
     },
     "execution_count": 18,
     "metadata": {},
     "output_type": "execute_result"
    }
   ],
   "source": [
    "housing.shape"
   ]
  },
  {
   "cell_type": "code",
   "execution_count": 19,
   "outputs": [
    {
     "data": {
      "text/plain": "array([[-0.94135046,  1.34743822,  0.02756357, ...,  0.        ,\n         0.        ,  0.        ],\n       [ 1.17178212, -1.19243966, -1.72201763, ...,  0.        ,\n         0.        ,  1.        ],\n       [ 0.26758118, -0.1259716 ,  1.22045984, ...,  0.        ,\n         0.        ,  0.        ],\n       ...,\n       [-1.5707942 ,  1.31001828,  1.53856552, ...,  0.        ,\n         0.        ,  0.        ],\n       [-1.56080303,  1.2492109 , -1.1653327 , ...,  0.        ,\n         0.        ,  0.        ],\n       [-1.28105026,  2.02567448, -0.13148926, ...,  0.        ,\n         0.        ,  0.        ]])"
     },
     "execution_count": 19,
     "metadata": {},
     "output_type": "execute_result"
    }
   ],
   "source": [
    "housing_prepared"
   ],
   "metadata": {
    "collapsed": false,
    "ExecuteTime": {
     "start_time": "2023-04-18T19:11:30.870212Z",
     "end_time": "2023-04-18T19:11:30.880211Z"
    }
   }
  },
  {
   "cell_type": "code",
   "execution_count": 20,
   "outputs": [
    {
     "data": {
      "text/plain": "12655     72100.0\n15502    279600.0\n2908      82700.0\n14053    112500.0\n20496    238300.0\n           ...   \n15174    268500.0\n12661     90400.0\n19263    140400.0\n19140    258100.0\n19773     62700.0\nName: median_house_value, Length: 16512, dtype: float64"
     },
     "execution_count": 20,
     "metadata": {},
     "output_type": "execute_result"
    }
   ],
   "source": [
    "housing_labels"
   ],
   "metadata": {
    "collapsed": false,
    "ExecuteTime": {
     "start_time": "2023-04-18T19:11:41.282722Z",
     "end_time": "2023-04-18T19:11:41.286991Z"
    }
   }
  },
  {
   "cell_type": "code",
   "execution_count": 15,
   "id": "ed273c82",
   "metadata": {},
   "outputs": [
    {
     "data": {
      "text/html": [
       "<style>#sk-container-id-1 {color: black;background-color: white;}#sk-container-id-1 pre{padding: 0;}#sk-container-id-1 div.sk-toggleable {background-color: white;}#sk-container-id-1 label.sk-toggleable__label {cursor: pointer;display: block;width: 100%;margin-bottom: 0;padding: 0.3em;box-sizing: border-box;text-align: center;}#sk-container-id-1 label.sk-toggleable__label-arrow:before {content: \"▸\";float: left;margin-right: 0.25em;color: #696969;}#sk-container-id-1 label.sk-toggleable__label-arrow:hover:before {color: black;}#sk-container-id-1 div.sk-estimator:hover label.sk-toggleable__label-arrow:before {color: black;}#sk-container-id-1 div.sk-toggleable__content {max-height: 0;max-width: 0;overflow: hidden;text-align: left;background-color: #f0f8ff;}#sk-container-id-1 div.sk-toggleable__content pre {margin: 0.2em;color: black;border-radius: 0.25em;background-color: #f0f8ff;}#sk-container-id-1 input.sk-toggleable__control:checked~div.sk-toggleable__content {max-height: 200px;max-width: 100%;overflow: auto;}#sk-container-id-1 input.sk-toggleable__control:checked~label.sk-toggleable__label-arrow:before {content: \"▾\";}#sk-container-id-1 div.sk-estimator input.sk-toggleable__control:checked~label.sk-toggleable__label {background-color: #d4ebff;}#sk-container-id-1 div.sk-label input.sk-toggleable__control:checked~label.sk-toggleable__label {background-color: #d4ebff;}#sk-container-id-1 input.sk-hidden--visually {border: 0;clip: rect(1px 1px 1px 1px);clip: rect(1px, 1px, 1px, 1px);height: 1px;margin: -1px;overflow: hidden;padding: 0;position: absolute;width: 1px;}#sk-container-id-1 div.sk-estimator {font-family: monospace;background-color: #f0f8ff;border: 1px dotted black;border-radius: 0.25em;box-sizing: border-box;margin-bottom: 0.5em;}#sk-container-id-1 div.sk-estimator:hover {background-color: #d4ebff;}#sk-container-id-1 div.sk-parallel-item::after {content: \"\";width: 100%;border-bottom: 1px solid gray;flex-grow: 1;}#sk-container-id-1 div.sk-label:hover label.sk-toggleable__label {background-color: #d4ebff;}#sk-container-id-1 div.sk-serial::before {content: \"\";position: absolute;border-left: 1px solid gray;box-sizing: border-box;top: 0;bottom: 0;left: 50%;z-index: 0;}#sk-container-id-1 div.sk-serial {display: flex;flex-direction: column;align-items: center;background-color: white;padding-right: 0.2em;padding-left: 0.2em;position: relative;}#sk-container-id-1 div.sk-item {position: relative;z-index: 1;}#sk-container-id-1 div.sk-parallel {display: flex;align-items: stretch;justify-content: center;background-color: white;position: relative;}#sk-container-id-1 div.sk-item::before, #sk-container-id-1 div.sk-parallel-item::before {content: \"\";position: absolute;border-left: 1px solid gray;box-sizing: border-box;top: 0;bottom: 0;left: 50%;z-index: -1;}#sk-container-id-1 div.sk-parallel-item {display: flex;flex-direction: column;z-index: 1;position: relative;background-color: white;}#sk-container-id-1 div.sk-parallel-item:first-child::after {align-self: flex-end;width: 50%;}#sk-container-id-1 div.sk-parallel-item:last-child::after {align-self: flex-start;width: 50%;}#sk-container-id-1 div.sk-parallel-item:only-child::after {width: 0;}#sk-container-id-1 div.sk-dashed-wrapped {border: 1px dashed gray;margin: 0 0.4em 0.5em 0.4em;box-sizing: border-box;padding-bottom: 0.4em;background-color: white;}#sk-container-id-1 div.sk-label label {font-family: monospace;font-weight: bold;display: inline-block;line-height: 1.2em;}#sk-container-id-1 div.sk-label-container {text-align: center;}#sk-container-id-1 div.sk-container {/* jupyter's `normalize.less` sets `[hidden] { display: none; }` but bootstrap.min.css set `[hidden] { display: none !important; }` so we also need the `!important` here to be able to override the default hidden behavior on the sphinx rendered scikit-learn.org. See: https://github.com/scikit-learn/scikit-learn/issues/21755 */display: inline-block !important;position: relative;}#sk-container-id-1 div.sk-text-repr-fallback {display: none;}</style><div id=\"sk-container-id-1\" class=\"sk-top-container\"><div class=\"sk-text-repr-fallback\"><pre>LinearRegression()</pre><b>In a Jupyter environment, please rerun this cell to show the HTML representation or trust the notebook. <br />On GitHub, the HTML representation is unable to render, please try loading this page with nbviewer.org.</b></div><div class=\"sk-container\" hidden><div class=\"sk-item\"><div class=\"sk-estimator sk-toggleable\"><input class=\"sk-toggleable__control sk-hidden--visually\" id=\"sk-estimator-id-1\" type=\"checkbox\" checked><label for=\"sk-estimator-id-1\" class=\"sk-toggleable__label sk-toggleable__label-arrow\">LinearRegression</label><div class=\"sk-toggleable__content\"><pre>LinearRegression()</pre></div></div></div></div></div>"
      ],
      "text/plain": [
       "LinearRegression()"
      ]
     },
     "execution_count": 15,
     "metadata": {},
     "output_type": "execute_result"
    }
   ],
   "source": [
    "from sklearn.linear_model import LinearRegression\n",
    "lin_reg = LinearRegression()\n",
    "lin_reg.fit(housing_prepared, housing_labels)"
   ]
  },
  {
   "cell_type": "code",
   "execution_count": 16,
   "id": "5b505a84",
   "metadata": {},
   "outputs": [
    {
     "name": "stdout",
     "output_type": "stream",
     "text": [
      "Predictions: [ 85657.90192014 305492.60737488 152056.46122456 186095.70946094\n",
      " 244550.67966089]\n"
     ]
    }
   ],
   "source": [
    "some_data = housing.iloc[:5]\n",
    "some_labels = housing_labels.iloc[:5]\n",
    "some_data_prepared = full_pipeline.transform(some_data)\n",
    "\n",
    "print(\"Predictions:\", lin_reg.predict(some_data_prepared))"
   ]
  },
  {
   "cell_type": "code",
   "execution_count": 17,
   "id": "32c4f590",
   "metadata": {},
   "outputs": [
    {
     "name": "stdout",
     "output_type": "stream",
     "text": [
      "Labels: [72100.0, 279600.0, 82700.0, 112500.0, 238300.0]\n"
     ]
    }
   ],
   "source": [
    "print(\"Labels:\", list(some_labels))"
   ]
  },
  {
   "cell_type": "code",
   "execution_count": 18,
   "id": "4b8c1430",
   "metadata": {},
   "outputs": [],
   "source": [
    "# some_data = housing.iloc[:2000]\n",
    "# some_labels = housing_labels.iloc[:2000]\n",
    "# X = imputer.transform(some_data.drop(\"ocean_proximity\", axis = 1))  \n",
    "# some_data_prepared = full_pipeline.fit_transform(some_data)\n",
    "# some_data_prepared.shape"
   ]
  },
  {
   "cell_type": "code",
   "execution_count": 19,
   "id": "9ae24b7c",
   "metadata": {},
   "outputs": [
    {
     "name": "stdout",
     "output_type": "stream",
     "text": [
      "Прогнозы:  [ 85657.90192014 305492.60737488 152056.46122456 186095.70946094\n",
      " 244550.67966089]\n",
      "Метки:  [72100.0, 279600.0, 82700.0, 112500.0, 238300.0]\n"
     ]
    }
   ],
   "source": [
    "print(\"Прогнозы: \", lin_reg.predict(some_data_prepared))\n",
    "print(\"Метки: \", list(some_labels))"
   ]
  },
  {
   "cell_type": "code",
   "execution_count": 20,
   "id": "00eb4f17",
   "metadata": {},
   "outputs": [
    {
     "data": {
      "text/plain": [
       "68627.87390018745"
      ]
     },
     "execution_count": 20,
     "metadata": {},
     "output_type": "execute_result"
    }
   ],
   "source": [
    "from sklearn.metrics import mean_squared_error\n",
    "housing_predictions = lin_reg.predict(housing_prepared)\n",
    "lin_mse = mean_squared_error(housing_labels, housing_predictions)\n",
    "lin_rmse = np.sqrt(lin_mse)\n",
    "lin_rmse"
   ]
  },
  {
   "cell_type": "code",
   "execution_count": 21,
   "id": "dc22af60",
   "metadata": {},
   "outputs": [
    {
     "data": {
      "text/html": [
       "<style>#sk-container-id-2 {color: black;background-color: white;}#sk-container-id-2 pre{padding: 0;}#sk-container-id-2 div.sk-toggleable {background-color: white;}#sk-container-id-2 label.sk-toggleable__label {cursor: pointer;display: block;width: 100%;margin-bottom: 0;padding: 0.3em;box-sizing: border-box;text-align: center;}#sk-container-id-2 label.sk-toggleable__label-arrow:before {content: \"▸\";float: left;margin-right: 0.25em;color: #696969;}#sk-container-id-2 label.sk-toggleable__label-arrow:hover:before {color: black;}#sk-container-id-2 div.sk-estimator:hover label.sk-toggleable__label-arrow:before {color: black;}#sk-container-id-2 div.sk-toggleable__content {max-height: 0;max-width: 0;overflow: hidden;text-align: left;background-color: #f0f8ff;}#sk-container-id-2 div.sk-toggleable__content pre {margin: 0.2em;color: black;border-radius: 0.25em;background-color: #f0f8ff;}#sk-container-id-2 input.sk-toggleable__control:checked~div.sk-toggleable__content {max-height: 200px;max-width: 100%;overflow: auto;}#sk-container-id-2 input.sk-toggleable__control:checked~label.sk-toggleable__label-arrow:before {content: \"▾\";}#sk-container-id-2 div.sk-estimator input.sk-toggleable__control:checked~label.sk-toggleable__label {background-color: #d4ebff;}#sk-container-id-2 div.sk-label input.sk-toggleable__control:checked~label.sk-toggleable__label {background-color: #d4ebff;}#sk-container-id-2 input.sk-hidden--visually {border: 0;clip: rect(1px 1px 1px 1px);clip: rect(1px, 1px, 1px, 1px);height: 1px;margin: -1px;overflow: hidden;padding: 0;position: absolute;width: 1px;}#sk-container-id-2 div.sk-estimator {font-family: monospace;background-color: #f0f8ff;border: 1px dotted black;border-radius: 0.25em;box-sizing: border-box;margin-bottom: 0.5em;}#sk-container-id-2 div.sk-estimator:hover {background-color: #d4ebff;}#sk-container-id-2 div.sk-parallel-item::after {content: \"\";width: 100%;border-bottom: 1px solid gray;flex-grow: 1;}#sk-container-id-2 div.sk-label:hover label.sk-toggleable__label {background-color: #d4ebff;}#sk-container-id-2 div.sk-serial::before {content: \"\";position: absolute;border-left: 1px solid gray;box-sizing: border-box;top: 0;bottom: 0;left: 50%;z-index: 0;}#sk-container-id-2 div.sk-serial {display: flex;flex-direction: column;align-items: center;background-color: white;padding-right: 0.2em;padding-left: 0.2em;position: relative;}#sk-container-id-2 div.sk-item {position: relative;z-index: 1;}#sk-container-id-2 div.sk-parallel {display: flex;align-items: stretch;justify-content: center;background-color: white;position: relative;}#sk-container-id-2 div.sk-item::before, #sk-container-id-2 div.sk-parallel-item::before {content: \"\";position: absolute;border-left: 1px solid gray;box-sizing: border-box;top: 0;bottom: 0;left: 50%;z-index: -1;}#sk-container-id-2 div.sk-parallel-item {display: flex;flex-direction: column;z-index: 1;position: relative;background-color: white;}#sk-container-id-2 div.sk-parallel-item:first-child::after {align-self: flex-end;width: 50%;}#sk-container-id-2 div.sk-parallel-item:last-child::after {align-self: flex-start;width: 50%;}#sk-container-id-2 div.sk-parallel-item:only-child::after {width: 0;}#sk-container-id-2 div.sk-dashed-wrapped {border: 1px dashed gray;margin: 0 0.4em 0.5em 0.4em;box-sizing: border-box;padding-bottom: 0.4em;background-color: white;}#sk-container-id-2 div.sk-label label {font-family: monospace;font-weight: bold;display: inline-block;line-height: 1.2em;}#sk-container-id-2 div.sk-label-container {text-align: center;}#sk-container-id-2 div.sk-container {/* jupyter's `normalize.less` sets `[hidden] { display: none; }` but bootstrap.min.css set `[hidden] { display: none !important; }` so we also need the `!important` here to be able to override the default hidden behavior on the sphinx rendered scikit-learn.org. See: https://github.com/scikit-learn/scikit-learn/issues/21755 */display: inline-block !important;position: relative;}#sk-container-id-2 div.sk-text-repr-fallback {display: none;}</style><div id=\"sk-container-id-2\" class=\"sk-top-container\"><div class=\"sk-text-repr-fallback\"><pre>DecisionTreeRegressor()</pre><b>In a Jupyter environment, please rerun this cell to show the HTML representation or trust the notebook. <br />On GitHub, the HTML representation is unable to render, please try loading this page with nbviewer.org.</b></div><div class=\"sk-container\" hidden><div class=\"sk-item\"><div class=\"sk-estimator sk-toggleable\"><input class=\"sk-toggleable__control sk-hidden--visually\" id=\"sk-estimator-id-2\" type=\"checkbox\" checked><label for=\"sk-estimator-id-2\" class=\"sk-toggleable__label sk-toggleable__label-arrow\">DecisionTreeRegressor</label><div class=\"sk-toggleable__content\"><pre>DecisionTreeRegressor()</pre></div></div></div></div></div>"
      ],
      "text/plain": [
       "DecisionTreeRegressor()"
      ]
     },
     "execution_count": 21,
     "metadata": {},
     "output_type": "execute_result"
    }
   ],
   "source": [
    "from sklearn.tree import DecisionTreeRegressor\n",
    "\n",
    "tree_reg = DecisionTreeRegressor()\n",
    "tree_reg.fit(housing_prepared, housing_labels)\n"
   ]
  },
  {
   "cell_type": "code",
   "execution_count": 22,
   "id": "9251c187",
   "metadata": {},
   "outputs": [
    {
     "data": {
      "text/plain": [
       "0.0"
      ]
     },
     "execution_count": 22,
     "metadata": {},
     "output_type": "execute_result"
    }
   ],
   "source": [
    "housing_predictions = tree_reg.predict(housing_prepared)\n",
    "tree_mse = mean_squared_error(housing_labels, housing_predictions)\n",
    "tree_rmse = np.sqrt(tree_mse)\n",
    "tree_rmse"
   ]
  },
  {
   "cell_type": "code",
   "execution_count": 23,
   "id": "7d059dd4",
   "metadata": {},
   "outputs": [],
   "source": [
    "from sklearn.model_selection import cross_val_score\n",
    "def display_scores(scores):\n",
    "    print(\"Суммы оценок: \", scores)\n",
    "    print(\"Среднее: \", scores.mean())\n",
    "    print(\"Стандартное отклонение: \", scores.std())"
   ]
  },
  {
   "cell_type": "code",
   "execution_count": 24,
   "id": "5600358a",
   "metadata": {},
   "outputs": [],
   "source": [
    "scores = cross_val_score(tree_reg, housing_prepared, housing_labels, scoring=\"neg_mean_squared_error\", cv = 10)\n",
    "tree_rmse_scores = np.sqrt(-scores)"
   ]
  },
  {
   "cell_type": "code",
   "execution_count": null,
   "id": "b8c2d5af",
   "metadata": {},
   "outputs": [],
   "source": []
  },
  {
   "cell_type": "code",
   "execution_count": 25,
   "id": "c199440d",
   "metadata": {},
   "outputs": [
    {
     "name": "stdout",
     "output_type": "stream",
     "text": [
      "Суммы оценок:  [72498.40673407 71368.42481157 69017.52383745 71758.34357316\n",
      " 72989.83574297 77980.52652629 73411.93208072 73934.39251723\n",
      " 68511.14001678 70376.96507811]\n",
      "Среднее:  72184.74909183549\n",
      "Стандартное отклонение:  2579.68644202766\n"
     ]
    }
   ],
   "source": [
    "display_scores(tree_rmse_scores)"
   ]
  },
  {
   "cell_type": "code",
   "execution_count": 26,
   "id": "7628d980",
   "metadata": {},
   "outputs": [],
   "source": [
    "lin_scores = cross_val_score(lin_reg, housing_prepared, housing_labels, scoring=\"neg_mean_squared_error\", cv = 10)\n",
    "lin_rmse_scores = np.sqrt(-lin_scores)"
   ]
  },
  {
   "cell_type": "code",
   "execution_count": 27,
   "id": "d2a56e88",
   "metadata": {},
   "outputs": [
    {
     "name": "stdout",
     "output_type": "stream",
     "text": [
      "Суммы оценок:  [71774.15825125 64114.99166359 67771.17124356 68627.7242824\n",
      " 66848.58938823 72527.24321966 74023.75820358 68800.50640085\n",
      " 66443.28836884 70147.43163952]\n",
      "Среднее:  69107.88626614638\n",
      "Стандартное отклонение:  2886.049299226037\n"
     ]
    }
   ],
   "source": [
    "display_scores(lin_rmse_scores)"
   ]
  },
  {
   "cell_type": "code",
   "execution_count": 28,
   "id": "bc72df48",
   "metadata": {},
   "outputs": [
    {
     "data": {
      "text/html": [
       "<style>#sk-container-id-3 {color: black;background-color: white;}#sk-container-id-3 pre{padding: 0;}#sk-container-id-3 div.sk-toggleable {background-color: white;}#sk-container-id-3 label.sk-toggleable__label {cursor: pointer;display: block;width: 100%;margin-bottom: 0;padding: 0.3em;box-sizing: border-box;text-align: center;}#sk-container-id-3 label.sk-toggleable__label-arrow:before {content: \"▸\";float: left;margin-right: 0.25em;color: #696969;}#sk-container-id-3 label.sk-toggleable__label-arrow:hover:before {color: black;}#sk-container-id-3 div.sk-estimator:hover label.sk-toggleable__label-arrow:before {color: black;}#sk-container-id-3 div.sk-toggleable__content {max-height: 0;max-width: 0;overflow: hidden;text-align: left;background-color: #f0f8ff;}#sk-container-id-3 div.sk-toggleable__content pre {margin: 0.2em;color: black;border-radius: 0.25em;background-color: #f0f8ff;}#sk-container-id-3 input.sk-toggleable__control:checked~div.sk-toggleable__content {max-height: 200px;max-width: 100%;overflow: auto;}#sk-container-id-3 input.sk-toggleable__control:checked~label.sk-toggleable__label-arrow:before {content: \"▾\";}#sk-container-id-3 div.sk-estimator input.sk-toggleable__control:checked~label.sk-toggleable__label {background-color: #d4ebff;}#sk-container-id-3 div.sk-label input.sk-toggleable__control:checked~label.sk-toggleable__label {background-color: #d4ebff;}#sk-container-id-3 input.sk-hidden--visually {border: 0;clip: rect(1px 1px 1px 1px);clip: rect(1px, 1px, 1px, 1px);height: 1px;margin: -1px;overflow: hidden;padding: 0;position: absolute;width: 1px;}#sk-container-id-3 div.sk-estimator {font-family: monospace;background-color: #f0f8ff;border: 1px dotted black;border-radius: 0.25em;box-sizing: border-box;margin-bottom: 0.5em;}#sk-container-id-3 div.sk-estimator:hover {background-color: #d4ebff;}#sk-container-id-3 div.sk-parallel-item::after {content: \"\";width: 100%;border-bottom: 1px solid gray;flex-grow: 1;}#sk-container-id-3 div.sk-label:hover label.sk-toggleable__label {background-color: #d4ebff;}#sk-container-id-3 div.sk-serial::before {content: \"\";position: absolute;border-left: 1px solid gray;box-sizing: border-box;top: 0;bottom: 0;left: 50%;z-index: 0;}#sk-container-id-3 div.sk-serial {display: flex;flex-direction: column;align-items: center;background-color: white;padding-right: 0.2em;padding-left: 0.2em;position: relative;}#sk-container-id-3 div.sk-item {position: relative;z-index: 1;}#sk-container-id-3 div.sk-parallel {display: flex;align-items: stretch;justify-content: center;background-color: white;position: relative;}#sk-container-id-3 div.sk-item::before, #sk-container-id-3 div.sk-parallel-item::before {content: \"\";position: absolute;border-left: 1px solid gray;box-sizing: border-box;top: 0;bottom: 0;left: 50%;z-index: -1;}#sk-container-id-3 div.sk-parallel-item {display: flex;flex-direction: column;z-index: 1;position: relative;background-color: white;}#sk-container-id-3 div.sk-parallel-item:first-child::after {align-self: flex-end;width: 50%;}#sk-container-id-3 div.sk-parallel-item:last-child::after {align-self: flex-start;width: 50%;}#sk-container-id-3 div.sk-parallel-item:only-child::after {width: 0;}#sk-container-id-3 div.sk-dashed-wrapped {border: 1px dashed gray;margin: 0 0.4em 0.5em 0.4em;box-sizing: border-box;padding-bottom: 0.4em;background-color: white;}#sk-container-id-3 div.sk-label label {font-family: monospace;font-weight: bold;display: inline-block;line-height: 1.2em;}#sk-container-id-3 div.sk-label-container {text-align: center;}#sk-container-id-3 div.sk-container {/* jupyter's `normalize.less` sets `[hidden] { display: none; }` but bootstrap.min.css set `[hidden] { display: none !important; }` so we also need the `!important` here to be able to override the default hidden behavior on the sphinx rendered scikit-learn.org. See: https://github.com/scikit-learn/scikit-learn/issues/21755 */display: inline-block !important;position: relative;}#sk-container-id-3 div.sk-text-repr-fallback {display: none;}</style><div id=\"sk-container-id-3\" class=\"sk-top-container\"><div class=\"sk-text-repr-fallback\"><pre>RandomForestRegressor()</pre><b>In a Jupyter environment, please rerun this cell to show the HTML representation or trust the notebook. <br />On GitHub, the HTML representation is unable to render, please try loading this page with nbviewer.org.</b></div><div class=\"sk-container\" hidden><div class=\"sk-item\"><div class=\"sk-estimator sk-toggleable\"><input class=\"sk-toggleable__control sk-hidden--visually\" id=\"sk-estimator-id-3\" type=\"checkbox\" checked><label for=\"sk-estimator-id-3\" class=\"sk-toggleable__label sk-toggleable__label-arrow\">RandomForestRegressor</label><div class=\"sk-toggleable__content\"><pre>RandomForestRegressor()</pre></div></div></div></div></div>"
      ],
      "text/plain": [
       "RandomForestRegressor()"
      ]
     },
     "execution_count": 28,
     "metadata": {},
     "output_type": "execute_result"
    }
   ],
   "source": [
    "from sklearn.ensemble import RandomForestRegressor\n",
    "forest_reg = RandomForestRegressor()\n",
    "forest_reg.fit(housing_prepared, housing_labels)"
   ]
  },
  {
   "cell_type": "code",
   "execution_count": 29,
   "id": "bfbc4b4e",
   "metadata": {},
   "outputs": [
    {
     "data": {
      "text/plain": [
       "18635.49384431948"
      ]
     },
     "execution_count": 29,
     "metadata": {},
     "output_type": "execute_result"
    }
   ],
   "source": [
    "housing_predictions = forest_reg.predict(housing_prepared)\n",
    "forest_mse = mean_squared_error(housing_labels, housing_predictions)\n",
    "forest_rmse = np.sqrt(forest_mse)\n",
    "forest_rmse"
   ]
  },
  {
   "cell_type": "code",
   "execution_count": 30,
   "id": "2f4d4d18",
   "metadata": {},
   "outputs": [],
   "source": [
    "forest_scores = cross_val_score(forest_reg, housing_prepared, housing_labels, scoring=\"neg_mean_squared_error\", cv = 10)\n",
    "forest_rmse_scores = np.sqrt(-forest_scores)"
   ]
  },
  {
   "cell_type": "code",
   "execution_count": 31,
   "id": "664abe53",
   "metadata": {},
   "outputs": [
    {
     "name": "stdout",
     "output_type": "stream",
     "text": [
      "Суммы оценок:  [51746.44867054 48988.25397702 46951.21976196 52384.07949388\n",
      " 47660.26645751 51624.3019513  52391.7790523  50069.11949599\n",
      " 48752.56867038 53845.87568672]\n",
      "Среднее:  50441.39132175971\n",
      "Стандартное отклонение:  2174.6099672354253\n"
     ]
    }
   ],
   "source": [
    "display_scores(forest_rmse_scores)"
   ]
  },
  {
   "cell_type": "code",
   "execution_count": 32,
   "id": "22e9027f",
   "metadata": {},
   "outputs": [
    {
     "data": {
      "text/plain": [
       "['forest_reg.pkl']"
      ]
     },
     "execution_count": 32,
     "metadata": {},
     "output_type": "execute_result"
    }
   ],
   "source": [
    "import joblib\n",
    "joblib.dump(forest_reg, \"forest_reg.pkl\")"
   ]
  },
  {
   "cell_type": "code",
   "execution_count": 33,
   "id": "552a883c",
   "metadata": {},
   "outputs": [
    {
     "data": {
      "text/html": [
       "<style>#sk-container-id-4 {color: black;background-color: white;}#sk-container-id-4 pre{padding: 0;}#sk-container-id-4 div.sk-toggleable {background-color: white;}#sk-container-id-4 label.sk-toggleable__label {cursor: pointer;display: block;width: 100%;margin-bottom: 0;padding: 0.3em;box-sizing: border-box;text-align: center;}#sk-container-id-4 label.sk-toggleable__label-arrow:before {content: \"▸\";float: left;margin-right: 0.25em;color: #696969;}#sk-container-id-4 label.sk-toggleable__label-arrow:hover:before {color: black;}#sk-container-id-4 div.sk-estimator:hover label.sk-toggleable__label-arrow:before {color: black;}#sk-container-id-4 div.sk-toggleable__content {max-height: 0;max-width: 0;overflow: hidden;text-align: left;background-color: #f0f8ff;}#sk-container-id-4 div.sk-toggleable__content pre {margin: 0.2em;color: black;border-radius: 0.25em;background-color: #f0f8ff;}#sk-container-id-4 input.sk-toggleable__control:checked~div.sk-toggleable__content {max-height: 200px;max-width: 100%;overflow: auto;}#sk-container-id-4 input.sk-toggleable__control:checked~label.sk-toggleable__label-arrow:before {content: \"▾\";}#sk-container-id-4 div.sk-estimator input.sk-toggleable__control:checked~label.sk-toggleable__label {background-color: #d4ebff;}#sk-container-id-4 div.sk-label input.sk-toggleable__control:checked~label.sk-toggleable__label {background-color: #d4ebff;}#sk-container-id-4 input.sk-hidden--visually {border: 0;clip: rect(1px 1px 1px 1px);clip: rect(1px, 1px, 1px, 1px);height: 1px;margin: -1px;overflow: hidden;padding: 0;position: absolute;width: 1px;}#sk-container-id-4 div.sk-estimator {font-family: monospace;background-color: #f0f8ff;border: 1px dotted black;border-radius: 0.25em;box-sizing: border-box;margin-bottom: 0.5em;}#sk-container-id-4 div.sk-estimator:hover {background-color: #d4ebff;}#sk-container-id-4 div.sk-parallel-item::after {content: \"\";width: 100%;border-bottom: 1px solid gray;flex-grow: 1;}#sk-container-id-4 div.sk-label:hover label.sk-toggleable__label {background-color: #d4ebff;}#sk-container-id-4 div.sk-serial::before {content: \"\";position: absolute;border-left: 1px solid gray;box-sizing: border-box;top: 0;bottom: 0;left: 50%;z-index: 0;}#sk-container-id-4 div.sk-serial {display: flex;flex-direction: column;align-items: center;background-color: white;padding-right: 0.2em;padding-left: 0.2em;position: relative;}#sk-container-id-4 div.sk-item {position: relative;z-index: 1;}#sk-container-id-4 div.sk-parallel {display: flex;align-items: stretch;justify-content: center;background-color: white;position: relative;}#sk-container-id-4 div.sk-item::before, #sk-container-id-4 div.sk-parallel-item::before {content: \"\";position: absolute;border-left: 1px solid gray;box-sizing: border-box;top: 0;bottom: 0;left: 50%;z-index: -1;}#sk-container-id-4 div.sk-parallel-item {display: flex;flex-direction: column;z-index: 1;position: relative;background-color: white;}#sk-container-id-4 div.sk-parallel-item:first-child::after {align-self: flex-end;width: 50%;}#sk-container-id-4 div.sk-parallel-item:last-child::after {align-self: flex-start;width: 50%;}#sk-container-id-4 div.sk-parallel-item:only-child::after {width: 0;}#sk-container-id-4 div.sk-dashed-wrapped {border: 1px dashed gray;margin: 0 0.4em 0.5em 0.4em;box-sizing: border-box;padding-bottom: 0.4em;background-color: white;}#sk-container-id-4 div.sk-label label {font-family: monospace;font-weight: bold;display: inline-block;line-height: 1.2em;}#sk-container-id-4 div.sk-label-container {text-align: center;}#sk-container-id-4 div.sk-container {/* jupyter's `normalize.less` sets `[hidden] { display: none; }` but bootstrap.min.css set `[hidden] { display: none !important; }` so we also need the `!important` here to be able to override the default hidden behavior on the sphinx rendered scikit-learn.org. See: https://github.com/scikit-learn/scikit-learn/issues/21755 */display: inline-block !important;position: relative;}#sk-container-id-4 div.sk-text-repr-fallback {display: none;}</style><div id=\"sk-container-id-4\" class=\"sk-top-container\"><div class=\"sk-text-repr-fallback\"><pre>GridSearchCV(cv=5, estimator=RandomForestRegressor(),\n",
       "             param_grid=[{&#x27;max_features&#x27;: [2, 4, 6, 8],\n",
       "                          &#x27;n_estimators&#x27;: [3, 10, 30]},\n",
       "                         {&#x27;bootstrap&#x27;: [False], &#x27;max_features&#x27;: [2, 3, 4],\n",
       "                          &#x27;n_estimators&#x27;: [3, 10]}],\n",
       "             return_train_score=True, scoring=&#x27;neg_mean_squared_error&#x27;)</pre><b>In a Jupyter environment, please rerun this cell to show the HTML representation or trust the notebook. <br />On GitHub, the HTML representation is unable to render, please try loading this page with nbviewer.org.</b></div><div class=\"sk-container\" hidden><div class=\"sk-item sk-dashed-wrapped\"><div class=\"sk-label-container\"><div class=\"sk-label sk-toggleable\"><input class=\"sk-toggleable__control sk-hidden--visually\" id=\"sk-estimator-id-4\" type=\"checkbox\" ><label for=\"sk-estimator-id-4\" class=\"sk-toggleable__label sk-toggleable__label-arrow\">GridSearchCV</label><div class=\"sk-toggleable__content\"><pre>GridSearchCV(cv=5, estimator=RandomForestRegressor(),\n",
       "             param_grid=[{&#x27;max_features&#x27;: [2, 4, 6, 8],\n",
       "                          &#x27;n_estimators&#x27;: [3, 10, 30]},\n",
       "                         {&#x27;bootstrap&#x27;: [False], &#x27;max_features&#x27;: [2, 3, 4],\n",
       "                          &#x27;n_estimators&#x27;: [3, 10]}],\n",
       "             return_train_score=True, scoring=&#x27;neg_mean_squared_error&#x27;)</pre></div></div></div><div class=\"sk-parallel\"><div class=\"sk-parallel-item\"><div class=\"sk-item\"><div class=\"sk-label-container\"><div class=\"sk-label sk-toggleable\"><input class=\"sk-toggleable__control sk-hidden--visually\" id=\"sk-estimator-id-5\" type=\"checkbox\" ><label for=\"sk-estimator-id-5\" class=\"sk-toggleable__label sk-toggleable__label-arrow\">estimator: RandomForestRegressor</label><div class=\"sk-toggleable__content\"><pre>RandomForestRegressor()</pre></div></div></div><div class=\"sk-serial\"><div class=\"sk-item\"><div class=\"sk-estimator sk-toggleable\"><input class=\"sk-toggleable__control sk-hidden--visually\" id=\"sk-estimator-id-6\" type=\"checkbox\" ><label for=\"sk-estimator-id-6\" class=\"sk-toggleable__label sk-toggleable__label-arrow\">RandomForestRegressor</label><div class=\"sk-toggleable__content\"><pre>RandomForestRegressor()</pre></div></div></div></div></div></div></div></div></div></div>"
      ],
      "text/plain": [
       "GridSearchCV(cv=5, estimator=RandomForestRegressor(),\n",
       "             param_grid=[{'max_features': [2, 4, 6, 8],\n",
       "                          'n_estimators': [3, 10, 30]},\n",
       "                         {'bootstrap': [False], 'max_features': [2, 3, 4],\n",
       "                          'n_estimators': [3, 10]}],\n",
       "             return_train_score=True, scoring='neg_mean_squared_error')"
      ]
     },
     "execution_count": 33,
     "metadata": {},
     "output_type": "execute_result"
    }
   ],
   "source": [
    "from sklearn.model_selection import GridSearchCV\n",
    "param_grid = [\n",
    "    {'n_estimators': [3, 10, 30], 'max_features': [2, 4, 6, 8]},\n",
    "    {'bootstrap': [False], 'n_estimators': [3,10], 'max_features': [2, 3, 4]},\n",
    "]\n",
    "\n",
    "forest_reg = RandomForestRegressor()\n",
    "grid_search = GridSearchCV(forest_reg, param_grid, cv = 5, scoring = 'neg_mean_squared_error', return_train_score=True)\n",
    "\n",
    "grid_search.fit(housing_prepared, housing_labels)"
   ]
  },
  {
   "cell_type": "code",
   "execution_count": 34,
   "id": "98be0ad1",
   "metadata": {},
   "outputs": [
    {
     "data": {
      "text/plain": [
       "{'max_features': 6, 'n_estimators': 30}"
      ]
     },
     "execution_count": 34,
     "metadata": {},
     "output_type": "execute_result"
    }
   ],
   "source": [
    "grid_search.best_params_"
   ]
  },
  {
   "cell_type": "code",
   "execution_count": 35,
   "id": "7d7f4ec6",
   "metadata": {},
   "outputs": [
    {
     "data": {
      "text/html": [
       "<style>#sk-container-id-5 {color: black;background-color: white;}#sk-container-id-5 pre{padding: 0;}#sk-container-id-5 div.sk-toggleable {background-color: white;}#sk-container-id-5 label.sk-toggleable__label {cursor: pointer;display: block;width: 100%;margin-bottom: 0;padding: 0.3em;box-sizing: border-box;text-align: center;}#sk-container-id-5 label.sk-toggleable__label-arrow:before {content: \"▸\";float: left;margin-right: 0.25em;color: #696969;}#sk-container-id-5 label.sk-toggleable__label-arrow:hover:before {color: black;}#sk-container-id-5 div.sk-estimator:hover label.sk-toggleable__label-arrow:before {color: black;}#sk-container-id-5 div.sk-toggleable__content {max-height: 0;max-width: 0;overflow: hidden;text-align: left;background-color: #f0f8ff;}#sk-container-id-5 div.sk-toggleable__content pre {margin: 0.2em;color: black;border-radius: 0.25em;background-color: #f0f8ff;}#sk-container-id-5 input.sk-toggleable__control:checked~div.sk-toggleable__content {max-height: 200px;max-width: 100%;overflow: auto;}#sk-container-id-5 input.sk-toggleable__control:checked~label.sk-toggleable__label-arrow:before {content: \"▾\";}#sk-container-id-5 div.sk-estimator input.sk-toggleable__control:checked~label.sk-toggleable__label {background-color: #d4ebff;}#sk-container-id-5 div.sk-label input.sk-toggleable__control:checked~label.sk-toggleable__label {background-color: #d4ebff;}#sk-container-id-5 input.sk-hidden--visually {border: 0;clip: rect(1px 1px 1px 1px);clip: rect(1px, 1px, 1px, 1px);height: 1px;margin: -1px;overflow: hidden;padding: 0;position: absolute;width: 1px;}#sk-container-id-5 div.sk-estimator {font-family: monospace;background-color: #f0f8ff;border: 1px dotted black;border-radius: 0.25em;box-sizing: border-box;margin-bottom: 0.5em;}#sk-container-id-5 div.sk-estimator:hover {background-color: #d4ebff;}#sk-container-id-5 div.sk-parallel-item::after {content: \"\";width: 100%;border-bottom: 1px solid gray;flex-grow: 1;}#sk-container-id-5 div.sk-label:hover label.sk-toggleable__label {background-color: #d4ebff;}#sk-container-id-5 div.sk-serial::before {content: \"\";position: absolute;border-left: 1px solid gray;box-sizing: border-box;top: 0;bottom: 0;left: 50%;z-index: 0;}#sk-container-id-5 div.sk-serial {display: flex;flex-direction: column;align-items: center;background-color: white;padding-right: 0.2em;padding-left: 0.2em;position: relative;}#sk-container-id-5 div.sk-item {position: relative;z-index: 1;}#sk-container-id-5 div.sk-parallel {display: flex;align-items: stretch;justify-content: center;background-color: white;position: relative;}#sk-container-id-5 div.sk-item::before, #sk-container-id-5 div.sk-parallel-item::before {content: \"\";position: absolute;border-left: 1px solid gray;box-sizing: border-box;top: 0;bottom: 0;left: 50%;z-index: -1;}#sk-container-id-5 div.sk-parallel-item {display: flex;flex-direction: column;z-index: 1;position: relative;background-color: white;}#sk-container-id-5 div.sk-parallel-item:first-child::after {align-self: flex-end;width: 50%;}#sk-container-id-5 div.sk-parallel-item:last-child::after {align-self: flex-start;width: 50%;}#sk-container-id-5 div.sk-parallel-item:only-child::after {width: 0;}#sk-container-id-5 div.sk-dashed-wrapped {border: 1px dashed gray;margin: 0 0.4em 0.5em 0.4em;box-sizing: border-box;padding-bottom: 0.4em;background-color: white;}#sk-container-id-5 div.sk-label label {font-family: monospace;font-weight: bold;display: inline-block;line-height: 1.2em;}#sk-container-id-5 div.sk-label-container {text-align: center;}#sk-container-id-5 div.sk-container {/* jupyter's `normalize.less` sets `[hidden] { display: none; }` but bootstrap.min.css set `[hidden] { display: none !important; }` so we also need the `!important` here to be able to override the default hidden behavior on the sphinx rendered scikit-learn.org. See: https://github.com/scikit-learn/scikit-learn/issues/21755 */display: inline-block !important;position: relative;}#sk-container-id-5 div.sk-text-repr-fallback {display: none;}</style><div id=\"sk-container-id-5\" class=\"sk-top-container\"><div class=\"sk-text-repr-fallback\"><pre>RandomForestRegressor(max_features=6, n_estimators=30)</pre><b>In a Jupyter environment, please rerun this cell to show the HTML representation or trust the notebook. <br />On GitHub, the HTML representation is unable to render, please try loading this page with nbviewer.org.</b></div><div class=\"sk-container\" hidden><div class=\"sk-item\"><div class=\"sk-estimator sk-toggleable\"><input class=\"sk-toggleable__control sk-hidden--visually\" id=\"sk-estimator-id-7\" type=\"checkbox\" checked><label for=\"sk-estimator-id-7\" class=\"sk-toggleable__label sk-toggleable__label-arrow\">RandomForestRegressor</label><div class=\"sk-toggleable__content\"><pre>RandomForestRegressor(max_features=6, n_estimators=30)</pre></div></div></div></div></div>"
      ],
      "text/plain": [
       "RandomForestRegressor(max_features=6, n_estimators=30)"
      ]
     },
     "execution_count": 35,
     "metadata": {},
     "output_type": "execute_result"
    }
   ],
   "source": [
    "grid_search.best_estimator_"
   ]
  },
  {
   "cell_type": "code",
   "execution_count": 36,
   "id": "f76e53f7",
   "metadata": {},
   "outputs": [
    {
     "name": "stdout",
     "output_type": "stream",
     "text": [
      "64068.174055057556 {'max_features': 2, 'n_estimators': 3}\n",
      "55565.49849467017 {'max_features': 2, 'n_estimators': 10}\n",
      "52642.46695617762 {'max_features': 2, 'n_estimators': 30}\n",
      "60284.84932615271 {'max_features': 4, 'n_estimators': 3}\n",
      "53142.30348416233 {'max_features': 4, 'n_estimators': 10}\n",
      "50513.81574885257 {'max_features': 4, 'n_estimators': 30}\n",
      "59704.513966039056 {'max_features': 6, 'n_estimators': 3}\n",
      "51729.88295862407 {'max_features': 6, 'n_estimators': 10}\n",
      "49744.957926800686 {'max_features': 6, 'n_estimators': 30}\n",
      "58599.77242617453 {'max_features': 8, 'n_estimators': 3}\n",
      "52580.70340567057 {'max_features': 8, 'n_estimators': 10}\n",
      "49863.11479771287 {'max_features': 8, 'n_estimators': 30}\n",
      "62633.47090480547 {'bootstrap': False, 'max_features': 2, 'n_estimators': 3}\n",
      "54421.047860778075 {'bootstrap': False, 'max_features': 2, 'n_estimators': 10}\n",
      "60082.58051508525 {'bootstrap': False, 'max_features': 3, 'n_estimators': 3}\n",
      "52368.00802669267 {'bootstrap': False, 'max_features': 3, 'n_estimators': 10}\n",
      "59029.15497018731 {'bootstrap': False, 'max_features': 4, 'n_estimators': 3}\n",
      "51655.897702031114 {'bootstrap': False, 'max_features': 4, 'n_estimators': 10}\n"
     ]
    }
   ],
   "source": [
    "cvrse = grid_search.cv_results_\n",
    "for mean_score, params in zip(cvrse[\"mean_test_score\"], cvrse[\"params\"]):\n",
    "    print(np.sqrt(-mean_score), params)"
   ]
  },
  {
   "cell_type": "code",
   "execution_count": 37,
   "id": "5f6115c0",
   "metadata": {},
   "outputs": [
    {
     "data": {
      "text/plain": [
       "array([7.43691622e-02, 6.67912215e-02, 4.36169665e-02, 1.77909281e-02,\n",
       "       1.67157464e-02, 1.71021882e-02, 1.57028828e-02, 3.33904550e-01,\n",
       "       5.22150948e-02, 1.08838828e-01, 8.78134409e-02, 1.16236579e-02,\n",
       "       1.45697206e-01, 1.00080618e-04, 2.68019258e-03, 5.03785408e-03])"
      ]
     },
     "execution_count": 37,
     "metadata": {},
     "output_type": "execute_result"
    }
   ],
   "source": [
    "feature_importances = grid_search.best_estimator_.feature_importances_\n",
    "feature_importances"
   ]
  },
  {
   "cell_type": "code",
   "execution_count": 38,
   "id": "03c978eb",
   "metadata": {},
   "outputs": [
    {
     "data": {
      "text/plain": [
       "[(0.3339045503919998, 'median_income'),\n",
       " (0.14569720550124174, 'INLAND'),\n",
       " (0.10883882755369981, 'pop_per_hhold'),\n",
       " (0.08781344090188153, 'bedroms_per_room'),\n",
       " (0.07436916219855068, 'longitude'),\n",
       " (0.0667912214853125, 'latitude'),\n",
       " (0.05221509481950784, 'rooms_per_hhold'),\n",
       " (0.04361696646049262, 'housing_median_age'),\n",
       " (0.017790928077070455, 'total_rooms'),\n",
       " (0.01710218823305605, 'population'),\n",
       " (0.016715746447962372, 'total_bedrooms'),\n",
       " (0.015702882767654344, 'households'),\n",
       " (0.011623657890922404, '<1H OCEAN'),\n",
       " (0.005037854077403172, 'NEAR OCEAN'),\n",
       " (0.0026801925756284504, 'NEAR BAY'),\n",
       " (0.00010008061761623913, 'ISLAND')]"
      ]
     },
     "execution_count": 38,
     "metadata": {},
     "output_type": "execute_result"
    }
   ],
   "source": [
    "extra_attribs = [\"rooms_per_hhold\", \"pop_per_hhold\", \"bedroms_per_room\"]\n",
    "cat_encoder = full_pipeline.named_transformers_[\"cat\"]\n",
    "cat_one_hot_attribs = list(cat_encoder.categories_[0])\n",
    "attributes = num_attribs + extra_attribs + cat_one_hot_attribs\n",
    "sorted(zip(feature_importances, attributes), reverse=True)"
   ]
  },
  {
   "cell_type": "code",
   "execution_count": 39,
   "id": "507cde73",
   "metadata": {},
   "outputs": [],
   "source": [
    "final_model = grid_search.best_estimator_\n",
    "\n",
    "X_test = strat_test_set.drop(\"median_house_value\", axis = 1)\n",
    "Y_test = strat_test_set[\"median_house_value\"].copy()\n",
    "X = imputer.transform(X_test.drop(\"ocean_proximity\", axis = 1))  \n",
    "X_test_prepared = full_pipeline.transform(X_test)"
   ]
  },
  {
   "cell_type": "code",
   "execution_count": 40,
   "id": "d05308e4",
   "metadata": {},
   "outputs": [],
   "source": [
    "final_predictions = final_model.predict(X_test_prepared)\n",
    "final_mse = mean_squared_error(Y_test, final_predictions)\n",
    "final_rmse = np.sqrt(final_mse)"
   ]
  },
  {
   "cell_type": "code",
   "execution_count": 41,
   "id": "230f0cd2",
   "metadata": {},
   "outputs": [
    {
     "data": {
      "text/plain": [
       "47525.38177645935"
      ]
     },
     "execution_count": 41,
     "metadata": {},
     "output_type": "execute_result"
    }
   ],
   "source": [
    "final_rmse"
   ]
  },
  {
   "cell_type": "code",
   "execution_count": 42,
   "id": "1d2a0d02",
   "metadata": {},
   "outputs": [
    {
     "data": {
      "text/plain": [
       "array([45549.96909811, 49421.89940864])"
      ]
     },
     "execution_count": 42,
     "metadata": {},
     "output_type": "execute_result"
    }
   ],
   "source": [
    "from scipy import stats\n",
    "confidence = 0.95\n",
    "squared_erors = (final_predictions - Y_test) ** 2\n",
    "np.sqrt(stats.t.interval(confidence, len(squared_erors) - 1, loc = squared_erors.mean(), scale = stats.sem(squared_erors)))\n"
   ]
  },
  {
   "cell_type": "code",
   "execution_count": 43,
   "id": "93b99126",
   "metadata": {},
   "outputs": [
    {
     "name": "stdout",
     "output_type": "stream",
     "text": [
      "Fitting 5 folds for each of 50 candidates, totalling 250 fits\n",
      "[CV] END ..............................C=10.0, kernel=linear; total time=   5.2s\n",
      "[CV] END ..............................C=10.0, kernel=linear; total time=   5.2s\n",
      "[CV] END ..............................C=10.0, kernel=linear; total time=   5.2s\n",
      "[CV] END ..............................C=10.0, kernel=linear; total time=   5.1s\n",
      "[CV] END ..............................C=10.0, kernel=linear; total time=   5.1s\n",
      "[CV] END ..............................C=30.0, kernel=linear; total time=   5.1s\n",
      "[CV] END ..............................C=30.0, kernel=linear; total time=   5.0s\n",
      "[CV] END ..............................C=30.0, kernel=linear; total time=   5.1s\n",
      "[CV] END ..............................C=30.0, kernel=linear; total time=   5.0s\n",
      "[CV] END ..............................C=30.0, kernel=linear; total time=   5.1s\n",
      "[CV] END .............................C=100.0, kernel=linear; total time=   5.0s\n",
      "[CV] END .............................C=100.0, kernel=linear; total time=   5.0s\n",
      "[CV] END .............................C=100.0, kernel=linear; total time=   5.0s\n",
      "[CV] END .............................C=100.0, kernel=linear; total time=   5.1s\n",
      "[CV] END .............................C=100.0, kernel=linear; total time=   5.1s\n",
      "[CV] END .............................C=300.0, kernel=linear; total time=   5.1s\n",
      "[CV] END .............................C=300.0, kernel=linear; total time=   5.0s\n",
      "[CV] END .............................C=300.0, kernel=linear; total time=   5.0s\n",
      "[CV] END .............................C=300.0, kernel=linear; total time=   5.1s\n",
      "[CV] END .............................C=300.0, kernel=linear; total time=   5.1s\n",
      "[CV] END ............................C=1000.0, kernel=linear; total time=   5.2s\n",
      "[CV] END ............................C=1000.0, kernel=linear; total time=   5.1s\n",
      "[CV] END ............................C=1000.0, kernel=linear; total time=   5.2s\n",
      "[CV] END ............................C=1000.0, kernel=linear; total time=   5.1s\n",
      "[CV] END ............................C=1000.0, kernel=linear; total time=   5.2s\n",
      "[CV] END ............................C=3000.0, kernel=linear; total time=   5.6s\n",
      "[CV] END ............................C=3000.0, kernel=linear; total time=   5.5s\n",
      "[CV] END ............................C=3000.0, kernel=linear; total time=   5.4s\n",
      "[CV] END ............................C=3000.0, kernel=linear; total time=   5.4s\n",
      "[CV] END ............................C=3000.0, kernel=linear; total time=   5.5s\n",
      "[CV] END ...........................C=10000.0, kernel=linear; total time=   6.6s\n",
      "[CV] END ...........................C=10000.0, kernel=linear; total time=   6.4s\n",
      "[CV] END ...........................C=10000.0, kernel=linear; total time=   6.3s\n",
      "[CV] END ...........................C=10000.0, kernel=linear; total time=   6.2s\n",
      "[CV] END ...........................C=10000.0, kernel=linear; total time=   6.6s\n",
      "[CV] END ...........................C=30000.0, kernel=linear; total time=   9.1s\n",
      "[CV] END ...........................C=30000.0, kernel=linear; total time=   8.5s\n",
      "[CV] END ...........................C=30000.0, kernel=linear; total time=   8.7s\n",
      "[CV] END ...........................C=30000.0, kernel=linear; total time=   8.7s\n",
      "[CV] END ...........................C=30000.0, kernel=linear; total time=   8.9s\n",
      "[CV] END ......................C=1.0, gamma=0.01, kernel=rbf; total time=  10.3s\n",
      "[CV] END ......................C=1.0, gamma=0.01, kernel=rbf; total time=  10.2s\n",
      "[CV] END ......................C=1.0, gamma=0.01, kernel=rbf; total time=  10.3s\n",
      "[CV] END ......................C=1.0, gamma=0.01, kernel=rbf; total time=  10.3s\n",
      "[CV] END ......................C=1.0, gamma=0.01, kernel=rbf; total time=  10.4s\n",
      "[CV] END ......................C=1.0, gamma=0.03, kernel=rbf; total time=  10.3s\n",
      "[CV] END ......................C=1.0, gamma=0.03, kernel=rbf; total time=  10.3s\n",
      "[CV] END ......................C=1.0, gamma=0.03, kernel=rbf; total time=  10.2s\n",
      "[CV] END ......................C=1.0, gamma=0.03, kernel=rbf; total time=  10.3s\n",
      "[CV] END ......................C=1.0, gamma=0.03, kernel=rbf; total time=  10.5s\n",
      "[CV] END .......................C=1.0, gamma=0.1, kernel=rbf; total time=  10.2s\n",
      "[CV] END .......................C=1.0, gamma=0.1, kernel=rbf; total time=  10.2s\n",
      "[CV] END .......................C=1.0, gamma=0.1, kernel=rbf; total time=  10.2s\n",
      "[CV] END .......................C=1.0, gamma=0.1, kernel=rbf; total time=  10.2s\n",
      "[CV] END .......................C=1.0, gamma=0.1, kernel=rbf; total time=  10.1s\n",
      "[CV] END .......................C=1.0, gamma=0.3, kernel=rbf; total time=   9.9s\n",
      "[CV] END .......................C=1.0, gamma=0.3, kernel=rbf; total time=  10.2s\n",
      "[CV] END .......................C=1.0, gamma=0.3, kernel=rbf; total time=  10.0s\n",
      "[CV] END .......................C=1.0, gamma=0.3, kernel=rbf; total time=   9.9s\n",
      "[CV] END .......................C=1.0, gamma=0.3, kernel=rbf; total time=  10.2s\n",
      "[CV] END .......................C=1.0, gamma=1.0, kernel=rbf; total time=   9.7s\n",
      "[CV] END .......................C=1.0, gamma=1.0, kernel=rbf; total time=   9.7s\n",
      "[CV] END .......................C=1.0, gamma=1.0, kernel=rbf; total time=   9.7s\n",
      "[CV] END .......................C=1.0, gamma=1.0, kernel=rbf; total time=   9.7s\n",
      "[CV] END .......................C=1.0, gamma=1.0, kernel=rbf; total time=   9.7s\n",
      "[CV] END .......................C=1.0, gamma=3.0, kernel=rbf; total time=   9.4s\n",
      "[CV] END .......................C=1.0, gamma=3.0, kernel=rbf; total time=   9.5s\n",
      "[CV] END .......................C=1.0, gamma=3.0, kernel=rbf; total time=   9.5s\n",
      "[CV] END .......................C=1.0, gamma=3.0, kernel=rbf; total time=   9.6s\n",
      "[CV] END .......................C=1.0, gamma=3.0, kernel=rbf; total time=   9.4s\n",
      "[CV] END ......................C=3.0, gamma=0.01, kernel=rbf; total time=  10.3s\n",
      "[CV] END ......................C=3.0, gamma=0.01, kernel=rbf; total time=  10.3s\n",
      "[CV] END ......................C=3.0, gamma=0.01, kernel=rbf; total time=  10.4s\n",
      "[CV] END ......................C=3.0, gamma=0.01, kernel=rbf; total time=  10.4s\n",
      "[CV] END ......................C=3.0, gamma=0.01, kernel=rbf; total time=  10.4s\n",
      "[CV] END ......................C=3.0, gamma=0.03, kernel=rbf; total time=  10.3s\n",
      "[CV] END ......................C=3.0, gamma=0.03, kernel=rbf; total time=  10.2s\n",
      "[CV] END ......................C=3.0, gamma=0.03, kernel=rbf; total time=  10.2s\n",
      "[CV] END ......................C=3.0, gamma=0.03, kernel=rbf; total time=  10.2s\n",
      "[CV] END ......................C=3.0, gamma=0.03, kernel=rbf; total time=  10.2s\n",
      "[CV] END .......................C=3.0, gamma=0.1, kernel=rbf; total time=  10.2s\n",
      "[CV] END .......................C=3.0, gamma=0.1, kernel=rbf; total time=  10.4s\n",
      "[CV] END .......................C=3.0, gamma=0.1, kernel=rbf; total time=  10.2s\n",
      "[CV] END .......................C=3.0, gamma=0.1, kernel=rbf; total time=  10.2s\n",
      "[CV] END .......................C=3.0, gamma=0.1, kernel=rbf; total time=  10.2s\n",
      "[CV] END .......................C=3.0, gamma=0.3, kernel=rbf; total time=  10.0s\n",
      "[CV] END .......................C=3.0, gamma=0.3, kernel=rbf; total time=  10.0s\n",
      "[CV] END .......................C=3.0, gamma=0.3, kernel=rbf; total time=   9.9s\n",
      "[CV] END .......................C=3.0, gamma=0.3, kernel=rbf; total time=  10.0s\n",
      "[CV] END .......................C=3.0, gamma=0.3, kernel=rbf; total time=  10.1s\n",
      "[CV] END .......................C=3.0, gamma=1.0, kernel=rbf; total time=   9.8s\n",
      "[CV] END .......................C=3.0, gamma=1.0, kernel=rbf; total time=   9.9s\n",
      "[CV] END .......................C=3.0, gamma=1.0, kernel=rbf; total time=   9.7s\n",
      "[CV] END .......................C=3.0, gamma=1.0, kernel=rbf; total time=   9.9s\n",
      "[CV] END .......................C=3.0, gamma=1.0, kernel=rbf; total time=   9.8s\n",
      "[CV] END .......................C=3.0, gamma=3.0, kernel=rbf; total time=   9.5s\n",
      "[CV] END .......................C=3.0, gamma=3.0, kernel=rbf; total time=   9.5s\n",
      "[CV] END .......................C=3.0, gamma=3.0, kernel=rbf; total time=   9.6s\n",
      "[CV] END .......................C=3.0, gamma=3.0, kernel=rbf; total time=   9.4s\n",
      "[CV] END .......................C=3.0, gamma=3.0, kernel=rbf; total time=   9.5s\n",
      "[CV] END .....................C=10.0, gamma=0.01, kernel=rbf; total time=  10.3s\n"
     ]
    },
    {
     "name": "stdout",
     "output_type": "stream",
     "text": [
      "[CV] END .....................C=10.0, gamma=0.01, kernel=rbf; total time=  10.3s\n",
      "[CV] END .....................C=10.0, gamma=0.01, kernel=rbf; total time=  10.7s\n",
      "[CV] END .....................C=10.0, gamma=0.01, kernel=rbf; total time=  10.4s\n",
      "[CV] END .....................C=10.0, gamma=0.01, kernel=rbf; total time=  10.3s\n",
      "[CV] END .....................C=10.0, gamma=0.03, kernel=rbf; total time=  10.3s\n",
      "[CV] END .....................C=10.0, gamma=0.03, kernel=rbf; total time=  10.3s\n",
      "[CV] END .....................C=10.0, gamma=0.03, kernel=rbf; total time=  10.3s\n",
      "[CV] END .....................C=10.0, gamma=0.03, kernel=rbf; total time=  10.2s\n",
      "[CV] END .....................C=10.0, gamma=0.03, kernel=rbf; total time=  10.2s\n",
      "[CV] END ......................C=10.0, gamma=0.1, kernel=rbf; total time=  10.2s\n",
      "[CV] END ......................C=10.0, gamma=0.1, kernel=rbf; total time=  10.2s\n",
      "[CV] END ......................C=10.0, gamma=0.1, kernel=rbf; total time=  10.2s\n",
      "[CV] END ......................C=10.0, gamma=0.1, kernel=rbf; total time=  10.2s\n",
      "[CV] END ......................C=10.0, gamma=0.1, kernel=rbf; total time=  10.2s\n",
      "[CV] END ......................C=10.0, gamma=0.3, kernel=rbf; total time=  10.0s\n",
      "[CV] END ......................C=10.0, gamma=0.3, kernel=rbf; total time=  10.1s\n",
      "[CV] END ......................C=10.0, gamma=0.3, kernel=rbf; total time=  10.0s\n",
      "[CV] END ......................C=10.0, gamma=0.3, kernel=rbf; total time=  10.0s\n",
      "[CV] END ......................C=10.0, gamma=0.3, kernel=rbf; total time=   9.9s\n",
      "[CV] END ......................C=10.0, gamma=1.0, kernel=rbf; total time=   9.6s\n",
      "[CV] END ......................C=10.0, gamma=1.0, kernel=rbf; total time=   9.6s\n",
      "[CV] END ......................C=10.0, gamma=1.0, kernel=rbf; total time=   9.6s\n",
      "[CV] END ......................C=10.0, gamma=1.0, kernel=rbf; total time=   9.6s\n",
      "[CV] END ......................C=10.0, gamma=1.0, kernel=rbf; total time=   9.6s\n",
      "[CV] END ......................C=10.0, gamma=3.0, kernel=rbf; total time=   9.4s\n",
      "[CV] END ......................C=10.0, gamma=3.0, kernel=rbf; total time=   9.4s\n",
      "[CV] END ......................C=10.0, gamma=3.0, kernel=rbf; total time=   9.4s\n",
      "[CV] END ......................C=10.0, gamma=3.0, kernel=rbf; total time=   9.5s\n",
      "[CV] END ......................C=10.0, gamma=3.0, kernel=rbf; total time=   9.4s\n",
      "[CV] END .....................C=30.0, gamma=0.01, kernel=rbf; total time=  10.2s\n",
      "[CV] END .....................C=30.0, gamma=0.01, kernel=rbf; total time=  10.2s\n",
      "[CV] END .....................C=30.0, gamma=0.01, kernel=rbf; total time=  10.2s\n",
      "[CV] END .....................C=30.0, gamma=0.01, kernel=rbf; total time=  10.4s\n",
      "[CV] END .....................C=30.0, gamma=0.01, kernel=rbf; total time=  10.3s\n",
      "[CV] END .....................C=30.0, gamma=0.03, kernel=rbf; total time=  10.1s\n",
      "[CV] END .....................C=30.0, gamma=0.03, kernel=rbf; total time=  10.1s\n",
      "[CV] END .....................C=30.0, gamma=0.03, kernel=rbf; total time=  10.1s\n",
      "[CV] END .....................C=30.0, gamma=0.03, kernel=rbf; total time=  10.3s\n",
      "[CV] END .....................C=30.0, gamma=0.03, kernel=rbf; total time=  10.3s\n",
      "[CV] END ......................C=30.0, gamma=0.1, kernel=rbf; total time=  10.2s\n",
      "[CV] END ......................C=30.0, gamma=0.1, kernel=rbf; total time=  10.1s\n",
      "[CV] END ......................C=30.0, gamma=0.1, kernel=rbf; total time=  10.2s\n",
      "[CV] END ......................C=30.0, gamma=0.1, kernel=rbf; total time=  10.2s\n",
      "[CV] END ......................C=30.0, gamma=0.1, kernel=rbf; total time=  10.2s\n",
      "[CV] END ......................C=30.0, gamma=0.3, kernel=rbf; total time=  10.1s\n",
      "[CV] END ......................C=30.0, gamma=0.3, kernel=rbf; total time=  10.0s\n",
      "[CV] END ......................C=30.0, gamma=0.3, kernel=rbf; total time=  10.1s\n",
      "[CV] END ......................C=30.0, gamma=0.3, kernel=rbf; total time=  10.2s\n",
      "[CV] END ......................C=30.0, gamma=0.3, kernel=rbf; total time=  10.1s\n",
      "[CV] END ......................C=30.0, gamma=1.0, kernel=rbf; total time=   9.9s\n",
      "[CV] END ......................C=30.0, gamma=1.0, kernel=rbf; total time=   9.7s\n",
      "[CV] END ......................C=30.0, gamma=1.0, kernel=rbf; total time=   9.7s\n",
      "[CV] END ......................C=30.0, gamma=1.0, kernel=rbf; total time=   9.7s\n",
      "[CV] END ......................C=30.0, gamma=1.0, kernel=rbf; total time=   9.7s\n",
      "[CV] END ......................C=30.0, gamma=3.0, kernel=rbf; total time=   9.5s\n",
      "[CV] END ......................C=30.0, gamma=3.0, kernel=rbf; total time=   9.5s\n",
      "[CV] END ......................C=30.0, gamma=3.0, kernel=rbf; total time=   9.5s\n",
      "[CV] END ......................C=30.0, gamma=3.0, kernel=rbf; total time=   9.5s\n",
      "[CV] END ......................C=30.0, gamma=3.0, kernel=rbf; total time=   9.5s\n",
      "[CV] END ....................C=100.0, gamma=0.01, kernel=rbf; total time=  10.3s\n",
      "[CV] END ....................C=100.0, gamma=0.01, kernel=rbf; total time=  10.3s\n",
      "[CV] END ....................C=100.0, gamma=0.01, kernel=rbf; total time=  10.2s\n",
      "[CV] END ....................C=100.0, gamma=0.01, kernel=rbf; total time=  10.3s\n",
      "[CV] END ....................C=100.0, gamma=0.01, kernel=rbf; total time=  10.2s\n",
      "[CV] END ....................C=100.0, gamma=0.03, kernel=rbf; total time=  10.2s\n",
      "[CV] END ....................C=100.0, gamma=0.03, kernel=rbf; total time=  10.2s\n",
      "[CV] END ....................C=100.0, gamma=0.03, kernel=rbf; total time=  10.1s\n",
      "[CV] END ....................C=100.0, gamma=0.03, kernel=rbf; total time=  10.1s\n",
      "[CV] END ....................C=100.0, gamma=0.03, kernel=rbf; total time=  10.1s\n",
      "[CV] END .....................C=100.0, gamma=0.1, kernel=rbf; total time=  10.1s\n",
      "[CV] END .....................C=100.0, gamma=0.1, kernel=rbf; total time=  10.1s\n",
      "[CV] END .....................C=100.0, gamma=0.1, kernel=rbf; total time=  10.0s\n",
      "[CV] END .....................C=100.0, gamma=0.1, kernel=rbf; total time=  10.0s\n",
      "[CV] END .....................C=100.0, gamma=0.1, kernel=rbf; total time=  10.0s\n",
      "[CV] END .....................C=100.0, gamma=0.3, kernel=rbf; total time=   9.8s\n",
      "[CV] END .....................C=100.0, gamma=0.3, kernel=rbf; total time=   9.8s\n",
      "[CV] END .....................C=100.0, gamma=0.3, kernel=rbf; total time=   9.9s\n",
      "[CV] END .....................C=100.0, gamma=0.3, kernel=rbf; total time=   9.8s\n",
      "[CV] END .....................C=100.0, gamma=0.3, kernel=rbf; total time=   9.8s\n",
      "[CV] END .....................C=100.0, gamma=1.0, kernel=rbf; total time=   9.6s\n",
      "[CV] END .....................C=100.0, gamma=1.0, kernel=rbf; total time=   9.7s\n",
      "[CV] END .....................C=100.0, gamma=1.0, kernel=rbf; total time=   9.6s\n",
      "[CV] END .....................C=100.0, gamma=1.0, kernel=rbf; total time=   9.6s\n",
      "[CV] END .....................C=100.0, gamma=1.0, kernel=rbf; total time=   9.7s\n",
      "[CV] END .....................C=100.0, gamma=3.0, kernel=rbf; total time=   9.6s\n",
      "[CV] END .....................C=100.0, gamma=3.0, kernel=rbf; total time=   9.7s\n",
      "[CV] END .....................C=100.0, gamma=3.0, kernel=rbf; total time=   9.9s\n",
      "[CV] END .....................C=100.0, gamma=3.0, kernel=rbf; total time=   9.5s\n",
      "[CV] END .....................C=100.0, gamma=3.0, kernel=rbf; total time=   9.5s\n",
      "[CV] END ....................C=300.0, gamma=0.01, kernel=rbf; total time=  10.1s\n",
      "[CV] END ....................C=300.0, gamma=0.01, kernel=rbf; total time=  10.1s\n",
      "[CV] END ....................C=300.0, gamma=0.01, kernel=rbf; total time=  10.1s\n",
      "[CV] END ....................C=300.0, gamma=0.01, kernel=rbf; total time=  10.2s\n",
      "[CV] END ....................C=300.0, gamma=0.01, kernel=rbf; total time=  10.2s\n",
      "[CV] END ....................C=300.0, gamma=0.03, kernel=rbf; total time=   9.9s\n",
      "[CV] END ....................C=300.0, gamma=0.03, kernel=rbf; total time=  10.0s\n",
      "[CV] END ....................C=300.0, gamma=0.03, kernel=rbf; total time=  10.0s\n",
      "[CV] END ....................C=300.0, gamma=0.03, kernel=rbf; total time=  10.2s\n",
      "[CV] END ....................C=300.0, gamma=0.03, kernel=rbf; total time=  10.1s\n",
      "[CV] END .....................C=300.0, gamma=0.1, kernel=rbf; total time=  10.1s\n",
      "[CV] END .....................C=300.0, gamma=0.1, kernel=rbf; total time=  10.0s\n",
      "[CV] END .....................C=300.0, gamma=0.1, kernel=rbf; total time=  10.0s\n"
     ]
    },
    {
     "name": "stdout",
     "output_type": "stream",
     "text": [
      "[CV] END .....................C=300.0, gamma=0.1, kernel=rbf; total time=  10.0s\n",
      "[CV] END .....................C=300.0, gamma=0.1, kernel=rbf; total time=  10.0s\n",
      "[CV] END .....................C=300.0, gamma=0.3, kernel=rbf; total time=   9.9s\n",
      "[CV] END .....................C=300.0, gamma=0.3, kernel=rbf; total time=   9.9s\n",
      "[CV] END .....................C=300.0, gamma=0.3, kernel=rbf; total time=  10.0s\n",
      "[CV] END .....................C=300.0, gamma=0.3, kernel=rbf; total time=   9.9s\n",
      "[CV] END .....................C=300.0, gamma=0.3, kernel=rbf; total time=   9.9s\n",
      "[CV] END .....................C=300.0, gamma=1.0, kernel=rbf; total time=   9.8s\n",
      "[CV] END .....................C=300.0, gamma=1.0, kernel=rbf; total time=   9.7s\n",
      "[CV] END .....................C=300.0, gamma=1.0, kernel=rbf; total time=   9.7s\n",
      "[CV] END .....................C=300.0, gamma=1.0, kernel=rbf; total time=   9.7s\n",
      "[CV] END .....................C=300.0, gamma=1.0, kernel=rbf; total time=   9.7s\n",
      "[CV] END .....................C=300.0, gamma=3.0, kernel=rbf; total time=   9.6s\n",
      "[CV] END .....................C=300.0, gamma=3.0, kernel=rbf; total time=   9.6s\n",
      "[CV] END .....................C=300.0, gamma=3.0, kernel=rbf; total time=   9.7s\n",
      "[CV] END .....................C=300.0, gamma=3.0, kernel=rbf; total time=   9.6s\n",
      "[CV] END .....................C=300.0, gamma=3.0, kernel=rbf; total time=   9.6s\n",
      "[CV] END ...................C=1000.0, gamma=0.01, kernel=rbf; total time=  10.0s\n",
      "[CV] END ...................C=1000.0, gamma=0.01, kernel=rbf; total time=  10.0s\n",
      "[CV] END ...................C=1000.0, gamma=0.01, kernel=rbf; total time=  10.0s\n",
      "[CV] END ...................C=1000.0, gamma=0.01, kernel=rbf; total time=  10.0s\n",
      "[CV] END ...................C=1000.0, gamma=0.01, kernel=rbf; total time=  10.0s\n",
      "[CV] END ...................C=1000.0, gamma=0.03, kernel=rbf; total time=   9.9s\n",
      "[CV] END ...................C=1000.0, gamma=0.03, kernel=rbf; total time=   9.9s\n",
      "[CV] END ...................C=1000.0, gamma=0.03, kernel=rbf; total time=   9.9s\n",
      "[CV] END ...................C=1000.0, gamma=0.03, kernel=rbf; total time=   9.9s\n",
      "[CV] END ...................C=1000.0, gamma=0.03, kernel=rbf; total time=  10.1s\n",
      "[CV] END ....................C=1000.0, gamma=0.1, kernel=rbf; total time=   9.9s\n",
      "[CV] END ....................C=1000.0, gamma=0.1, kernel=rbf; total time=   9.8s\n",
      "[CV] END ....................C=1000.0, gamma=0.1, kernel=rbf; total time=   9.8s\n",
      "[CV] END ....................C=1000.0, gamma=0.1, kernel=rbf; total time=   9.8s\n",
      "[CV] END ....................C=1000.0, gamma=0.1, kernel=rbf; total time=   9.8s\n",
      "[CV] END ....................C=1000.0, gamma=0.3, kernel=rbf; total time=   9.8s\n",
      "[CV] END ....................C=1000.0, gamma=0.3, kernel=rbf; total time=   9.8s\n",
      "[CV] END ....................C=1000.0, gamma=0.3, kernel=rbf; total time=   9.8s\n",
      "[CV] END ....................C=1000.0, gamma=0.3, kernel=rbf; total time=   9.9s\n",
      "[CV] END ....................C=1000.0, gamma=0.3, kernel=rbf; total time=  10.0s\n",
      "[CV] END ....................C=1000.0, gamma=1.0, kernel=rbf; total time=   9.6s\n",
      "[CV] END ....................C=1000.0, gamma=1.0, kernel=rbf; total time=   9.8s\n",
      "[CV] END ....................C=1000.0, gamma=1.0, kernel=rbf; total time=   9.6s\n",
      "[CV] END ....................C=1000.0, gamma=1.0, kernel=rbf; total time=   9.8s\n",
      "[CV] END ....................C=1000.0, gamma=1.0, kernel=rbf; total time=   9.7s\n",
      "[CV] END ....................C=1000.0, gamma=3.0, kernel=rbf; total time=   9.5s\n",
      "[CV] END ....................C=1000.0, gamma=3.0, kernel=rbf; total time=   9.5s\n",
      "[CV] END ....................C=1000.0, gamma=3.0, kernel=rbf; total time=   9.5s\n",
      "[CV] END ....................C=1000.0, gamma=3.0, kernel=rbf; total time=   9.5s\n",
      "[CV] END ....................C=1000.0, gamma=3.0, kernel=rbf; total time=   9.5s\n"
     ]
    },
    {
     "data": {
      "text/html": [
       "<style>#sk-container-id-6 {color: black;background-color: white;}#sk-container-id-6 pre{padding: 0;}#sk-container-id-6 div.sk-toggleable {background-color: white;}#sk-container-id-6 label.sk-toggleable__label {cursor: pointer;display: block;width: 100%;margin-bottom: 0;padding: 0.3em;box-sizing: border-box;text-align: center;}#sk-container-id-6 label.sk-toggleable__label-arrow:before {content: \"▸\";float: left;margin-right: 0.25em;color: #696969;}#sk-container-id-6 label.sk-toggleable__label-arrow:hover:before {color: black;}#sk-container-id-6 div.sk-estimator:hover label.sk-toggleable__label-arrow:before {color: black;}#sk-container-id-6 div.sk-toggleable__content {max-height: 0;max-width: 0;overflow: hidden;text-align: left;background-color: #f0f8ff;}#sk-container-id-6 div.sk-toggleable__content pre {margin: 0.2em;color: black;border-radius: 0.25em;background-color: #f0f8ff;}#sk-container-id-6 input.sk-toggleable__control:checked~div.sk-toggleable__content {max-height: 200px;max-width: 100%;overflow: auto;}#sk-container-id-6 input.sk-toggleable__control:checked~label.sk-toggleable__label-arrow:before {content: \"▾\";}#sk-container-id-6 div.sk-estimator input.sk-toggleable__control:checked~label.sk-toggleable__label {background-color: #d4ebff;}#sk-container-id-6 div.sk-label input.sk-toggleable__control:checked~label.sk-toggleable__label {background-color: #d4ebff;}#sk-container-id-6 input.sk-hidden--visually {border: 0;clip: rect(1px 1px 1px 1px);clip: rect(1px, 1px, 1px, 1px);height: 1px;margin: -1px;overflow: hidden;padding: 0;position: absolute;width: 1px;}#sk-container-id-6 div.sk-estimator {font-family: monospace;background-color: #f0f8ff;border: 1px dotted black;border-radius: 0.25em;box-sizing: border-box;margin-bottom: 0.5em;}#sk-container-id-6 div.sk-estimator:hover {background-color: #d4ebff;}#sk-container-id-6 div.sk-parallel-item::after {content: \"\";width: 100%;border-bottom: 1px solid gray;flex-grow: 1;}#sk-container-id-6 div.sk-label:hover label.sk-toggleable__label {background-color: #d4ebff;}#sk-container-id-6 div.sk-serial::before {content: \"\";position: absolute;border-left: 1px solid gray;box-sizing: border-box;top: 0;bottom: 0;left: 50%;z-index: 0;}#sk-container-id-6 div.sk-serial {display: flex;flex-direction: column;align-items: center;background-color: white;padding-right: 0.2em;padding-left: 0.2em;position: relative;}#sk-container-id-6 div.sk-item {position: relative;z-index: 1;}#sk-container-id-6 div.sk-parallel {display: flex;align-items: stretch;justify-content: center;background-color: white;position: relative;}#sk-container-id-6 div.sk-item::before, #sk-container-id-6 div.sk-parallel-item::before {content: \"\";position: absolute;border-left: 1px solid gray;box-sizing: border-box;top: 0;bottom: 0;left: 50%;z-index: -1;}#sk-container-id-6 div.sk-parallel-item {display: flex;flex-direction: column;z-index: 1;position: relative;background-color: white;}#sk-container-id-6 div.sk-parallel-item:first-child::after {align-self: flex-end;width: 50%;}#sk-container-id-6 div.sk-parallel-item:last-child::after {align-self: flex-start;width: 50%;}#sk-container-id-6 div.sk-parallel-item:only-child::after {width: 0;}#sk-container-id-6 div.sk-dashed-wrapped {border: 1px dashed gray;margin: 0 0.4em 0.5em 0.4em;box-sizing: border-box;padding-bottom: 0.4em;background-color: white;}#sk-container-id-6 div.sk-label label {font-family: monospace;font-weight: bold;display: inline-block;line-height: 1.2em;}#sk-container-id-6 div.sk-label-container {text-align: center;}#sk-container-id-6 div.sk-container {/* jupyter's `normalize.less` sets `[hidden] { display: none; }` but bootstrap.min.css set `[hidden] { display: none !important; }` so we also need the `!important` here to be able to override the default hidden behavior on the sphinx rendered scikit-learn.org. See: https://github.com/scikit-learn/scikit-learn/issues/21755 */display: inline-block !important;position: relative;}#sk-container-id-6 div.sk-text-repr-fallback {display: none;}</style><div id=\"sk-container-id-6\" class=\"sk-top-container\"><div class=\"sk-text-repr-fallback\"><pre>GridSearchCV(cv=5, estimator=SVR(),\n",
       "             param_grid=[{&#x27;C&#x27;: [10.0, 30.0, 100.0, 300.0, 1000.0, 3000.0,\n",
       "                                10000.0, 30000.0],\n",
       "                          &#x27;kernel&#x27;: [&#x27;linear&#x27;]},\n",
       "                         {&#x27;C&#x27;: [1.0, 3.0, 10.0, 30.0, 100.0, 300.0, 1000.0],\n",
       "                          &#x27;gamma&#x27;: [0.01, 0.03, 0.1, 0.3, 1.0, 3.0],\n",
       "                          &#x27;kernel&#x27;: [&#x27;rbf&#x27;]}],\n",
       "             scoring=&#x27;neg_mean_squared_error&#x27;, verbose=2)</pre><b>In a Jupyter environment, please rerun this cell to show the HTML representation or trust the notebook. <br />On GitHub, the HTML representation is unable to render, please try loading this page with nbviewer.org.</b></div><div class=\"sk-container\" hidden><div class=\"sk-item sk-dashed-wrapped\"><div class=\"sk-label-container\"><div class=\"sk-label sk-toggleable\"><input class=\"sk-toggleable__control sk-hidden--visually\" id=\"sk-estimator-id-8\" type=\"checkbox\" ><label for=\"sk-estimator-id-8\" class=\"sk-toggleable__label sk-toggleable__label-arrow\">GridSearchCV</label><div class=\"sk-toggleable__content\"><pre>GridSearchCV(cv=5, estimator=SVR(),\n",
       "             param_grid=[{&#x27;C&#x27;: [10.0, 30.0, 100.0, 300.0, 1000.0, 3000.0,\n",
       "                                10000.0, 30000.0],\n",
       "                          &#x27;kernel&#x27;: [&#x27;linear&#x27;]},\n",
       "                         {&#x27;C&#x27;: [1.0, 3.0, 10.0, 30.0, 100.0, 300.0, 1000.0],\n",
       "                          &#x27;gamma&#x27;: [0.01, 0.03, 0.1, 0.3, 1.0, 3.0],\n",
       "                          &#x27;kernel&#x27;: [&#x27;rbf&#x27;]}],\n",
       "             scoring=&#x27;neg_mean_squared_error&#x27;, verbose=2)</pre></div></div></div><div class=\"sk-parallel\"><div class=\"sk-parallel-item\"><div class=\"sk-item\"><div class=\"sk-label-container\"><div class=\"sk-label sk-toggleable\"><input class=\"sk-toggleable__control sk-hidden--visually\" id=\"sk-estimator-id-9\" type=\"checkbox\" ><label for=\"sk-estimator-id-9\" class=\"sk-toggleable__label sk-toggleable__label-arrow\">estimator: SVR</label><div class=\"sk-toggleable__content\"><pre>SVR()</pre></div></div></div><div class=\"sk-serial\"><div class=\"sk-item\"><div class=\"sk-estimator sk-toggleable\"><input class=\"sk-toggleable__control sk-hidden--visually\" id=\"sk-estimator-id-10\" type=\"checkbox\" ><label for=\"sk-estimator-id-10\" class=\"sk-toggleable__label sk-toggleable__label-arrow\">SVR</label><div class=\"sk-toggleable__content\"><pre>SVR()</pre></div></div></div></div></div></div></div></div></div></div>"
      ],
      "text/plain": [
       "GridSearchCV(cv=5, estimator=SVR(),\n",
       "             param_grid=[{'C': [10.0, 30.0, 100.0, 300.0, 1000.0, 3000.0,\n",
       "                                10000.0, 30000.0],\n",
       "                          'kernel': ['linear']},\n",
       "                         {'C': [1.0, 3.0, 10.0, 30.0, 100.0, 300.0, 1000.0],\n",
       "                          'gamma': [0.01, 0.03, 0.1, 0.3, 1.0, 3.0],\n",
       "                          'kernel': ['rbf']}],\n",
       "             scoring='neg_mean_squared_error', verbose=2)"
      ]
     },
     "execution_count": 43,
     "metadata": {},
     "output_type": "execute_result"
    }
   ],
   "source": [
    "from sklearn.svm import SVR\n",
    "\n",
    "param_grid = [\n",
    "        {'kernel': ['linear'], 'C': [10., 30., 100., 300., 1000., 3000., 10000., 30000.0]},\n",
    "        {'kernel': ['rbf'], 'C': [1.0, 3.0, 10., 30., 100., 300., 1000.0],\n",
    "         'gamma': [0.01, 0.03, 0.1, 0.3, 1.0, 3.0]},\n",
    "    ]\n",
    "\n",
    "svm_reg = SVR()\n",
    "grid_search = GridSearchCV(svm_reg, param_grid, cv=5, scoring='neg_mean_squared_error', verbose=2)\n",
    "grid_search.fit(housing_prepared, housing_labels)"
   ]
  },
  {
   "cell_type": "code",
   "execution_count": 45,
   "id": "c93f1844",
   "metadata": {},
   "outputs": [
    {
     "data": {
      "text/plain": [
       "70286.61835658147"
      ]
     },
     "execution_count": 45,
     "metadata": {},
     "output_type": "execute_result"
    }
   ],
   "source": [
    "negative_mse = grid_search.best_score_\n",
    "rmse = np.sqrt(-negative_mse)\n",
    "rmse"
   ]
  },
  {
   "cell_type": "code",
   "execution_count": 46,
   "id": "95a94d7d",
   "metadata": {},
   "outputs": [
    {
     "data": {
      "text/plain": [
       "{'C': 30000.0, 'kernel': 'linear'}"
      ]
     },
     "execution_count": 46,
     "metadata": {},
     "output_type": "execute_result"
    }
   ],
   "source": [
    "grid_search.best_params_"
   ]
  },
  {
   "cell_type": "code",
   "execution_count": null,
   "id": "c94007e4",
   "metadata": {},
   "outputs": [],
   "source": []
  },
  {
   "cell_type": "code",
   "execution_count": null,
   "id": "48e8f184",
   "metadata": {},
   "outputs": [],
   "source": []
  }
 ],
 "metadata": {
  "kernelspec": {
   "display_name": "Python 3 (ipykernel)",
   "language": "python",
   "name": "python3"
  },
  "language_info": {
   "codemirror_mode": {
    "name": "ipython",
    "version": 3
   },
   "file_extension": ".py",
   "mimetype": "text/x-python",
   "name": "python",
   "nbconvert_exporter": "python",
   "pygments_lexer": "ipython3",
   "version": "3.9.12"
  }
 },
 "nbformat": 4,
 "nbformat_minor": 5
}
