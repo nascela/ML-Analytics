{
 "cells": [
  {
   "cell_type": "code",
   "execution_count": 1,
   "id": "b0f65631",
   "metadata": {
    "ExecuteTime": {
     "end_time": "2023-05-13T16:22:22.547688Z",
     "start_time": "2023-05-13T16:22:13.089345Z"
    }
   },
   "outputs": [
    {
     "name": "stderr",
     "output_type": "stream",
     "text": [
      "/Users/nascela/anaconda3/lib/python3.10/site-packages/sklearn/datasets/_openml.py:932: FutureWarning: The default value of `parser` will change from `'liac-arff'` to `'auto'` in 1.4. You can set `parser='auto'` to silence this warning. Therefore, an `ImportError` will be raised from 1.4 if the dataset is dense and pandas is not installed. Note that the pandas parser may return different data types. See the Notes Section in fetch_openml's API doc for details.\n",
      "  warn(\n"
     ]
    },
    {
     "data": {
      "text/plain": "dict_keys(['data', 'target', 'frame', 'categories', 'feature_names', 'target_names', 'DESCR', 'details', 'url'])"
     },
     "execution_count": 1,
     "metadata": {},
     "output_type": "execute_result"
    }
   ],
   "source": [
    "from sklearn.datasets import fetch_openml\n",
    "mnist = fetch_openml('mnist_784', version=1, as_frame=False)\n",
    "mnist.keys()"
   ]
  },
  {
   "cell_type": "markdown",
   "source": [],
   "metadata": {
    "collapsed": false
   }
  },
  {
   "cell_type": "code",
   "execution_count": 2,
   "id": "10156cb3",
   "metadata": {
    "ExecuteTime": {
     "end_time": "2023-05-13T16:22:50.748760Z",
     "start_time": "2023-05-13T16:22:50.734731Z"
    }
   },
   "outputs": [],
   "source": [
    "# mnist.DESCR"
   ]
  },
  {
   "cell_type": "code",
   "execution_count": 3,
   "id": "088a96e5",
   "metadata": {
    "ExecuteTime": {
     "end_time": "2023-05-13T16:22:51.381171Z",
     "start_time": "2023-05-13T16:22:51.360903Z"
    }
   },
   "outputs": [
    {
     "data": {
      "text/plain": "(70000, 784)"
     },
     "execution_count": 3,
     "metadata": {},
     "output_type": "execute_result"
    }
   ],
   "source": [
    "X, Y = mnist[\"data\"], mnist[\"target\"]\n",
    "X.shape"
   ]
  },
  {
   "cell_type": "code",
   "execution_count": 5,
   "id": "ba9aad84",
   "metadata": {
    "ExecuteTime": {
     "end_time": "2023-05-13T16:23:12.686400Z",
     "start_time": "2023-05-13T16:23:12.657704Z"
    }
   },
   "outputs": [
    {
     "data": {
      "text/plain": "array(['5', '0', '4', ..., '4', '5', '6'], dtype=object)"
     },
     "execution_count": 5,
     "metadata": {},
     "output_type": "execute_result"
    }
   ],
   "source": [
    "Y"
   ]
  },
  {
   "cell_type": "code",
   "execution_count": null,
   "id": "d0aea930",
   "metadata": {},
   "outputs": [],
   "source": [
    "import matplotlib as mpl\n",
    "import matplotlib.pyplot as plt\n",
    "\n",
    "some_digit = X[0]\n",
    "some_digit_image = some_digit.reshape(28, 28)\n",
    "\n",
    "plt.imshow(some_digit_image, cmap = \"binary\")\n",
    "plt.axis(\"off\")\n",
    "plt.show()"
   ]
  },
  {
   "cell_type": "code",
   "execution_count": null,
   "id": "c5f4d317",
   "metadata": {},
   "outputs": [],
   "source": [
    "Y[0]"
   ]
  },
  {
   "cell_type": "code",
   "execution_count": null,
   "id": "0b8c6859",
   "metadata": {},
   "outputs": [],
   "source": [
    "import numpy as np\n",
    "Y = Y.astype(np.uint8)"
   ]
  },
  {
   "cell_type": "code",
   "execution_count": null,
   "id": "1e602886",
   "metadata": {},
   "outputs": [],
   "source": [
    "Y[0]"
   ]
  },
  {
   "cell_type": "code",
   "execution_count": null,
   "id": "4817c6c5",
   "metadata": {},
   "outputs": [],
   "source": [
    "X_train, X_test, Y_train, Y_test = X[:60000], X[60000:], Y[:60000], Y[60000:]"
   ]
  },
  {
   "cell_type": "code",
   "execution_count": null,
   "id": "5256a42e",
   "metadata": {},
   "outputs": [],
   "source": [
    "Y_train_5 = (Y_train == 5)\n",
    "Y_test_5 = (Y_test == 5)"
   ]
  },
  {
   "cell_type": "code",
   "execution_count": null,
   "id": "1baa05c8",
   "metadata": {},
   "outputs": [],
   "source": [
    "from sklearn.linear_model import SGDClassifier\n",
    "sgd_clf = SGDClassifier(random_state=42)\n",
    "sgd_clf.fit(X_train, Y_train_5)"
   ]
  },
  {
   "cell_type": "code",
   "execution_count": null,
   "id": "c0b1dec9",
   "metadata": {},
   "outputs": [],
   "source": [
    "sgd_clf.predict([some_digit])"
   ]
  },
  {
   "cell_type": "code",
   "execution_count": null,
   "id": "37539d0f",
   "metadata": {},
   "outputs": [],
   "source": [
    "from sklearn.model_selection import StratifiedKFold\n",
    "from sklearn.base import clone\n",
    "\n",
    "skfolds = StratifiedKFold(n_splits = 3, random_state = 42, shuffle=True)\n",
    "\n",
    "for train_index, test_index in skfolds.split(X_train, Y_train_5):\n",
    "    clone_clf = clone(sgd_clf)\n",
    "    X_train_folds = X_train[train_index]\n",
    "    Y_train_folds = Y_train_5[train_index]\n",
    "    X_test_fold = X_train[test_index]\n",
    "    Y_test_fold = Y_train_5[test_index]\n",
    "    \n",
    "    clone_clf.fit(X_train_folds, Y_train_folds)\n",
    "    Y_pred =clone_clf.predict(X_test_fold)\n",
    "    n_correct = sum(Y_pred == Y_test_fold)\n",
    "    print(n_correct/len(Y_pred))"
   ]
  },
  {
   "cell_type": "code",
   "execution_count": null,
   "id": "1c88d700",
   "metadata": {},
   "outputs": [],
   "source": [
    "from sklearn.model_selection import cross_val_score\n",
    "cross_val_score(sgd_clf, X_train, Y_train_5, cv = 3, scoring=\"accuracy\")"
   ]
  },
  {
   "cell_type": "code",
   "execution_count": null,
   "id": "0d0a4499",
   "metadata": {},
   "outputs": [],
   "source": [
    "from sklearn.base import BaseEstimator\n",
    "\n",
    "class Never5Classifier(BaseEstimator):\n",
    "    def fit(self, X, Y = None):\n",
    "        pass\n",
    "    def predict(self, X):\n",
    "        return np.zeros((len(X), 1), dtype = bool)\n",
    "    "
   ]
  },
  {
   "cell_type": "code",
   "execution_count": null,
   "id": "20c526a0",
   "metadata": {},
   "outputs": [],
   "source": [
    "never_5_clf = Never5Classifier()\n",
    "cross_val_score(never_5_clf, X_train, Y_train_5, cv = 3, scoring = \"accuracy\")"
   ]
  },
  {
   "cell_type": "code",
   "execution_count": null,
   "id": "b3bfc3f8",
   "metadata": {},
   "outputs": [],
   "source": [
    "from sklearn.model_selection import cross_val_predict\n",
    "\n",
    "Y_train_pred = cross_val_predict(sgd_clf,  X_train, Y_train_5, cv = 3)"
   ]
  },
  {
   "cell_type": "code",
   "execution_count": null,
   "id": "6d19e64e",
   "metadata": {},
   "outputs": [],
   "source": [
    "from sklearn.metrics import confusion_matrix\n",
    "confusion_matrix(Y_train_5, Y_train_pred)"
   ]
  },
  {
   "cell_type": "code",
   "execution_count": null,
   "id": "03b2515f",
   "metadata": {},
   "outputs": [],
   "source": [
    "from sklearn.metrics import  precision_score, recall_score\n",
    "\n",
    "precision_score(Y_train_5, Y_train_pred)\n"
   ]
  },
  {
   "cell_type": "code",
   "execution_count": null,
   "id": "17183f8b",
   "metadata": {},
   "outputs": [],
   "source": [
    "\n",
    "recall_score(Y_train_5, Y_train_pred)"
   ]
  },
  {
   "cell_type": "code",
   "execution_count": null,
   "id": "0ab60135",
   "metadata": {},
   "outputs": [],
   "source": [
    "from sklearn.metrics import  f1_score\n",
    "f1_score(Y_train_5, Y_train_pred)"
   ]
  },
  {
   "cell_type": "code",
   "execution_count": null,
   "id": "83c641b9",
   "metadata": {},
   "outputs": [],
   "source": [
    "Y_scores = sgd_clf.decision_function([some_digit])\n",
    "Y_scores\n"
   ]
  },
  {
   "cell_type": "code",
   "execution_count": null,
   "id": "42b90e51",
   "metadata": {},
   "outputs": [],
   "source": [
    "theshold = 0\n",
    "Y_some_digit_pred = (Y_scores > theshold)\n",
    "Y_some_digit_pred"
   ]
  },
  {
   "cell_type": "code",
   "execution_count": null,
   "id": "4d20d337",
   "metadata": {},
   "outputs": [],
   "source": [
    "theshold = 8000\n",
    "Y_some_digit_pred = (Y_scores > theshold)\n",
    "Y_some_digit_pred"
   ]
  },
  {
   "cell_type": "code",
   "execution_count": null,
   "id": "92ace98c",
   "metadata": {},
   "outputs": [],
   "source": [
    "Y_scores = cross_val_predict(sgd_clf, X_train, Y_train_5, cv=3, method=\"decision_function\")"
   ]
  },
  {
   "cell_type": "code",
   "execution_count": null,
   "id": "70668451",
   "metadata": {},
   "outputs": [],
   "source": [
    "from sklearn.metrics import precision_recall_curve\n",
    "\n",
    "precisions, recalls, thresholds = precision_recall_curve(Y_train_5, Y_scores)"
   ]
  },
  {
   "cell_type": "code",
   "execution_count": null,
   "id": "be1a7e4b",
   "metadata": {},
   "outputs": [],
   "source": [
    "def plot_precision_recall_vs_threshold(precisions, recalls, thresholds):\n",
    "    plt.plot(thresholds, precisions[:-1], \"b--\", label=\"Precision\", linewidth=2)\n",
    "    plt.plot(thresholds, recalls[:-1], \"g-\", label=\"Recall\", linewidth=2)\n",
    "    plt.legend(loc=\"center right\", fontsize=16) # Not shown in the book\n",
    "    plt.xlabel(\"Threshold\", fontsize=16)        # Not shown\n",
    "    plt.grid(True)                              # Not shown\n",
    "    plt.axis([-50000, 50000, 0, 1])             # Not shown\n",
    "\n",
    "\n",
    "\n",
    "recall_90_precision = recalls[np.argmax(precisions >= 0.90)]\n",
    "threshold_90_precision = thresholds[np.argmax(precisions >= 0.90)]\n",
    "\n",
    "\n",
    "plt.figure(figsize=(8, 4))                                                                  # Not shown\n",
    "plot_precision_recall_vs_threshold(precisions, recalls, thresholds)\n",
    "plt.plot([threshold_90_precision, threshold_90_precision], [0., 0.9], \"r:\")                 # Not shown\n",
    "plt.plot([-50000, threshold_90_precision], [0.9, 0.9], \"r:\")                                # Not shown\n",
    "plt.plot([-50000, threshold_90_precision], [recall_90_precision, recall_90_precision], \"r:\")# Not shown\n",
    "plt.plot([threshold_90_precision], [0.9], \"ro\")                                             # Not shown\n",
    "plt.plot([threshold_90_precision], [recall_90_precision], \"ro\")                             # Not shown\n",
    "# save_fig(\"precision_recall_vs_threshold_plot\")                                              # Not shown\n",
    "plt.show()"
   ]
  },
  {
   "cell_type": "code",
   "execution_count": null,
   "id": "c9dce0d9",
   "metadata": {},
   "outputs": [],
   "source": [
    "threshold_90_precision = thresholds[np.argmax(precisions >= 0.90)]\n",
    "Y_train_pred_90 = (Y_scores >= threshold_90_precision)"
   ]
  },
  {
   "cell_type": "code",
   "execution_count": null,
   "id": "09969c30",
   "metadata": {},
   "outputs": [],
   "source": [
    "precision_score(Y_train_5, Y_train_pred_90)"
   ]
  },
  {
   "cell_type": "code",
   "execution_count": null,
   "id": "ce8d2ca8",
   "metadata": {},
   "outputs": [],
   "source": [
    "recall_score(Y_train_5, Y_train_pred_90)"
   ]
  },
  {
   "cell_type": "code",
   "execution_count": null,
   "id": "13e83c18",
   "metadata": {},
   "outputs": [],
   "source": [
    "from sklearn.metrics import roc_curve\n",
    "fpr, tpr, thresholds = roc_curve(Y_train_5, Y_scores)\n"
   ]
  },
  {
   "cell_type": "code",
   "execution_count": null,
   "id": "0c3b3ab9",
   "metadata": {},
   "outputs": [],
   "source": [
    "def plot_roc_curve(fpr, tpr, label=None):\n",
    "    plt.plot(fpr, tpr, linewidth=2, label=label)\n",
    "    plt.plot([0, 1], [0, 1], 'k--') # dashed diagonal\n",
    "    plt.axis([0, 1, 0, 1])                                    # Not shown in the book\n",
    "    plt.xlabel('False Positive Rate (Fall-Out)', fontsize=16) # Not shown\n",
    "    plt.ylabel('True Positive Rate (Recall)', fontsize=16)    # Not shown\n",
    "    plt.grid(True)                                            # Not shown\n",
    "\n",
    "plt.figure(figsize=(8, 6))                                    # Not shown\n",
    "plot_roc_curve(fpr, tpr)\n",
    "fpr_90 = fpr[np.argmax(tpr >= recall_90_precision)]           # Not shown\n",
    "plt.plot([fpr_90, fpr_90], [0., recall_90_precision], \"r:\")   # Not shown\n",
    "plt.plot([0.0, fpr_90], [recall_90_precision, recall_90_precision], \"r:\")  # Not shown\n",
    "plt.plot([fpr_90], [recall_90_precision], \"ro\")               # Not shown\n",
    "# save_fig(\"roc_curve_plot\")                                    # Not shown\n",
    "plt.show()"
   ]
  },
  {
   "cell_type": "code",
   "execution_count": null,
   "id": "5e69e5f6",
   "metadata": {},
   "outputs": [],
   "source": [
    "from sklearn.metrics import roc_auc_score\n",
    "roc_auc_score(Y_train_5, Y_scores)"
   ]
  },
  {
   "cell_type": "code",
   "execution_count": null,
   "id": "c7224dbd",
   "metadata": {},
   "outputs": [],
   "source": [
    "from sklearn.ensemble import RandomForestClassifier\n",
    "\n",
    "forest_clf = RandomForestClassifier(random_state=42)\n",
    "y_probas_forest = cross_val_predict(forest_clf, X_train, Y_train_5, cv = 3, method = \"predict_proba\")\n"
   ]
  },
  {
   "cell_type": "code",
   "execution_count": null,
   "id": "04481dea",
   "metadata": {},
   "outputs": [],
   "source": [
    "Y_scores_forest = y_probas_forest[:, 1]\n",
    "fpr_forest, tpr_forest, thresholds_forest = roc_curve(Y_train_5, Y_scores_forest)"
   ]
  },
  {
   "cell_type": "code",
   "execution_count": null,
   "id": "0a4359ce",
   "metadata": {},
   "outputs": [],
   "source": [
    "recall_for_forest = tpr_forest[np.argmax(fpr_forest >= fpr_90)]\n",
    "\n",
    "plt.figure(figsize=(8, 6))\n",
    "plt.plot(fpr, tpr, \"b:\", linewidth=2, label=\"SGD\")\n",
    "plot_roc_curve(fpr_forest, tpr_forest, \"Random Forest\")\n",
    "plt.plot([fpr_90, fpr_90], [0., recall_90_precision], \"r:\")\n",
    "plt.plot([0.0, fpr_90], [recall_90_precision, recall_90_precision], \"r:\")\n",
    "plt.plot([fpr_90], [recall_90_precision], \"ro\")\n",
    "plt.plot([fpr_90, fpr_90], [0., recall_for_forest], \"r:\")\n",
    "plt.plot([fpr_90], [recall_for_forest], \"ro\")\n",
    "plt.grid(True)\n",
    "plt.legend(loc=\"lower right\", fontsize=16)\n",
    "# save_fig(\"roc_curve_comparison_plot\")\n",
    "plt.show()"
   ]
  },
  {
   "cell_type": "code",
   "execution_count": null,
   "id": "43659184",
   "metadata": {},
   "outputs": [],
   "source": [
    "roc_auc_score(Y_train_5, Y_scores_forest)"
   ]
  },
  {
   "cell_type": "code",
   "execution_count": null,
   "id": "51c7c7f2",
   "metadata": {},
   "outputs": [],
   "source": [
    "Y_train_pred_forest = cross_val_predict(forest_clf, X_train, Y_train_5, cv=3)\n",
    "# y_probas_forest = cross_val_predict(forest_clf, X_train, Y_train_5, cv = 3, method = \"predict_proba\")\n",
    "\n",
    "precision_score(Y_train_5, Y_train_pred_forest)"
   ]
  },
  {
   "cell_type": "code",
   "execution_count": null,
   "id": "6acf0939",
   "metadata": {},
   "outputs": [],
   "source": [
    " recall_score(Y_train_5, Y_train_pred_forest)"
   ]
  },
  {
   "cell_type": "code",
   "execution_count": null,
   "id": "74bafacf",
   "metadata": {},
   "outputs": [],
   "source": [
    "from sklearn.svm import SVC\n",
    "svm_clf = SVC()\n",
    "svm_clf.fit(X_train, Y_train)\n",
    "svm_clf.predict([some_digit])\n"
   ]
  },
  {
   "cell_type": "code",
   "execution_count": null,
   "id": "adcc43b7",
   "metadata": {},
   "outputs": [],
   "source": [
    "some_digit_score =svm_clf.decision_function([some_digit])\n",
    "some_digit_score"
   ]
  },
  {
   "cell_type": "code",
   "execution_count": null,
   "id": "2f117ebf",
   "metadata": {},
   "outputs": [],
   "source": [
    "from sklearn.multiclass import OneVsRestClassifier\n",
    "ovr_clf = OneVsRestClassifier(SVC())\n",
    "ovr_clf.fit(X_train, Y_train)\n",
    "ovr_clf.predict([some_digit])"
   ]
  },
  {
   "cell_type": "code",
   "execution_count": null,
   "id": "41044025",
   "metadata": {},
   "outputs": [],
   "source": [
    "sgd_clf.fit(X_train, Y_train)"
   ]
  },
  {
   "cell_type": "code",
   "execution_count": null,
   "id": "5f329ba2",
   "metadata": {},
   "outputs": [],
   "source": [
    "sgd_clf.predict([some_digit])"
   ]
  },
  {
   "cell_type": "code",
   "execution_count": null,
   "id": "c83454bd",
   "metadata": {},
   "outputs": [],
   "source": [
    "sgd_clf.decision_function([some_digit])"
   ]
  },
  {
   "cell_type": "code",
   "execution_count": null,
   "id": "7580a519",
   "metadata": {},
   "outputs": [],
   "source": [
    "cross_val_score(sgd_clf, X_train, Y_train, cv = 3, scoring=\"accuracy\")"
   ]
  },
  {
   "cell_type": "code",
   "execution_count": null,
   "id": "2533eaca",
   "metadata": {},
   "outputs": [],
   "source": [
    "from sklearn.preprocessing import StandardScaler\n",
    "scaler = StandardScaler()\n",
    "X_train_scaled = scaler.fit_transform(X_train.astype(np.float64))\n",
    "cross_val_score(sgd_clf, X_train_scaled, Y_train, cv = 3, scoring=\"accuracy\")"
   ]
  },
  {
   "cell_type": "code",
   "execution_count": null,
   "id": "42bc8d08",
   "metadata": {},
   "outputs": [],
   "source": [
    "Y_train_pred = cross_val_predict(sgd_clf, X_train_scaled, Y_train, cv=3)\n",
    "conf_mx = confusion_matrix(Y_train, Y_train_pred)\n",
    "conf_mx"
   ]
  },
  {
   "cell_type": "code",
   "execution_count": null,
   "id": "d6e7bc80",
   "metadata": {},
   "outputs": [],
   "source": [
    "plt.matshow(conf_mx, cmap = plt.cm.gray)\n",
    "plt.show()"
   ]
  },
  {
   "cell_type": "code",
   "execution_count": null,
   "id": "16368d8f",
   "metadata": {},
   "outputs": [],
   "source": [
    "row_sums = conf_mx.sum(axis=1, keepdims=True)\n",
    "norm_conf_mx = conf_mx/row_sums\n",
    "np.fill_diagonal(norm_conf_mx, 0)\n",
    "plt.matshow(norm_conf_mx, cmap=plt.cm.gray)\n",
    "plt.show()"
   ]
  },
  {
   "cell_type": "code",
   "execution_count": null,
   "id": "437b763c",
   "metadata": {},
   "outputs": [],
   "source": [
    "def plot_digit(data):\n",
    "    image = data.reshape(28, 28)\n",
    "    plt.imshow(image, cmap = mpl.cm.binary,\n",
    "               interpolation=\"nearest\")\n",
    "    plt.axis(\"off\")\n",
    "\n",
    "    \n",
    "    \n",
    "def plot_digits(instances, images_per_row=10, **options):\n",
    "    size = 28\n",
    "    images_per_row = min(len(instances), images_per_row)\n",
    "    # This is equivalent to n_rows = ceil(len(instances) / images_per_row):\n",
    "    n_rows = (len(instances) - 1) // images_per_row + 1\n",
    "\n",
    "    # Append empty images to fill the end of the grid, if needed:\n",
    "    n_empty = n_rows * images_per_row - len(instances)\n",
    "    padded_instances = np.concatenate([instances, np.zeros((n_empty, size * size))], axis=0)\n",
    "\n",
    "    # Reshape the array so it's organized as a grid containing 28×28 images:\n",
    "    image_grid = padded_instances.reshape((n_rows, images_per_row, size, size))\n",
    "\n",
    "    # Combine axes 0 and 2 (vertical image grid axis, and vertical image axis),\n",
    "    # and axes 1 and 3 (horizontal axes). We first need to move the axes that we\n",
    "    # want to combine next to each other, using transpose(), and only then we\n",
    "    # can reshape:\n",
    "    big_image = image_grid.transpose(0, 2, 1, 3).reshape(n_rows * size,\n",
    "                                                         images_per_row * size)\n",
    "    # Now that we have a big image, we just need to show it:\n",
    "    plt.imshow(big_image, cmap = mpl.cm.binary, **options)\n",
    "    plt.axis(\"off\")"
   ]
  },
  {
   "cell_type": "code",
   "execution_count": null,
   "id": "016f7e44",
   "metadata": {},
   "outputs": [],
   "source": [
    "cl_a, cl_b = 3, 5\n",
    "X_aa = X_train[(Y_train == cl_a) & (Y_train_pred == cl_a)]\n",
    "X_ab = X_train[(Y_train == cl_a) & (Y_train_pred == cl_b)]\n",
    "X_ba = X_train[(Y_train == cl_b) & (Y_train_pred == cl_a)]\n",
    "X_bb = X_train[(Y_train == cl_b) & (Y_train_pred == cl_b)]\n",
    "\n",
    "plt.figure(figsize=(8,8))\n",
    "plt.subplot(221); plot_digits(X_aa[:25], images_per_row=5)\n",
    "plt.subplot(222); plot_digits(X_ab[:25], images_per_row=5)\n",
    "plt.subplot(223); plot_digits(X_ba[:25], images_per_row=5)\n",
    "plt.subplot(224); plot_digits(X_bb[:25], images_per_row=5)\n",
    "# save_fig(\"error_analysis_digits_plot\")\n",
    "plt.show()"
   ]
  },
  {
   "cell_type": "code",
   "execution_count": null,
   "id": "a33f544f",
   "metadata": {},
   "outputs": [],
   "source": [
    "from sklearn.neighbors import KNeighborsClassifier\n",
    "\n",
    "Y_train_large = (Y_train >= 7)\n",
    "Y_train_odd = (Y_train % 2 == 1)\n",
    "Y_multilabel = np.c_[Y_train_large, Y_train_odd]\n",
    "\n",
    "knn_clf = KNeighborsClassifier()\n",
    "knn_clf.fit(X_train, Y_multilabel)"
   ]
  },
  {
   "cell_type": "code",
   "execution_count": null,
   "id": "b19c12d5",
   "metadata": {},
   "outputs": [],
   "source": [
    "knn_clf.predict([some_digit])"
   ]
  },
  {
   "cell_type": "code",
   "execution_count": null,
   "id": "b3a97acc",
   "metadata": {},
   "outputs": [],
   "source": [
    "Y_train_knn_pred = cross_val_predict(knn_clf, X_train, Y_multilabel, cv = 3)\n",
    "f1_score(Y_multilabel, Y_train_knn_pred, average=\"macro\")"
   ]
  },
  {
   "cell_type": "code",
   "execution_count": null,
   "id": "7d73aa88",
   "metadata": {},
   "outputs": [],
   "source": [
    "noise = np.random.randint(0, 100,(len(X_train), 784))\n",
    "X_train_mod = X_train + noise\n",
    "noise = np.random.randint(0, 100,(len(X_test), 784))\n",
    "X_test_mod = X_test + noise\n",
    "Y_train_mod = X_train\n",
    "Y_test_mod = X_test"
   ]
  },
  {
   "cell_type": "code",
   "execution_count": null,
   "id": "6dd4ca45",
   "metadata": {},
   "outputs": [],
   "source": [
    "some_index = 0\n",
    "plt.subplot(121); plot_digit(X_test_mod[some_index])\n",
    "plt.subplot(122); plot_digit(Y_test_mod[some_index])\n",
    "# save_fig(\"noisy_digit_example_plot\")\n",
    "plt.show()"
   ]
  },
  {
   "cell_type": "code",
   "execution_count": null,
   "id": "b80e7f88",
   "metadata": {},
   "outputs": [],
   "source": [
    "knn_clf.fit(X_train_mod, Y_train_mod)\n",
    "clean_digit =knn_clf.predict([X_test_mod[some_index]])\n",
    "plot_digit(clean_digit)"
   ]
  },
  {
   "cell_type": "code",
   "execution_count": null,
   "id": "fb4f3a34",
   "metadata": {},
   "outputs": [],
   "source": [
    "some_digit = X[0]\n",
    "some_digit_image = some_digit.reshape(28, 28)\n",
    "\n",
    "plt.imshow(some_digit_image, cmap = \"binary\")\n",
    "plt.axis(\"off\")\n",
    "plt.show()"
   ]
  },
  {
   "cell_type": "code",
   "execution_count": null,
   "id": "3594cdad",
   "metadata": {},
   "outputs": [],
   "source": [
    "plt.matshow(some_digit_image, cmap = \"binary\")"
   ]
  },
  {
   "cell_type": "code",
   "execution_count": null,
   "id": "810f04e1",
   "metadata": {},
   "outputs": [],
   "source": [
    "some_digit = X[1]\n",
    "some_digit_image = some_digit.reshape(28, 28)\n",
    "\n",
    "plt.matshow(some_digit_image, cmap = \"binary\")"
   ]
  },
  {
   "cell_type": "code",
   "execution_count": null,
   "id": "4a8849eb",
   "metadata": {},
   "outputs": [],
   "source": [
    "Y[1]"
   ]
  },
  {
   "cell_type": "code",
   "execution_count": null,
   "id": "813f4a41",
   "metadata": {},
   "outputs": [],
   "source": [
    "from scipy.ndimage.interpolation import shift"
   ]
  },
  {
   "cell_type": "code",
   "execution_count": null,
   "id": "34db3982",
   "metadata": {},
   "outputs": [],
   "source": [
    "def Shift_image(image, dx, dy):\n",
    "    return shift(image, [-dy, dx], cval=0, mode=\"constant\")\n",
    "#     shifted_image = shifted_image.reshape([-1]).reshape(28,28)\n",
    "#     shifted_image = shifted_image.reshape(28,28)"
   ]
  },
  {
   "cell_type": "code",
   "execution_count": null,
   "id": "5ad4c82f",
   "metadata": {},
   "outputs": [],
   "source": [
    "some_digit = X[101]\n",
    "reshaped_image = some_digit.reshape(28, 28)\n",
    "shifted_image = Shift_image(reshaped_image, 0, 5)\n",
    "plt.matshow(shifted_image, cmap = \"binary\")"
   ]
  },
  {
   "cell_type": "code",
   "execution_count": null,
   "id": "0978ac98",
   "metadata": {},
   "outputs": [],
   "source": [
    "some_digit = X[102]\n",
    "reshaped_image = some_digit.reshape(28, 28)\n",
    "shifted_image = Shift_image(reshaped_image, 5, 5)\n",
    "plt.matshow(shifted_image, cmap = \"binary\")\n",
    "\n",
    "\n",
    "plt.subplot(121)\n",
    "plt.title(\"Defolt\", fontsize=14)\n",
    "plt.imshow(reshaped_image, cmap = \"binary\")\n",
    "\n",
    "\n",
    "plt.subplot(122)\n",
    "plt.title(\"Shifted right and up\", fontsize=14)\n",
    "plt.imshow(shifted_image, cmap = \"binary\")\n",
    "\n",
    "plt.show()\n",
    "\n",
    "print(Y[102])"
   ]
  },
  {
   "cell_type": "markdown",
   "id": "613b0487",
   "metadata": {},
   "source": [
    "# Tinanic dataset"
   ]
  },
  {
   "cell_type": "code",
   "execution_count": null,
   "id": "7f5b3f86",
   "metadata": {
    "ExecuteTime": {
     "start_time": "2023-04-18T19:04:16.850366Z",
     "end_time": "2023-04-18T19:04:16.870295Z"
    }
   },
   "outputs": [],
   "source": [
    "import os\n",
    "import urllib.request\n",
    "\n",
    "TITANIC_PATH = os.path.join(\"datasets\", \"titanic\")\n",
    "DOWNLOAD_URL = \"https://raw.githubusercontent.com/ageron/handson-ml2/master/datasets/titanic/\"\n",
    "\n",
    "def fetch_titanic_data(url=DOWNLOAD_URL, path=TITANIC_PATH):\n",
    "    if not os.path.isdir(path):\n",
    "        os.makedirs(path)\n",
    "    for filename in (\"train.csv\", \"test.csv\"):\n",
    "        filepath = os.path.join(path, filename)\n",
    "        if not os.path.isfile(filepath):\n",
    "            print(\"Downloading\", filename)\n",
    "            urllib.request.urlretrieve(url + filename, filepath)\n",
    "\n",
    "fetch_titanic_data()\n",
    "import pandas as pd\n",
    "\n",
    "def load_titanic_data(filename, titanic_path=TITANIC_PATH):\n",
    "    csv_path = os.path.join(titanic_path, filename)\n",
    "    return pd.read_csv(csv_path)\n",
    "\n",
    "train_data = load_titanic_data(\"train.csv\")\n",
    "test_data = load_titanic_data(\"test.csv\")"
   ]
  },
  {
   "cell_type": "code",
   "execution_count": null,
   "id": "cf8971a9",
   "metadata": {
    "ExecuteTime": {
     "start_time": "2023-04-18T19:04:17.675587Z",
     "end_time": "2023-04-18T19:04:17.690551Z"
    }
   },
   "outputs": [],
   "source": [
    "train_data"
   ]
  },
  {
   "cell_type": "code",
   "execution_count": null,
   "outputs": [],
   "source": [
    "test_data"
   ],
   "metadata": {
    "collapsed": false,
    "ExecuteTime": {
     "start_time": "2023-04-18T19:04:18.629699Z",
     "end_time": "2023-04-18T19:04:18.656706Z"
    }
   }
  },
  {
   "cell_type": "code",
   "execution_count": null,
   "id": "cb7744ac",
   "metadata": {
    "ExecuteTime": {
     "start_time": "2023-04-18T19:04:22.510389Z",
     "end_time": "2023-04-18T19:04:22.527710Z"
    }
   },
   "outputs": [],
   "source": [
    "train_data = train_data.set_index(\"PassengerId\")\n",
    "test_data = test_data.set_index(\"PassengerId\")"
   ]
  },
  {
   "cell_type": "code",
   "execution_count": null,
   "id": "af21f4f9",
   "metadata": {
    "ExecuteTime": {
     "start_time": "2023-04-18T19:04:23.444139Z",
     "end_time": "2023-04-18T19:04:23.451610Z"
    }
   },
   "outputs": [],
   "source": [
    "train_data.info()"
   ]
  },
  {
   "cell_type": "code",
   "execution_count": null,
   "id": "acbec999",
   "metadata": {
    "ExecuteTime": {
     "start_time": "2023-04-18T19:04:25.289586Z",
     "end_time": "2023-04-18T19:04:25.304942Z"
    }
   },
   "outputs": [],
   "source": [
    "train_data[train_data[\"Sex\"]==\"female\"][\"Age\"].median()"
   ]
  },
  {
   "cell_type": "code",
   "execution_count": null,
   "id": "0964bca3",
   "metadata": {
    "ExecuteTime": {
     "start_time": "2023-04-18T19:04:25.845404Z",
     "end_time": "2023-04-18T19:04:25.857881Z"
    }
   },
   "outputs": [],
   "source": [
    "train_data[(train_data[\"Pclass\"]==1) & (train_data[\"Sex\"]==\"female\")][\"Age\"].median()"
   ]
  },
  {
   "cell_type": "code",
   "execution_count": null,
   "outputs": [],
   "source": [],
   "metadata": {
    "collapsed": false
   }
  },
  {
   "cell_type": "code",
   "execution_count": null,
   "id": "96615d0d",
   "metadata": {
    "ExecuteTime": {
     "start_time": "2023-04-18T19:10:07.107626Z",
     "end_time": "2023-04-18T19:10:07.736835Z"
    }
   },
   "outputs": [],
   "source": [
    "from sklearn.pipeline import Pipeline\n",
    "from sklearn.impute import SimpleImputer\n",
    "from sklearn.preprocessing import StandardScaler\n",
    "from sklearn.preprocessing import OneHotEncoder\n",
    "from sklearn.compose import ColumnTransformer\n",
    "\n",
    "\n",
    "num_pipeline = Pipeline([\n",
    "        (\"imputer\", SimpleImputer(strategy=\"median\")),\n",
    "        (\"scaler\", StandardScaler())\n",
    "    ])\n",
    "\n",
    "\n",
    "cat_pipeline = Pipeline([\n",
    "        (\"imputer\", SimpleImputer(strategy=\"most_frequent\")),\n",
    "        (\"cat_encoder\", OneHotEncoder(sparse=False)),\n",
    "    ])\n",
    "\n",
    "\n",
    "\n",
    "num_attribs = [\"Age\", \"SibSp\", \"Parch\", \"Fare\"]\n",
    "cat_attribs = [\"Pclass\", \"Sex\", \"Embarked\"]\n",
    "\n",
    "preprocess_pipeline = ColumnTransformer([\n",
    "        (\"num\", num_pipeline, num_attribs),\n",
    "        (\"cat\", cat_pipeline, cat_attribs),\n",
    "    ])\n",
    "\n",
    "X_train = preprocess_pipeline.fit_transform(train_data[num_attribs + cat_attribs])\n"
   ]
  },
  {
   "cell_type": "code",
   "execution_count": null,
   "id": "983147bf",
   "metadata": {
    "ExecuteTime": {
     "start_time": "2023-04-18T19:10:08.816368Z",
     "end_time": "2023-04-18T19:10:08.832936Z"
    }
   },
   "outputs": [],
   "source": [
    "X_train"
   ]
  },
  {
   "cell_type": "code",
   "execution_count": null,
   "id": "42b65935",
   "metadata": {
    "ExecuteTime": {
     "start_time": "2023-04-18T19:10:24.465613Z",
     "end_time": "2023-04-18T19:10:24.489158Z"
    }
   },
   "outputs": [],
   "source": [
    "y_train = train_data[\"Survived\"]"
   ]
  },
  {
   "cell_type": "code",
   "execution_count": null,
   "id": "f29adda9",
   "metadata": {
    "ExecuteTime": {
     "start_time": "2023-04-18T19:10:28.289544Z",
     "end_time": "2023-04-18T19:10:28.307489Z"
    }
   },
   "outputs": [],
   "source": [
    "y_train"
   ]
  },
  {
   "cell_type": "code",
   "execution_count": null,
   "id": "34c1e1a0",
   "metadata": {},
   "outputs": [],
   "source": [
    "from sklearn.ensemble import RandomForestClassifier\n",
    "\n",
    "forest_clf = RandomForestClassifier(n_estimators = 100, random_state=42)\n",
    "forest_clf.fit(X_train, y_train)"
   ]
  },
  {
   "cell_type": "code",
   "execution_count": null,
   "id": "52de030e",
   "metadata": {},
   "outputs": [],
   "source": [
    "X_test = preprocess_pipeline.transform(test_data[num_attribs + cat_attribs])\n",
    "y_pred =forest_clf.predict(X_test)"
   ]
  },
  {
   "cell_type": "code",
   "execution_count": null,
   "id": "52572f67",
   "metadata": {},
   "outputs": [],
   "source": [
    "from sklearn.model_selection import cross_val_score\n",
    "\n",
    "forest_scores = cross_val_score(forest_clf, X_train, y_train, cv = 10)\n",
    "forest_scores.mean()"
   ]
  },
  {
   "cell_type": "code",
   "execution_count": null,
   "id": "67f8e959",
   "metadata": {},
   "outputs": [],
   "source": [
    "from sklearn.svm import SVC\n",
    "\n",
    "svm_clf = SVC(gamma=\"auto\")\n",
    "svm_scores = cross_val_score(svm_clf, X_train, y_train, cv=10)\n",
    "svm_scores.mean()"
   ]
  },
  {
   "cell_type": "code",
   "execution_count": null,
   "id": "acafc4dd",
   "metadata": {},
   "outputs": [],
   "source": [
    "import matplotlib.pyplot as plt\n",
    "\n",
    "plt.figure(figsize=(8, 4))\n",
    "plt.plot([1]*10, svm_scores, \".\")\n",
    "plt.plot([2]*10, forest_scores, \".\")\n",
    "plt.boxplot([svm_scores, forest_scores], labels=(\"SVM\",\"Random Forest\"))\n",
    "plt.ylabel(\"Accuracy\", fontsize=14)\n",
    "plt.show()"
   ]
  },
  {
   "cell_type": "code",
   "execution_count": null,
   "id": "deac3834",
   "metadata": {},
   "outputs": [],
   "source": []
  }
 ],
 "metadata": {
  "kernelspec": {
   "display_name": "Python 3 (ipykernel)",
   "language": "python",
   "name": "python3"
  },
  "language_info": {
   "codemirror_mode": {
    "name": "ipython",
    "version": 3
   },
   "file_extension": ".py",
   "mimetype": "text/x-python",
   "name": "python",
   "nbconvert_exporter": "python",
   "pygments_lexer": "ipython3",
   "version": "3.9.12"
  }
 },
 "nbformat": 4,
 "nbformat_minor": 5
}
